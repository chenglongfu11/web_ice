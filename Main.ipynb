{
 "cells": [
  {
   "cell_type": "markdown",
   "metadata": {},
   "source": [
    "# IDA ICE Automation Tool\n",
    "\n",
    "## Updates of functions:\n",
    "1. Zone Clone\n",
    "2. Add windows and doors to zones ( Known gemotries, dimensions )\n",
    "\n",
    "## TO RUN\n",
    "1. Install IDA ICE 4.8 \n",
    "2. Windows Services Management Tool (system level)  -> start 'IDAMessageBrokerService -> Optional: Startup Type: Automatic\n",
    "3. Open the project\n",
    "4. Go to config.py: change APP_PATH and BUILDING_PATH. \n",
    "5. Zone Clone and windows add function:  \n",
    "  (1) BUILDING_PATH : your_project(web_ice)/buildings/ut1.idm  \n",
    "  (2) go to runScript.py and run it  \n",
    "  (3) You can see the IDA ICE GUI and moniter the automatic constrction in 3D tab directly  \n"
   ]
  },
  {
   "cell_type": "markdown",
   "metadata": {},
   "source": [
    "### Step 1 : configure your own application path and target building path  \n",
    "At first, [%load config.py], you can view the file and edit it in the next cell  \n",
    "Then,  put [%%writefile config.py] in the beginning of the content"
   ]
  },
  {
   "cell_type": "code",
   "execution_count": null,
   "metadata": {},
   "outputs": [],
   "source": [
    "%load config.py"
   ]
  },
  {
   "cell_type": "markdown",
   "metadata": {},
   "source": [
    "### Step2 retrieve the building model object"
   ]
  },
  {
   "cell_type": "code",
   "execution_count": 3,
   "metadata": {},
   "outputs": [],
   "source": [
    "from basic import *\n",
    "\n",
    "from runscript import RunScript\n",
    "from util import *\n",
    "import zoneclone"
   ]
  },
  {
   "cell_type": "code",
   "execution_count": 4,
   "metadata": {},
   "outputs": [],
   "source": [
    "\n",
    "# Building object\n",
    "building = connectIDA()"
   ]
  },
  {
   "cell_type": "markdown",
   "metadata": {},
   "source": [
    "### Step 3 : clone zones with known building height, floor height and number of floors"
   ]
  },
  {
   "cell_type": "code",
   "execution_count": 5,
   "metadata": {},
   "outputs": [
    {
     "name": "stdout",
     "output_type": "stream",
     "text": [
      "Changing ceiling height\n",
      "The current CEILING-HEIGHT value is 2.600000, and the type is <class 'float'>\n",
      "True\n",
      "True\n",
      "True\n",
      "True\n"
     ]
    },
    {
     "data": {
      "text/plain": [
       "True"
      ]
     },
     "execution_count": 5,
     "metadata": {},
     "output_type": "execute_result"
    }
   ],
   "source": [
    "# Clone zone\n",
    "building_ht = 22.5             \n",
    "floor_ht = 2.6                 \n",
    "num_floors = 5\n",
    "\n",
    "zoneClone = zoneclone.ZoneClone()\n",
    "result = zoneClone.clone_zone(building, floor_ht, num_floors)\n",
    "result"
   ]
  },
  {
   "cell_type": "markdown",
   "metadata": {},
   "source": [
    "### Step 4 : assign windows and doors  \n",
    "      If a list of wall width is provided, a window is generated in the middle of each wall  \n",
    "      You can assign them by providing the relative geometries of doors and windows on walls "
   ]
  },
  {
   "cell_type": "code",
   "execution_count": 6,
   "metadata": {},
   "outputs": [],
   "source": [
    "wall_width_list = [4, 7.5, 11.63, 10.27, 18.07, 20.587, 6.543, 8.72, 6.5176, 4, 6.48, 2.59, 31, 4, 9.886, 8.554,\n",
    "                       13.899, 11.15, 9.98]\n",
    "win_dx = 1.5\n",
    "win_dy = 1.2\n",
    "wins = []\n",
    "wall_height = 2.6\n",
    "for i in range(len(wall_width_list)):\n",
    "    width = wall_width_list[i]\n",
    "    if width > win_dx + 2 and wall_height > win_dy:  # to make sure it is in the zone\n",
    "        win = {}\n",
    "        win['w_wall_name'] = 'WALL_' + str(i + 1)\n",
    "        win['win_x'] = str(width / 2 - win_dx / 2)\n",
    "        win['win_y'] = '0.8'\n",
    "        win['win_dx'] = '1.5'\n",
    "        win['win_dy'] = '1.2'\n",
    "        wins.append(win)"
   ]
  },
  {
   "cell_type": "code",
   "execution_count": 7,
   "metadata": {},
   "outputs": [],
   "source": [
    "# Detailed window\n",
    "win2 = {}\n",
    "win2['w_wall_name'] = 'WALL_13'\n",
    "win2['win_x'] = '26.015'\n",
    "win2['win_y'] = '0.8'\n",
    "win2['win_dx'] = '3'\n",
    "win2['win_dy'] = '1.8'\n",
    "win2['detailed'] = 1   # true 1   false 0\n",
    "win2['glazing'] = 1\n",
    "wins.append(win2)"
   ]
  },
  {
   "cell_type": "code",
   "execution_count": 8,
   "metadata": {},
   "outputs": [],
   "source": [
    "doors = []\n",
    "door = {}\n",
    "door['d_wall_name'] = 'WALL_6'\n",
    "door['door_x'] = '3.21'\n",
    "doors.append(door)"
   ]
  },
  {
   "cell_type": "code",
   "execution_count": 10,
   "metadata": {},
   "outputs": [
    {
     "name": "stdout",
     "output_type": "stream",
     "text": [
      "((CE-ZONE :N \"Zone 1\")( (AGGREGATE :N THERMAL-BRIDGES) (:PAR :N WIN-PERIM-LEN)(:PAR :N WIN-PERIM-LEN)(:PAR :N WIN-PERIM-LEN)(:PAR :N WIN-PERIM-LEN)(:PAR :N WIN-PERIM-LEN)(:PAR :N WIN-PERIM-LEN)(:PAR :N WIN-PERIM-LEN)(:PAR :N WIN-PERIM-LEN)(:PAR :N WIN-PERIM-LEN)(:PAR :N WIN-PERIM-LEN)(:PAR :N WIN-PERIM-LEN)(:PAR :N WIN-PERIM-LEN)(:PAR :N WIN-PERIM-LEN)(:PAR :N WIN-PERIM-LEN)(:PAR :N WIN-PERIM-LEN)(:PAR :N WIN-PERIM-LEN)(:PAR :N WIN-PERIM-LEN)(:PAR :N WIN-PERIM-LEN)(:PAR :N WIN-PERIM-LEN)(:PAR :N DOOR-PERIM-LEN))( (ENCLOSING-ELEMENT :N WALL_1) (:ADD (CE-WINDOW :N \"Window\" :T WINDOW) (:PAR :N X :V 1.25)(:PAR :N Y :V 0.8)(:PAR :N DX :V 1.5)(:PAR :N DY :V 1.2)(:PAR :N LIGHT-LEVEL) (:PAR :N CD_LO) )  ) ( (ENCLOSING-ELEMENT :N WALL_2) (:ADD (CE-WINDOW :N \"Window\" :T WINDOW) (:PAR :N X :V 3.0)(:PAR :N Y :V 0.8)(:PAR :N DX :V 1.5)(:PAR :N DY :V 1.2)(:PAR :N LIGHT-LEVEL) (:PAR :N CD_LO) )  ) ( (ENCLOSING-ELEMENT :N WALL_3) (:ADD (CE-WINDOW :N \"Window\" :T WINDOW) (:PAR :N X :V 5.065)(:PAR :N Y :V 0.8)(:PAR :N DX :V 1.5)(:PAR :N DY :V 1.2)(:PAR :N LIGHT-LEVEL) (:PAR :N CD_LO) )  ) ( (ENCLOSING-ELEMENT :N WALL_4) (:ADD (CE-WINDOW :N \"Window\" :T WINDOW) (:PAR :N X :V 4.385)(:PAR :N Y :V 0.8)(:PAR :N DX :V 1.5)(:PAR :N DY :V 1.2)(:PAR :N LIGHT-LEVEL) (:PAR :N CD_LO) )  ) ( (ENCLOSING-ELEMENT :N WALL_5) (:ADD (CE-WINDOW :N \"Window\" :T WINDOW) (:PAR :N X :V 8.285)(:PAR :N Y :V 0.8)(:PAR :N DX :V 1.5)(:PAR :N DY :V 1.2)(:PAR :N LIGHT-LEVEL) (:PAR :N CD_LO) )  ) ( (ENCLOSING-ELEMENT :N WALL_6) (:ADD (CE-WINDOW :N \"Window\" :T WINDOW) (:PAR :N X :V 9.5435)(:PAR :N Y :V 0.8)(:PAR :N DX :V 1.5)(:PAR :N DY :V 1.2)(:PAR :N LIGHT-LEVEL) (:PAR :N CD_LO) )  ) ( (ENCLOSING-ELEMENT :N WALL_7) (:ADD (CE-WINDOW :N \"Window\" :T WINDOW) (:PAR :N X :V 2.5215)(:PAR :N Y :V 0.8)(:PAR :N DX :V 1.5)(:PAR :N DY :V 1.2)(:PAR :N LIGHT-LEVEL) (:PAR :N CD_LO) )  ) ( (ENCLOSING-ELEMENT :N WALL_8) (:ADD (CE-WINDOW :N \"Window\" :T WINDOW) (:PAR :N X :V 3.6100000000000003)(:PAR :N Y :V 0.8)(:PAR :N DX :V 1.5)(:PAR :N DY :V 1.2)(:PAR :N LIGHT-LEVEL) (:PAR :N CD_LO) )  ) ( (ENCLOSING-ELEMENT :N WALL_9) (:ADD (CE-WINDOW :N \"Window\" :T WINDOW) (:PAR :N X :V 2.5088)(:PAR :N Y :V 0.8)(:PAR :N DX :V 1.5)(:PAR :N DY :V 1.2)(:PAR :N LIGHT-LEVEL) (:PAR :N CD_LO) )  ) ( (ENCLOSING-ELEMENT :N WALL_10) (:ADD (CE-WINDOW :N \"Window\" :T WINDOW) (:PAR :N X :V 1.25)(:PAR :N Y :V 0.8)(:PAR :N DX :V 1.5)(:PAR :N DY :V 1.2)(:PAR :N LIGHT-LEVEL) (:PAR :N CD_LO) )  ) ( (ENCLOSING-ELEMENT :N WALL_11) (:ADD (CE-WINDOW :N \"Window\" :T WINDOW) (:PAR :N X :V 2.49)(:PAR :N Y :V 0.8)(:PAR :N DX :V 1.5)(:PAR :N DY :V 1.2)(:PAR :N LIGHT-LEVEL) (:PAR :N CD_LO) )  ) ( (ENCLOSING-ELEMENT :N WALL_13) (:ADD (CE-WINDOW :N \"Window\" :T WINDOW) (:PAR :N X :V 14.75)(:PAR :N Y :V 0.8)(:PAR :N DX :V 1.5)(:PAR :N DY :V 1.2)(:PAR :N LIGHT-LEVEL) (:PAR :N CD_LO) )  ) ( (ENCLOSING-ELEMENT :N WALL_14) (:ADD (CE-WINDOW :N \"Window\" :T WINDOW) (:PAR :N X :V 1.25)(:PAR :N Y :V 0.8)(:PAR :N DX :V 1.5)(:PAR :N DY :V 1.2)(:PAR :N LIGHT-LEVEL) (:PAR :N CD_LO) )  ) ( (ENCLOSING-ELEMENT :N WALL_15) (:ADD (CE-WINDOW :N \"Window\" :T WINDOW) (:PAR :N X :V 4.193)(:PAR :N Y :V 0.8)(:PAR :N DX :V 1.5)(:PAR :N DY :V 1.2)(:PAR :N LIGHT-LEVEL) (:PAR :N CD_LO) )  ) ( (ENCLOSING-ELEMENT :N WALL_16) (:ADD (CE-WINDOW :N \"Window\" :T WINDOW) (:PAR :N X :V 3.527)(:PAR :N Y :V 0.8)(:PAR :N DX :V 1.5)(:PAR :N DY :V 1.2)(:PAR :N LIGHT-LEVEL) (:PAR :N CD_LO) )  ) ( (ENCLOSING-ELEMENT :N WALL_17) (:ADD (CE-WINDOW :N \"Window\" :T WINDOW) (:PAR :N X :V 6.1995)(:PAR :N Y :V 0.8)(:PAR :N DX :V 1.5)(:PAR :N DY :V 1.2)(:PAR :N LIGHT-LEVEL) (:PAR :N CD_LO) )  ) ( (ENCLOSING-ELEMENT :N WALL_18) (:ADD (CE-WINDOW :N \"Window\" :T WINDOW) (:PAR :N X :V 4.825)(:PAR :N Y :V 0.8)(:PAR :N DX :V 1.5)(:PAR :N DY :V 1.2)(:PAR :N LIGHT-LEVEL) (:PAR :N CD_LO) )  ) ( (ENCLOSING-ELEMENT :N WALL_19) (:ADD (CE-WINDOW :N \"Window\" :T WINDOW) (:PAR :N X :V 4.24)(:PAR :N Y :V 0.8)(:PAR :N DX :V 1.5)(:PAR :N DY :V 1.2)(:PAR :N LIGHT-LEVEL) (:PAR :N CD_LO) )  ) ( (ENCLOSING-ELEMENT :N WALL_13) (:ADD (CE-WINDOW :N \"DetWin\" :T DET-WINDOW) (:PAR :N X :V 26.015)(:PAR :N Y :V 0.8)(:PAR :N DX :V 3)(:PAR :N DY :V 1.8)(:RES :N GLAZING :V \"Single Clear (WIN7)\")(:PAR :N LIGHT-LEVEL) (:PAR :N CD_LO) )  )( (ENCLOSING-ELEMENT :N WALL_6) (:ADD (OPENING :N \"Door\" :T OPENING)(:PAR :N X :V 3.21)(:PAR :N Y :V 0)(:PAR :N DX :V 0.8)(:PAR :N DY :V 2)(:PAR :N CD_LO))))\n",
      "((CE-ZONE :N \"Zone 2\")( (AGGREGATE :N THERMAL-BRIDGES) (:PAR :N WIN-PERIM-LEN)(:PAR :N WIN-PERIM-LEN)(:PAR :N WIN-PERIM-LEN)(:PAR :N WIN-PERIM-LEN)(:PAR :N WIN-PERIM-LEN)(:PAR :N WIN-PERIM-LEN)(:PAR :N WIN-PERIM-LEN)(:PAR :N WIN-PERIM-LEN)(:PAR :N WIN-PERIM-LEN)(:PAR :N WIN-PERIM-LEN)(:PAR :N WIN-PERIM-LEN)(:PAR :N WIN-PERIM-LEN)(:PAR :N WIN-PERIM-LEN)(:PAR :N WIN-PERIM-LEN)(:PAR :N WIN-PERIM-LEN)(:PAR :N WIN-PERIM-LEN)(:PAR :N WIN-PERIM-LEN)(:PAR :N WIN-PERIM-LEN)(:PAR :N WIN-PERIM-LEN)(:PAR :N DOOR-PERIM-LEN))( (ENCLOSING-ELEMENT :N WALL_1) (:ADD (CE-WINDOW :N \"Window\" :T WINDOW) (:PAR :N X :V 1.25)(:PAR :N Y :V 0.8)(:PAR :N DX :V 1.5)(:PAR :N DY :V 1.2)(:PAR :N LIGHT-LEVEL) (:PAR :N CD_LO) )  ) ( (ENCLOSING-ELEMENT :N WALL_2) (:ADD (CE-WINDOW :N \"Window\" :T WINDOW) (:PAR :N X :V 3.0)(:PAR :N Y :V 0.8)(:PAR :N DX :V 1.5)(:PAR :N DY :V 1.2)(:PAR :N LIGHT-LEVEL) (:PAR :N CD_LO) )  ) ( (ENCLOSING-ELEMENT :N WALL_3) (:ADD (CE-WINDOW :N \"Window\" :T WINDOW) (:PAR :N X :V 5.065)(:PAR :N Y :V 0.8)(:PAR :N DX :V 1.5)(:PAR :N DY :V 1.2)(:PAR :N LIGHT-LEVEL) (:PAR :N CD_LO) )  ) ( (ENCLOSING-ELEMENT :N WALL_4) (:ADD (CE-WINDOW :N \"Window\" :T WINDOW) (:PAR :N X :V 4.385)(:PAR :N Y :V 0.8)(:PAR :N DX :V 1.5)(:PAR :N DY :V 1.2)(:PAR :N LIGHT-LEVEL) (:PAR :N CD_LO) )  ) ( (ENCLOSING-ELEMENT :N WALL_5) (:ADD (CE-WINDOW :N \"Window\" :T WINDOW) (:PAR :N X :V 8.285)(:PAR :N Y :V 0.8)(:PAR :N DX :V 1.5)(:PAR :N DY :V 1.2)(:PAR :N LIGHT-LEVEL) (:PAR :N CD_LO) )  ) ( (ENCLOSING-ELEMENT :N WALL_6) (:ADD (CE-WINDOW :N \"Window\" :T WINDOW) (:PAR :N X :V 9.5435)(:PAR :N Y :V 0.8)(:PAR :N DX :V 1.5)(:PAR :N DY :V 1.2)(:PAR :N LIGHT-LEVEL) (:PAR :N CD_LO) )  ) ( (ENCLOSING-ELEMENT :N WALL_7) (:ADD (CE-WINDOW :N \"Window\" :T WINDOW) (:PAR :N X :V 2.5215)(:PAR :N Y :V 0.8)(:PAR :N DX :V 1.5)(:PAR :N DY :V 1.2)(:PAR :N LIGHT-LEVEL) (:PAR :N CD_LO) )  ) ( (ENCLOSING-ELEMENT :N WALL_8) (:ADD (CE-WINDOW :N \"Window\" :T WINDOW) (:PAR :N X :V 3.6100000000000003)(:PAR :N Y :V 0.8)(:PAR :N DX :V 1.5)(:PAR :N DY :V 1.2)(:PAR :N LIGHT-LEVEL) (:PAR :N CD_LO) )  ) ( (ENCLOSING-ELEMENT :N WALL_9) (:ADD (CE-WINDOW :N \"Window\" :T WINDOW) (:PAR :N X :V 2.5088)(:PAR :N Y :V 0.8)(:PAR :N DX :V 1.5)(:PAR :N DY :V 1.2)(:PAR :N LIGHT-LEVEL) (:PAR :N CD_LO) )  ) ( (ENCLOSING-ELEMENT :N WALL_10) (:ADD (CE-WINDOW :N \"Window\" :T WINDOW) (:PAR :N X :V 1.25)(:PAR :N Y :V 0.8)(:PAR :N DX :V 1.5)(:PAR :N DY :V 1.2)(:PAR :N LIGHT-LEVEL) (:PAR :N CD_LO) )  ) ( (ENCLOSING-ELEMENT :N WALL_11) (:ADD (CE-WINDOW :N \"Window\" :T WINDOW) (:PAR :N X :V 2.49)(:PAR :N Y :V 0.8)(:PAR :N DX :V 1.5)(:PAR :N DY :V 1.2)(:PAR :N LIGHT-LEVEL) (:PAR :N CD_LO) )  ) ( (ENCLOSING-ELEMENT :N WALL_13) (:ADD (CE-WINDOW :N \"Window\" :T WINDOW) (:PAR :N X :V 14.75)(:PAR :N Y :V 0.8)(:PAR :N DX :V 1.5)(:PAR :N DY :V 1.2)(:PAR :N LIGHT-LEVEL) (:PAR :N CD_LO) )  ) ( (ENCLOSING-ELEMENT :N WALL_14) (:ADD (CE-WINDOW :N \"Window\" :T WINDOW) (:PAR :N X :V 1.25)(:PAR :N Y :V 0.8)(:PAR :N DX :V 1.5)(:PAR :N DY :V 1.2)(:PAR :N LIGHT-LEVEL) (:PAR :N CD_LO) )  ) ( (ENCLOSING-ELEMENT :N WALL_15) (:ADD (CE-WINDOW :N \"Window\" :T WINDOW) (:PAR :N X :V 4.193)(:PAR :N Y :V 0.8)(:PAR :N DX :V 1.5)(:PAR :N DY :V 1.2)(:PAR :N LIGHT-LEVEL) (:PAR :N CD_LO) )  ) ( (ENCLOSING-ELEMENT :N WALL_16) (:ADD (CE-WINDOW :N \"Window\" :T WINDOW) (:PAR :N X :V 3.527)(:PAR :N Y :V 0.8)(:PAR :N DX :V 1.5)(:PAR :N DY :V 1.2)(:PAR :N LIGHT-LEVEL) (:PAR :N CD_LO) )  ) ( (ENCLOSING-ELEMENT :N WALL_17) (:ADD (CE-WINDOW :N \"Window\" :T WINDOW) (:PAR :N X :V 6.1995)(:PAR :N Y :V 0.8)(:PAR :N DX :V 1.5)(:PAR :N DY :V 1.2)(:PAR :N LIGHT-LEVEL) (:PAR :N CD_LO) )  ) ( (ENCLOSING-ELEMENT :N WALL_18) (:ADD (CE-WINDOW :N \"Window\" :T WINDOW) (:PAR :N X :V 4.825)(:PAR :N Y :V 0.8)(:PAR :N DX :V 1.5)(:PAR :N DY :V 1.2)(:PAR :N LIGHT-LEVEL) (:PAR :N CD_LO) )  ) ( (ENCLOSING-ELEMENT :N WALL_19) (:ADD (CE-WINDOW :N \"Window\" :T WINDOW) (:PAR :N X :V 4.24)(:PAR :N Y :V 0.8)(:PAR :N DX :V 1.5)(:PAR :N DY :V 1.2)(:PAR :N LIGHT-LEVEL) (:PAR :N CD_LO) )  ) ( (ENCLOSING-ELEMENT :N WALL_13) (:ADD (CE-WINDOW :N \"DetWin\" :T DET-WINDOW) (:PAR :N X :V 26.015)(:PAR :N Y :V 0.8)(:PAR :N DX :V 3)(:PAR :N DY :V 1.8)(:RES :N GLAZING :V \"Single Clear (WIN7)\")(:PAR :N LIGHT-LEVEL) (:PAR :N CD_LO) )  )( (ENCLOSING-ELEMENT :N WALL_6) (:ADD (OPENING :N \"Door\" :T OPENING)(:PAR :N X :V 3.21)(:PAR :N Y :V 0)(:PAR :N DX :V 0.8)(:PAR :N DY :V 2)(:PAR :N CD_LO))))\n",
      "((CE-ZONE :N \"Zone 3\")( (AGGREGATE :N THERMAL-BRIDGES) (:PAR :N WIN-PERIM-LEN)(:PAR :N WIN-PERIM-LEN)(:PAR :N WIN-PERIM-LEN)(:PAR :N WIN-PERIM-LEN)(:PAR :N WIN-PERIM-LEN)(:PAR :N WIN-PERIM-LEN)(:PAR :N WIN-PERIM-LEN)(:PAR :N WIN-PERIM-LEN)(:PAR :N WIN-PERIM-LEN)(:PAR :N WIN-PERIM-LEN)(:PAR :N WIN-PERIM-LEN)(:PAR :N WIN-PERIM-LEN)(:PAR :N WIN-PERIM-LEN)(:PAR :N WIN-PERIM-LEN)(:PAR :N WIN-PERIM-LEN)(:PAR :N WIN-PERIM-LEN)(:PAR :N WIN-PERIM-LEN)(:PAR :N WIN-PERIM-LEN)(:PAR :N WIN-PERIM-LEN)(:PAR :N DOOR-PERIM-LEN))( (ENCLOSING-ELEMENT :N WALL_1) (:ADD (CE-WINDOW :N \"Window\" :T WINDOW) (:PAR :N X :V 1.25)(:PAR :N Y :V 0.8)(:PAR :N DX :V 1.5)(:PAR :N DY :V 1.2)(:PAR :N LIGHT-LEVEL) (:PAR :N CD_LO) )  ) ( (ENCLOSING-ELEMENT :N WALL_2) (:ADD (CE-WINDOW :N \"Window\" :T WINDOW) (:PAR :N X :V 3.0)(:PAR :N Y :V 0.8)(:PAR :N DX :V 1.5)(:PAR :N DY :V 1.2)(:PAR :N LIGHT-LEVEL) (:PAR :N CD_LO) )  ) ( (ENCLOSING-ELEMENT :N WALL_3) (:ADD (CE-WINDOW :N \"Window\" :T WINDOW) (:PAR :N X :V 5.065)(:PAR :N Y :V 0.8)(:PAR :N DX :V 1.5)(:PAR :N DY :V 1.2)(:PAR :N LIGHT-LEVEL) (:PAR :N CD_LO) )  ) ( (ENCLOSING-ELEMENT :N WALL_4) (:ADD (CE-WINDOW :N \"Window\" :T WINDOW) (:PAR :N X :V 4.385)(:PAR :N Y :V 0.8)(:PAR :N DX :V 1.5)(:PAR :N DY :V 1.2)(:PAR :N LIGHT-LEVEL) (:PAR :N CD_LO) )  ) ( (ENCLOSING-ELEMENT :N WALL_5) (:ADD (CE-WINDOW :N \"Window\" :T WINDOW) (:PAR :N X :V 8.285)(:PAR :N Y :V 0.8)(:PAR :N DX :V 1.5)(:PAR :N DY :V 1.2)(:PAR :N LIGHT-LEVEL) (:PAR :N CD_LO) )  ) ( (ENCLOSING-ELEMENT :N WALL_6) (:ADD (CE-WINDOW :N \"Window\" :T WINDOW) (:PAR :N X :V 9.5435)(:PAR :N Y :V 0.8)(:PAR :N DX :V 1.5)(:PAR :N DY :V 1.2)(:PAR :N LIGHT-LEVEL) (:PAR :N CD_LO) )  ) ( (ENCLOSING-ELEMENT :N WALL_7) (:ADD (CE-WINDOW :N \"Window\" :T WINDOW) (:PAR :N X :V 2.5215)(:PAR :N Y :V 0.8)(:PAR :N DX :V 1.5)(:PAR :N DY :V 1.2)(:PAR :N LIGHT-LEVEL) (:PAR :N CD_LO) )  ) ( (ENCLOSING-ELEMENT :N WALL_8) (:ADD (CE-WINDOW :N \"Window\" :T WINDOW) (:PAR :N X :V 3.6100000000000003)(:PAR :N Y :V 0.8)(:PAR :N DX :V 1.5)(:PAR :N DY :V 1.2)(:PAR :N LIGHT-LEVEL) (:PAR :N CD_LO) )  ) ( (ENCLOSING-ELEMENT :N WALL_9) (:ADD (CE-WINDOW :N \"Window\" :T WINDOW) (:PAR :N X :V 2.5088)(:PAR :N Y :V 0.8)(:PAR :N DX :V 1.5)(:PAR :N DY :V 1.2)(:PAR :N LIGHT-LEVEL) (:PAR :N CD_LO) )  ) ( (ENCLOSING-ELEMENT :N WALL_10) (:ADD (CE-WINDOW :N \"Window\" :T WINDOW) (:PAR :N X :V 1.25)(:PAR :N Y :V 0.8)(:PAR :N DX :V 1.5)(:PAR :N DY :V 1.2)(:PAR :N LIGHT-LEVEL) (:PAR :N CD_LO) )  ) ( (ENCLOSING-ELEMENT :N WALL_11) (:ADD (CE-WINDOW :N \"Window\" :T WINDOW) (:PAR :N X :V 2.49)(:PAR :N Y :V 0.8)(:PAR :N DX :V 1.5)(:PAR :N DY :V 1.2)(:PAR :N LIGHT-LEVEL) (:PAR :N CD_LO) )  ) ( (ENCLOSING-ELEMENT :N WALL_13) (:ADD (CE-WINDOW :N \"Window\" :T WINDOW) (:PAR :N X :V 14.75)(:PAR :N Y :V 0.8)(:PAR :N DX :V 1.5)(:PAR :N DY :V 1.2)(:PAR :N LIGHT-LEVEL) (:PAR :N CD_LO) )  ) ( (ENCLOSING-ELEMENT :N WALL_14) (:ADD (CE-WINDOW :N \"Window\" :T WINDOW) (:PAR :N X :V 1.25)(:PAR :N Y :V 0.8)(:PAR :N DX :V 1.5)(:PAR :N DY :V 1.2)(:PAR :N LIGHT-LEVEL) (:PAR :N CD_LO) )  ) ( (ENCLOSING-ELEMENT :N WALL_15) (:ADD (CE-WINDOW :N \"Window\" :T WINDOW) (:PAR :N X :V 4.193)(:PAR :N Y :V 0.8)(:PAR :N DX :V 1.5)(:PAR :N DY :V 1.2)(:PAR :N LIGHT-LEVEL) (:PAR :N CD_LO) )  ) ( (ENCLOSING-ELEMENT :N WALL_16) (:ADD (CE-WINDOW :N \"Window\" :T WINDOW) (:PAR :N X :V 3.527)(:PAR :N Y :V 0.8)(:PAR :N DX :V 1.5)(:PAR :N DY :V 1.2)(:PAR :N LIGHT-LEVEL) (:PAR :N CD_LO) )  ) ( (ENCLOSING-ELEMENT :N WALL_17) (:ADD (CE-WINDOW :N \"Window\" :T WINDOW) (:PAR :N X :V 6.1995)(:PAR :N Y :V 0.8)(:PAR :N DX :V 1.5)(:PAR :N DY :V 1.2)(:PAR :N LIGHT-LEVEL) (:PAR :N CD_LO) )  ) ( (ENCLOSING-ELEMENT :N WALL_18) (:ADD (CE-WINDOW :N \"Window\" :T WINDOW) (:PAR :N X :V 4.825)(:PAR :N Y :V 0.8)(:PAR :N DX :V 1.5)(:PAR :N DY :V 1.2)(:PAR :N LIGHT-LEVEL) (:PAR :N CD_LO) )  ) ( (ENCLOSING-ELEMENT :N WALL_19) (:ADD (CE-WINDOW :N \"Window\" :T WINDOW) (:PAR :N X :V 4.24)(:PAR :N Y :V 0.8)(:PAR :N DX :V 1.5)(:PAR :N DY :V 1.2)(:PAR :N LIGHT-LEVEL) (:PAR :N CD_LO) )  ) ( (ENCLOSING-ELEMENT :N WALL_13) (:ADD (CE-WINDOW :N \"DetWin\" :T DET-WINDOW) (:PAR :N X :V 26.015)(:PAR :N Y :V 0.8)(:PAR :N DX :V 3)(:PAR :N DY :V 1.8)(:RES :N GLAZING :V \"Single Clear (WIN7)\")(:PAR :N LIGHT-LEVEL) (:PAR :N CD_LO) )  )( (ENCLOSING-ELEMENT :N WALL_6) (:ADD (OPENING :N \"Door\" :T OPENING)(:PAR :N X :V 3.21)(:PAR :N Y :V 0)(:PAR :N DX :V 0.8)(:PAR :N DY :V 2)(:PAR :N CD_LO))))\n",
      "((CE-ZONE :N \"Zone 4\")( (AGGREGATE :N THERMAL-BRIDGES) (:PAR :N WIN-PERIM-LEN)(:PAR :N WIN-PERIM-LEN)(:PAR :N WIN-PERIM-LEN)(:PAR :N WIN-PERIM-LEN)(:PAR :N WIN-PERIM-LEN)(:PAR :N WIN-PERIM-LEN)(:PAR :N WIN-PERIM-LEN)(:PAR :N WIN-PERIM-LEN)(:PAR :N WIN-PERIM-LEN)(:PAR :N WIN-PERIM-LEN)(:PAR :N WIN-PERIM-LEN)(:PAR :N WIN-PERIM-LEN)(:PAR :N WIN-PERIM-LEN)(:PAR :N WIN-PERIM-LEN)(:PAR :N WIN-PERIM-LEN)(:PAR :N WIN-PERIM-LEN)(:PAR :N WIN-PERIM-LEN)(:PAR :N WIN-PERIM-LEN)(:PAR :N WIN-PERIM-LEN)(:PAR :N DOOR-PERIM-LEN))( (ENCLOSING-ELEMENT :N WALL_1) (:ADD (CE-WINDOW :N \"Window\" :T WINDOW) (:PAR :N X :V 1.25)(:PAR :N Y :V 0.8)(:PAR :N DX :V 1.5)(:PAR :N DY :V 1.2)(:PAR :N LIGHT-LEVEL) (:PAR :N CD_LO) )  ) ( (ENCLOSING-ELEMENT :N WALL_2) (:ADD (CE-WINDOW :N \"Window\" :T WINDOW) (:PAR :N X :V 3.0)(:PAR :N Y :V 0.8)(:PAR :N DX :V 1.5)(:PAR :N DY :V 1.2)(:PAR :N LIGHT-LEVEL) (:PAR :N CD_LO) )  ) ( (ENCLOSING-ELEMENT :N WALL_3) (:ADD (CE-WINDOW :N \"Window\" :T WINDOW) (:PAR :N X :V 5.065)(:PAR :N Y :V 0.8)(:PAR :N DX :V 1.5)(:PAR :N DY :V 1.2)(:PAR :N LIGHT-LEVEL) (:PAR :N CD_LO) )  ) ( (ENCLOSING-ELEMENT :N WALL_4) (:ADD (CE-WINDOW :N \"Window\" :T WINDOW) (:PAR :N X :V 4.385)(:PAR :N Y :V 0.8)(:PAR :N DX :V 1.5)(:PAR :N DY :V 1.2)(:PAR :N LIGHT-LEVEL) (:PAR :N CD_LO) )  ) ( (ENCLOSING-ELEMENT :N WALL_5) (:ADD (CE-WINDOW :N \"Window\" :T WINDOW) (:PAR :N X :V 8.285)(:PAR :N Y :V 0.8)(:PAR :N DX :V 1.5)(:PAR :N DY :V 1.2)(:PAR :N LIGHT-LEVEL) (:PAR :N CD_LO) )  ) ( (ENCLOSING-ELEMENT :N WALL_6) (:ADD (CE-WINDOW :N \"Window\" :T WINDOW) (:PAR :N X :V 9.5435)(:PAR :N Y :V 0.8)(:PAR :N DX :V 1.5)(:PAR :N DY :V 1.2)(:PAR :N LIGHT-LEVEL) (:PAR :N CD_LO) )  ) ( (ENCLOSING-ELEMENT :N WALL_7) (:ADD (CE-WINDOW :N \"Window\" :T WINDOW) (:PAR :N X :V 2.5215)(:PAR :N Y :V 0.8)(:PAR :N DX :V 1.5)(:PAR :N DY :V 1.2)(:PAR :N LIGHT-LEVEL) (:PAR :N CD_LO) )  ) ( (ENCLOSING-ELEMENT :N WALL_8) (:ADD (CE-WINDOW :N \"Window\" :T WINDOW) (:PAR :N X :V 3.6100000000000003)(:PAR :N Y :V 0.8)(:PAR :N DX :V 1.5)(:PAR :N DY :V 1.2)(:PAR :N LIGHT-LEVEL) (:PAR :N CD_LO) )  ) ( (ENCLOSING-ELEMENT :N WALL_9) (:ADD (CE-WINDOW :N \"Window\" :T WINDOW) (:PAR :N X :V 2.5088)(:PAR :N Y :V 0.8)(:PAR :N DX :V 1.5)(:PAR :N DY :V 1.2)(:PAR :N LIGHT-LEVEL) (:PAR :N CD_LO) )  ) ( (ENCLOSING-ELEMENT :N WALL_10) (:ADD (CE-WINDOW :N \"Window\" :T WINDOW) (:PAR :N X :V 1.25)(:PAR :N Y :V 0.8)(:PAR :N DX :V 1.5)(:PAR :N DY :V 1.2)(:PAR :N LIGHT-LEVEL) (:PAR :N CD_LO) )  ) ( (ENCLOSING-ELEMENT :N WALL_11) (:ADD (CE-WINDOW :N \"Window\" :T WINDOW) (:PAR :N X :V 2.49)(:PAR :N Y :V 0.8)(:PAR :N DX :V 1.5)(:PAR :N DY :V 1.2)(:PAR :N LIGHT-LEVEL) (:PAR :N CD_LO) )  ) ( (ENCLOSING-ELEMENT :N WALL_13) (:ADD (CE-WINDOW :N \"Window\" :T WINDOW) (:PAR :N X :V 14.75)(:PAR :N Y :V 0.8)(:PAR :N DX :V 1.5)(:PAR :N DY :V 1.2)(:PAR :N LIGHT-LEVEL) (:PAR :N CD_LO) )  ) ( (ENCLOSING-ELEMENT :N WALL_14) (:ADD (CE-WINDOW :N \"Window\" :T WINDOW) (:PAR :N X :V 1.25)(:PAR :N Y :V 0.8)(:PAR :N DX :V 1.5)(:PAR :N DY :V 1.2)(:PAR :N LIGHT-LEVEL) (:PAR :N CD_LO) )  ) ( (ENCLOSING-ELEMENT :N WALL_15) (:ADD (CE-WINDOW :N \"Window\" :T WINDOW) (:PAR :N X :V 4.193)(:PAR :N Y :V 0.8)(:PAR :N DX :V 1.5)(:PAR :N DY :V 1.2)(:PAR :N LIGHT-LEVEL) (:PAR :N CD_LO) )  ) ( (ENCLOSING-ELEMENT :N WALL_16) (:ADD (CE-WINDOW :N \"Window\" :T WINDOW) (:PAR :N X :V 3.527)(:PAR :N Y :V 0.8)(:PAR :N DX :V 1.5)(:PAR :N DY :V 1.2)(:PAR :N LIGHT-LEVEL) (:PAR :N CD_LO) )  ) ( (ENCLOSING-ELEMENT :N WALL_17) (:ADD (CE-WINDOW :N \"Window\" :T WINDOW) (:PAR :N X :V 6.1995)(:PAR :N Y :V 0.8)(:PAR :N DX :V 1.5)(:PAR :N DY :V 1.2)(:PAR :N LIGHT-LEVEL) (:PAR :N CD_LO) )  ) ( (ENCLOSING-ELEMENT :N WALL_18) (:ADD (CE-WINDOW :N \"Window\" :T WINDOW) (:PAR :N X :V 4.825)(:PAR :N Y :V 0.8)(:PAR :N DX :V 1.5)(:PAR :N DY :V 1.2)(:PAR :N LIGHT-LEVEL) (:PAR :N CD_LO) )  ) ( (ENCLOSING-ELEMENT :N WALL_19) (:ADD (CE-WINDOW :N \"Window\" :T WINDOW) (:PAR :N X :V 4.24)(:PAR :N Y :V 0.8)(:PAR :N DX :V 1.5)(:PAR :N DY :V 1.2)(:PAR :N LIGHT-LEVEL) (:PAR :N CD_LO) )  ) ( (ENCLOSING-ELEMENT :N WALL_13) (:ADD (CE-WINDOW :N \"DetWin\" :T DET-WINDOW) (:PAR :N X :V 26.015)(:PAR :N Y :V 0.8)(:PAR :N DX :V 3)(:PAR :N DY :V 1.8)(:RES :N GLAZING :V \"Single Clear (WIN7)\")(:PAR :N LIGHT-LEVEL) (:PAR :N CD_LO) )  )( (ENCLOSING-ELEMENT :N WALL_6) (:ADD (OPENING :N \"Door\" :T OPENING)(:PAR :N X :V 3.21)(:PAR :N Y :V 0)(:PAR :N DX :V 0.8)(:PAR :N DY :V 2)(:PAR :N CD_LO))))\n",
      "((CE-ZONE :N \"Zone 5\")( (AGGREGATE :N THERMAL-BRIDGES) (:PAR :N WIN-PERIM-LEN)(:PAR :N WIN-PERIM-LEN)(:PAR :N WIN-PERIM-LEN)(:PAR :N WIN-PERIM-LEN)(:PAR :N WIN-PERIM-LEN)(:PAR :N WIN-PERIM-LEN)(:PAR :N WIN-PERIM-LEN)(:PAR :N WIN-PERIM-LEN)(:PAR :N WIN-PERIM-LEN)(:PAR :N WIN-PERIM-LEN)(:PAR :N WIN-PERIM-LEN)(:PAR :N WIN-PERIM-LEN)(:PAR :N WIN-PERIM-LEN)(:PAR :N WIN-PERIM-LEN)(:PAR :N WIN-PERIM-LEN)(:PAR :N WIN-PERIM-LEN)(:PAR :N WIN-PERIM-LEN)(:PAR :N WIN-PERIM-LEN)(:PAR :N WIN-PERIM-LEN)(:PAR :N DOOR-PERIM-LEN))( (ENCLOSING-ELEMENT :N WALL_1) (:ADD (CE-WINDOW :N \"Window\" :T WINDOW) (:PAR :N X :V 1.25)(:PAR :N Y :V 0.8)(:PAR :N DX :V 1.5)(:PAR :N DY :V 1.2)(:PAR :N LIGHT-LEVEL) (:PAR :N CD_LO) )  ) ( (ENCLOSING-ELEMENT :N WALL_2) (:ADD (CE-WINDOW :N \"Window\" :T WINDOW) (:PAR :N X :V 3.0)(:PAR :N Y :V 0.8)(:PAR :N DX :V 1.5)(:PAR :N DY :V 1.2)(:PAR :N LIGHT-LEVEL) (:PAR :N CD_LO) )  ) ( (ENCLOSING-ELEMENT :N WALL_3) (:ADD (CE-WINDOW :N \"Window\" :T WINDOW) (:PAR :N X :V 5.065)(:PAR :N Y :V 0.8)(:PAR :N DX :V 1.5)(:PAR :N DY :V 1.2)(:PAR :N LIGHT-LEVEL) (:PAR :N CD_LO) )  ) ( (ENCLOSING-ELEMENT :N WALL_4) (:ADD (CE-WINDOW :N \"Window\" :T WINDOW) (:PAR :N X :V 4.385)(:PAR :N Y :V 0.8)(:PAR :N DX :V 1.5)(:PAR :N DY :V 1.2)(:PAR :N LIGHT-LEVEL) (:PAR :N CD_LO) )  ) ( (ENCLOSING-ELEMENT :N WALL_5) (:ADD (CE-WINDOW :N \"Window\" :T WINDOW) (:PAR :N X :V 8.285)(:PAR :N Y :V 0.8)(:PAR :N DX :V 1.5)(:PAR :N DY :V 1.2)(:PAR :N LIGHT-LEVEL) (:PAR :N CD_LO) )  ) ( (ENCLOSING-ELEMENT :N WALL_6) (:ADD (CE-WINDOW :N \"Window\" :T WINDOW) (:PAR :N X :V 9.5435)(:PAR :N Y :V 0.8)(:PAR :N DX :V 1.5)(:PAR :N DY :V 1.2)(:PAR :N LIGHT-LEVEL) (:PAR :N CD_LO) )  ) ( (ENCLOSING-ELEMENT :N WALL_7) (:ADD (CE-WINDOW :N \"Window\" :T WINDOW) (:PAR :N X :V 2.5215)(:PAR :N Y :V 0.8)(:PAR :N DX :V 1.5)(:PAR :N DY :V 1.2)(:PAR :N LIGHT-LEVEL) (:PAR :N CD_LO) )  ) ( (ENCLOSING-ELEMENT :N WALL_8) (:ADD (CE-WINDOW :N \"Window\" :T WINDOW) (:PAR :N X :V 3.6100000000000003)(:PAR :N Y :V 0.8)(:PAR :N DX :V 1.5)(:PAR :N DY :V 1.2)(:PAR :N LIGHT-LEVEL) (:PAR :N CD_LO) )  ) ( (ENCLOSING-ELEMENT :N WALL_9) (:ADD (CE-WINDOW :N \"Window\" :T WINDOW) (:PAR :N X :V 2.5088)(:PAR :N Y :V 0.8)(:PAR :N DX :V 1.5)(:PAR :N DY :V 1.2)(:PAR :N LIGHT-LEVEL) (:PAR :N CD_LO) )  ) ( (ENCLOSING-ELEMENT :N WALL_10) (:ADD (CE-WINDOW :N \"Window\" :T WINDOW) (:PAR :N X :V 1.25)(:PAR :N Y :V 0.8)(:PAR :N DX :V 1.5)(:PAR :N DY :V 1.2)(:PAR :N LIGHT-LEVEL) (:PAR :N CD_LO) )  ) ( (ENCLOSING-ELEMENT :N WALL_11) (:ADD (CE-WINDOW :N \"Window\" :T WINDOW) (:PAR :N X :V 2.49)(:PAR :N Y :V 0.8)(:PAR :N DX :V 1.5)(:PAR :N DY :V 1.2)(:PAR :N LIGHT-LEVEL) (:PAR :N CD_LO) )  ) ( (ENCLOSING-ELEMENT :N WALL_13) (:ADD (CE-WINDOW :N \"Window\" :T WINDOW) (:PAR :N X :V 14.75)(:PAR :N Y :V 0.8)(:PAR :N DX :V 1.5)(:PAR :N DY :V 1.2)(:PAR :N LIGHT-LEVEL) (:PAR :N CD_LO) )  ) ( (ENCLOSING-ELEMENT :N WALL_14) (:ADD (CE-WINDOW :N \"Window\" :T WINDOW) (:PAR :N X :V 1.25)(:PAR :N Y :V 0.8)(:PAR :N DX :V 1.5)(:PAR :N DY :V 1.2)(:PAR :N LIGHT-LEVEL) (:PAR :N CD_LO) )  ) ( (ENCLOSING-ELEMENT :N WALL_15) (:ADD (CE-WINDOW :N \"Window\" :T WINDOW) (:PAR :N X :V 4.193)(:PAR :N Y :V 0.8)(:PAR :N DX :V 1.5)(:PAR :N DY :V 1.2)(:PAR :N LIGHT-LEVEL) (:PAR :N CD_LO) )  ) ( (ENCLOSING-ELEMENT :N WALL_16) (:ADD (CE-WINDOW :N \"Window\" :T WINDOW) (:PAR :N X :V 3.527)(:PAR :N Y :V 0.8)(:PAR :N DX :V 1.5)(:PAR :N DY :V 1.2)(:PAR :N LIGHT-LEVEL) (:PAR :N CD_LO) )  ) ( (ENCLOSING-ELEMENT :N WALL_17) (:ADD (CE-WINDOW :N \"Window\" :T WINDOW) (:PAR :N X :V 6.1995)(:PAR :N Y :V 0.8)(:PAR :N DX :V 1.5)(:PAR :N DY :V 1.2)(:PAR :N LIGHT-LEVEL) (:PAR :N CD_LO) )  ) ( (ENCLOSING-ELEMENT :N WALL_18) (:ADD (CE-WINDOW :N \"Window\" :T WINDOW) (:PAR :N X :V 4.825)(:PAR :N Y :V 0.8)(:PAR :N DX :V 1.5)(:PAR :N DY :V 1.2)(:PAR :N LIGHT-LEVEL) (:PAR :N CD_LO) )  ) ( (ENCLOSING-ELEMENT :N WALL_19) (:ADD (CE-WINDOW :N \"Window\" :T WINDOW) (:PAR :N X :V 4.24)(:PAR :N Y :V 0.8)(:PAR :N DX :V 1.5)(:PAR :N DY :V 1.2)(:PAR :N LIGHT-LEVEL) (:PAR :N CD_LO) )  ) ( (ENCLOSING-ELEMENT :N WALL_13) (:ADD (CE-WINDOW :N \"DetWin\" :T DET-WINDOW) (:PAR :N X :V 26.015)(:PAR :N Y :V 0.8)(:PAR :N DX :V 3)(:PAR :N DY :V 1.8)(:RES :N GLAZING :V \"Single Clear (WIN7)\")(:PAR :N LIGHT-LEVEL) (:PAR :N CD_LO) )  )( (ENCLOSING-ELEMENT :N WALL_6) (:ADD (OPENING :N \"Door\" :T OPENING)(:PAR :N X :V 3.21)(:PAR :N Y :V 0)(:PAR :N DX :V 0.8)(:PAR :N DY :V 2)(:PAR :N CD_LO))))\n",
      "(:UPDATE [@]  ((CE-ZONE :N \"Zone 1\")( (AGGREGATE :N THERMAL-BRIDGES) (:PAR :N WIN-PERIM-LEN)(:PAR :N WIN-PERIM-LEN)(:PAR :N WIN-PERIM-LEN)(:PAR :N WIN-PERIM-LEN)(:PAR :N WIN-PERIM-LEN)(:PAR :N WIN-PERIM-LEN)(:PAR :N WIN-PERIM-LEN)(:PAR :N WIN-PERIM-LEN)(:PAR :N WIN-PERIM-LEN)(:PAR :N WIN-PERIM-LEN)(:PAR :N WIN-PERIM-LEN)(:PAR :N WIN-PERIM-LEN)(:PAR :N WIN-PERIM-LEN)(:PAR :N WIN-PERIM-LEN)(:PAR :N WIN-PERIM-LEN)(:PAR :N WIN-PERIM-LEN)(:PAR :N WIN-PERIM-LEN)(:PAR :N WIN-PERIM-LEN)(:PAR :N WIN-PERIM-LEN)(:PAR :N DOOR-PERIM-LEN))( (ENCLOSING-ELEMENT :N WALL_1) (:ADD (CE-WINDOW :N \"Window\" :T WINDOW) (:PAR :N X :V 1.25)(:PAR :N Y :V 0.8)(:PAR :N DX :V 1.5)(:PAR :N DY :V 1.2)(:PAR :N LIGHT-LEVEL) (:PAR :N CD_LO) )  ) ( (ENCLOSING-ELEMENT :N WALL_2) (:ADD (CE-WINDOW :N \"Window\" :T WINDOW) (:PAR :N X :V 3.0)(:PAR :N Y :V 0.8)(:PAR :N DX :V 1.5)(:PAR :N DY :V 1.2)(:PAR :N LIGHT-LEVEL) (:PAR :N CD_LO) )  ) ( (ENCLOSING-ELEMENT :N WALL_3) (:ADD (CE-WINDOW :N \"Window\" :T WINDOW) (:PAR :N X :V 5.065)(:PAR :N Y :V 0.8)(:PAR :N DX :V 1.5)(:PAR :N DY :V 1.2)(:PAR :N LIGHT-LEVEL) (:PAR :N CD_LO) )  ) ( (ENCLOSING-ELEMENT :N WALL_4) (:ADD (CE-WINDOW :N \"Window\" :T WINDOW) (:PAR :N X :V 4.385)(:PAR :N Y :V 0.8)(:PAR :N DX :V 1.5)(:PAR :N DY :V 1.2)(:PAR :N LIGHT-LEVEL) (:PAR :N CD_LO) )  ) ( (ENCLOSING-ELEMENT :N WALL_5) (:ADD (CE-WINDOW :N \"Window\" :T WINDOW) (:PAR :N X :V 8.285)(:PAR :N Y :V 0.8)(:PAR :N DX :V 1.5)(:PAR :N DY :V 1.2)(:PAR :N LIGHT-LEVEL) (:PAR :N CD_LO) )  ) ( (ENCLOSING-ELEMENT :N WALL_6) (:ADD (CE-WINDOW :N \"Window\" :T WINDOW) (:PAR :N X :V 9.5435)(:PAR :N Y :V 0.8)(:PAR :N DX :V 1.5)(:PAR :N DY :V 1.2)(:PAR :N LIGHT-LEVEL) (:PAR :N CD_LO) )  ) ( (ENCLOSING-ELEMENT :N WALL_7) (:ADD (CE-WINDOW :N \"Window\" :T WINDOW) (:PAR :N X :V 2.5215)(:PAR :N Y :V 0.8)(:PAR :N DX :V 1.5)(:PAR :N DY :V 1.2)(:PAR :N LIGHT-LEVEL) (:PAR :N CD_LO) )  ) ( (ENCLOSING-ELEMENT :N WALL_8) (:ADD (CE-WINDOW :N \"Window\" :T WINDOW) (:PAR :N X :V 3.6100000000000003)(:PAR :N Y :V 0.8)(:PAR :N DX :V 1.5)(:PAR :N DY :V 1.2)(:PAR :N LIGHT-LEVEL) (:PAR :N CD_LO) )  ) ( (ENCLOSING-ELEMENT :N WALL_9) (:ADD (CE-WINDOW :N \"Window\" :T WINDOW) (:PAR :N X :V 2.5088)(:PAR :N Y :V 0.8)(:PAR :N DX :V 1.5)(:PAR :N DY :V 1.2)(:PAR :N LIGHT-LEVEL) (:PAR :N CD_LO) )  ) ( (ENCLOSING-ELEMENT :N WALL_10) (:ADD (CE-WINDOW :N \"Window\" :T WINDOW) (:PAR :N X :V 1.25)(:PAR :N Y :V 0.8)(:PAR :N DX :V 1.5)(:PAR :N DY :V 1.2)(:PAR :N LIGHT-LEVEL) (:PAR :N CD_LO) )  ) ( (ENCLOSING-ELEMENT :N WALL_11) (:ADD (CE-WINDOW :N \"Window\" :T WINDOW) (:PAR :N X :V 2.49)(:PAR :N Y :V 0.8)(:PAR :N DX :V 1.5)(:PAR :N DY :V 1.2)(:PAR :N LIGHT-LEVEL) (:PAR :N CD_LO) )  ) ( (ENCLOSING-ELEMENT :N WALL_13) (:ADD (CE-WINDOW :N \"Window\" :T WINDOW) (:PAR :N X :V 14.75)(:PAR :N Y :V 0.8)(:PAR :N DX :V 1.5)(:PAR :N DY :V 1.2)(:PAR :N LIGHT-LEVEL) (:PAR :N CD_LO) )  ) ( (ENCLOSING-ELEMENT :N WALL_14) (:ADD (CE-WINDOW :N \"Window\" :T WINDOW) (:PAR :N X :V 1.25)(:PAR :N Y :V 0.8)(:PAR :N DX :V 1.5)(:PAR :N DY :V 1.2)(:PAR :N LIGHT-LEVEL) (:PAR :N CD_LO) )  ) ( (ENCLOSING-ELEMENT :N WALL_15) (:ADD (CE-WINDOW :N \"Window\" :T WINDOW) (:PAR :N X :V 4.193)(:PAR :N Y :V 0.8)(:PAR :N DX :V 1.5)(:PAR :N DY :V 1.2)(:PAR :N LIGHT-LEVEL) (:PAR :N CD_LO) )  ) ( (ENCLOSING-ELEMENT :N WALL_16) (:ADD (CE-WINDOW :N \"Window\" :T WINDOW) (:PAR :N X :V 3.527)(:PAR :N Y :V 0.8)(:PAR :N DX :V 1.5)(:PAR :N DY :V 1.2)(:PAR :N LIGHT-LEVEL) (:PAR :N CD_LO) )  ) ( (ENCLOSING-ELEMENT :N WALL_17) (:ADD (CE-WINDOW :N \"Window\" :T WINDOW) (:PAR :N X :V 6.1995)(:PAR :N Y :V 0.8)(:PAR :N DX :V 1.5)(:PAR :N DY :V 1.2)(:PAR :N LIGHT-LEVEL) (:PAR :N CD_LO) )  ) ( (ENCLOSING-ELEMENT :N WALL_18) (:ADD (CE-WINDOW :N \"Window\" :T WINDOW) (:PAR :N X :V 4.825)(:PAR :N Y :V 0.8)(:PAR :N DX :V 1.5)(:PAR :N DY :V 1.2)(:PAR :N LIGHT-LEVEL) (:PAR :N CD_LO) )  ) ( (ENCLOSING-ELEMENT :N WALL_19) (:ADD (CE-WINDOW :N \"Window\" :T WINDOW) (:PAR :N X :V 4.24)(:PAR :N Y :V 0.8)(:PAR :N DX :V 1.5)(:PAR :N DY :V 1.2)(:PAR :N LIGHT-LEVEL) (:PAR :N CD_LO) )  ) ( (ENCLOSING-ELEMENT :N WALL_13) (:ADD (CE-WINDOW :N \"DetWin\" :T DET-WINDOW) (:PAR :N X :V 26.015)(:PAR :N Y :V 0.8)(:PAR :N DX :V 3)(:PAR :N DY :V 1.8)(:RES :N GLAZING :V \"Single Clear (WIN7)\")(:PAR :N LIGHT-LEVEL) (:PAR :N CD_LO) )  )( (ENCLOSING-ELEMENT :N WALL_6) (:ADD (OPENING :N \"Door\" :T OPENING)(:PAR :N X :V 3.21)(:PAR :N Y :V 0)(:PAR :N DX :V 0.8)(:PAR :N DY :V 2)(:PAR :N CD_LO)))) ((CE-ZONE :N \"Zone 2\")( (AGGREGATE :N THERMAL-BRIDGES) (:PAR :N WIN-PERIM-LEN)(:PAR :N WIN-PERIM-LEN)(:PAR :N WIN-PERIM-LEN)(:PAR :N WIN-PERIM-LEN)(:PAR :N WIN-PERIM-LEN)(:PAR :N WIN-PERIM-LEN)(:PAR :N WIN-PERIM-LEN)(:PAR :N WIN-PERIM-LEN)(:PAR :N WIN-PERIM-LEN)(:PAR :N WIN-PERIM-LEN)(:PAR :N WIN-PERIM-LEN)(:PAR :N WIN-PERIM-LEN)(:PAR :N WIN-PERIM-LEN)(:PAR :N WIN-PERIM-LEN)(:PAR :N WIN-PERIM-LEN)(:PAR :N WIN-PERIM-LEN)(:PAR :N WIN-PERIM-LEN)(:PAR :N WIN-PERIM-LEN)(:PAR :N WIN-PERIM-LEN)(:PAR :N DOOR-PERIM-LEN))( (ENCLOSING-ELEMENT :N WALL_1) (:ADD (CE-WINDOW :N \"Window\" :T WINDOW) (:PAR :N X :V 1.25)(:PAR :N Y :V 0.8)(:PAR :N DX :V 1.5)(:PAR :N DY :V 1.2)(:PAR :N LIGHT-LEVEL) (:PAR :N CD_LO) )  ) ( (ENCLOSING-ELEMENT :N WALL_2) (:ADD (CE-WINDOW :N \"Window\" :T WINDOW) (:PAR :N X :V 3.0)(:PAR :N Y :V 0.8)(:PAR :N DX :V 1.5)(:PAR :N DY :V 1.2)(:PAR :N LIGHT-LEVEL) (:PAR :N CD_LO) )  ) ( (ENCLOSING-ELEMENT :N WALL_3) (:ADD (CE-WINDOW :N \"Window\" :T WINDOW) (:PAR :N X :V 5.065)(:PAR :N Y :V 0.8)(:PAR :N DX :V 1.5)(:PAR :N DY :V 1.2)(:PAR :N LIGHT-LEVEL) (:PAR :N CD_LO) )  ) ( (ENCLOSING-ELEMENT :N WALL_4) (:ADD (CE-WINDOW :N \"Window\" :T WINDOW) (:PAR :N X :V 4.385)(:PAR :N Y :V 0.8)(:PAR :N DX :V 1.5)(:PAR :N DY :V 1.2)(:PAR :N LIGHT-LEVEL) (:PAR :N CD_LO) )  ) ( (ENCLOSING-ELEMENT :N WALL_5) (:ADD (CE-WINDOW :N \"Window\" :T WINDOW) (:PAR :N X :V 8.285)(:PAR :N Y :V 0.8)(:PAR :N DX :V 1.5)(:PAR :N DY :V 1.2)(:PAR :N LIGHT-LEVEL) (:PAR :N CD_LO) )  ) ( (ENCLOSING-ELEMENT :N WALL_6) (:ADD (CE-WINDOW :N \"Window\" :T WINDOW) (:PAR :N X :V 9.5435)(:PAR :N Y :V 0.8)(:PAR :N DX :V 1.5)(:PAR :N DY :V 1.2)(:PAR :N LIGHT-LEVEL) (:PAR :N CD_LO) )  ) ( (ENCLOSING-ELEMENT :N WALL_7) (:ADD (CE-WINDOW :N \"Window\" :T WINDOW) (:PAR :N X :V 2.5215)(:PAR :N Y :V 0.8)(:PAR :N DX :V 1.5)(:PAR :N DY :V 1.2)(:PAR :N LIGHT-LEVEL) (:PAR :N CD_LO) )  ) ( (ENCLOSING-ELEMENT :N WALL_8) (:ADD (CE-WINDOW :N \"Window\" :T WINDOW) (:PAR :N X :V 3.6100000000000003)(:PAR :N Y :V 0.8)(:PAR :N DX :V 1.5)(:PAR :N DY :V 1.2)(:PAR :N LIGHT-LEVEL) (:PAR :N CD_LO) )  ) ( (ENCLOSING-ELEMENT :N WALL_9) (:ADD (CE-WINDOW :N \"Window\" :T WINDOW) (:PAR :N X :V 2.5088)(:PAR :N Y :V 0.8)(:PAR :N DX :V 1.5)(:PAR :N DY :V 1.2)(:PAR :N LIGHT-LEVEL) (:PAR :N CD_LO) )  ) ( (ENCLOSING-ELEMENT :N WALL_10) (:ADD (CE-WINDOW :N \"Window\" :T WINDOW) (:PAR :N X :V 1.25)(:PAR :N Y :V 0.8)(:PAR :N DX :V 1.5)(:PAR :N DY :V 1.2)(:PAR :N LIGHT-LEVEL) (:PAR :N CD_LO) )  ) ( (ENCLOSING-ELEMENT :N WALL_11) (:ADD (CE-WINDOW :N \"Window\" :T WINDOW) (:PAR :N X :V 2.49)(:PAR :N Y :V 0.8)(:PAR :N DX :V 1.5)(:PAR :N DY :V 1.2)(:PAR :N LIGHT-LEVEL) (:PAR :N CD_LO) )  ) ( (ENCLOSING-ELEMENT :N WALL_13) (:ADD (CE-WINDOW :N \"Window\" :T WINDOW) (:PAR :N X :V 14.75)(:PAR :N Y :V 0.8)(:PAR :N DX :V 1.5)(:PAR :N DY :V 1.2)(:PAR :N LIGHT-LEVEL) (:PAR :N CD_LO) )  ) ( (ENCLOSING-ELEMENT :N WALL_14) (:ADD (CE-WINDOW :N \"Window\" :T WINDOW) (:PAR :N X :V 1.25)(:PAR :N Y :V 0.8)(:PAR :N DX :V 1.5)(:PAR :N DY :V 1.2)(:PAR :N LIGHT-LEVEL) (:PAR :N CD_LO) )  ) ( (ENCLOSING-ELEMENT :N WALL_15) (:ADD (CE-WINDOW :N \"Window\" :T WINDOW) (:PAR :N X :V 4.193)(:PAR :N Y :V 0.8)(:PAR :N DX :V 1.5)(:PAR :N DY :V 1.2)(:PAR :N LIGHT-LEVEL) (:PAR :N CD_LO) )  ) ( (ENCLOSING-ELEMENT :N WALL_16) (:ADD (CE-WINDOW :N \"Window\" :T WINDOW) (:PAR :N X :V 3.527)(:PAR :N Y :V 0.8)(:PAR :N DX :V 1.5)(:PAR :N DY :V 1.2)(:PAR :N LIGHT-LEVEL) (:PAR :N CD_LO) )  ) ( (ENCLOSING-ELEMENT :N WALL_17) (:ADD (CE-WINDOW :N \"Window\" :T WINDOW) (:PAR :N X :V 6.1995)(:PAR :N Y :V 0.8)(:PAR :N DX :V 1.5)(:PAR :N DY :V 1.2)(:PAR :N LIGHT-LEVEL) (:PAR :N CD_LO) )  ) ( (ENCLOSING-ELEMENT :N WALL_18) (:ADD (CE-WINDOW :N \"Window\" :T WINDOW) (:PAR :N X :V 4.825)(:PAR :N Y :V 0.8)(:PAR :N DX :V 1.5)(:PAR :N DY :V 1.2)(:PAR :N LIGHT-LEVEL) (:PAR :N CD_LO) )  ) ( (ENCLOSING-ELEMENT :N WALL_19) (:ADD (CE-WINDOW :N \"Window\" :T WINDOW) (:PAR :N X :V 4.24)(:PAR :N Y :V 0.8)(:PAR :N DX :V 1.5)(:PAR :N DY :V 1.2)(:PAR :N LIGHT-LEVEL) (:PAR :N CD_LO) )  ) ( (ENCLOSING-ELEMENT :N WALL_13) (:ADD (CE-WINDOW :N \"DetWin\" :T DET-WINDOW) (:PAR :N X :V 26.015)(:PAR :N Y :V 0.8)(:PAR :N DX :V 3)(:PAR :N DY :V 1.8)(:RES :N GLAZING :V \"Single Clear (WIN7)\")(:PAR :N LIGHT-LEVEL) (:PAR :N CD_LO) )  )( (ENCLOSING-ELEMENT :N WALL_6) (:ADD (OPENING :N \"Door\" :T OPENING)(:PAR :N X :V 3.21)(:PAR :N Y :V 0)(:PAR :N DX :V 0.8)(:PAR :N DY :V 2)(:PAR :N CD_LO)))) ((CE-ZONE :N \"Zone 3\")( (AGGREGATE :N THERMAL-BRIDGES) (:PAR :N WIN-PERIM-LEN)(:PAR :N WIN-PERIM-LEN)(:PAR :N WIN-PERIM-LEN)(:PAR :N WIN-PERIM-LEN)(:PAR :N WIN-PERIM-LEN)(:PAR :N WIN-PERIM-LEN)(:PAR :N WIN-PERIM-LEN)(:PAR :N WIN-PERIM-LEN)(:PAR :N WIN-PERIM-LEN)(:PAR :N WIN-PERIM-LEN)(:PAR :N WIN-PERIM-LEN)(:PAR :N WIN-PERIM-LEN)(:PAR :N WIN-PERIM-LEN)(:PAR :N WIN-PERIM-LEN)(:PAR :N WIN-PERIM-LEN)(:PAR :N WIN-PERIM-LEN)(:PAR :N WIN-PERIM-LEN)(:PAR :N WIN-PERIM-LEN)(:PAR :N WIN-PERIM-LEN)(:PAR :N DOOR-PERIM-LEN))( (ENCLOSING-ELEMENT :N WALL_1) (:ADD (CE-WINDOW :N \"Window\" :T WINDOW) (:PAR :N X :V 1.25)(:PAR :N Y :V 0.8)(:PAR :N DX :V 1.5)(:PAR :N DY :V 1.2)(:PAR :N LIGHT-LEVEL) (:PAR :N CD_LO) )  ) ( (ENCLOSING-ELEMENT :N WALL_2) (:ADD (CE-WINDOW :N \"Window\" :T WINDOW) (:PAR :N X :V 3.0)(:PAR :N Y :V 0.8)(:PAR :N DX :V 1.5)(:PAR :N DY :V 1.2)(:PAR :N LIGHT-LEVEL) (:PAR :N CD_LO) )  ) ( (ENCLOSING-ELEMENT :N WALL_3) (:ADD (CE-WINDOW :N \"Window\" :T WINDOW) (:PAR :N X :V 5.065)(:PAR :N Y :V 0.8)(:PAR :N DX :V 1.5)(:PAR :N DY :V 1.2)(:PAR :N LIGHT-LEVEL) (:PAR :N CD_LO) )  ) ( (ENCLOSING-ELEMENT :N WALL_4) (:ADD (CE-WINDOW :N \"Window\" :T WINDOW) (:PAR :N X :V 4.385)(:PAR :N Y :V 0.8)(:PAR :N DX :V 1.5)(:PAR :N DY :V 1.2)(:PAR :N LIGHT-LEVEL) (:PAR :N CD_LO) )  ) ( (ENCLOSING-ELEMENT :N WALL_5) (:ADD (CE-WINDOW :N \"Window\" :T WINDOW) (:PAR :N X :V 8.285)(:PAR :N Y :V 0.8)(:PAR :N DX :V 1.5)(:PAR :N DY :V 1.2)(:PAR :N LIGHT-LEVEL) (:PAR :N CD_LO) )  ) ( (ENCLOSING-ELEMENT :N WALL_6) (:ADD (CE-WINDOW :N \"Window\" :T WINDOW) (:PAR :N X :V 9.5435)(:PAR :N Y :V 0.8)(:PAR :N DX :V 1.5)(:PAR :N DY :V 1.2)(:PAR :N LIGHT-LEVEL) (:PAR :N CD_LO) )  ) ( (ENCLOSING-ELEMENT :N WALL_7) (:ADD (CE-WINDOW :N \"Window\" :T WINDOW) (:PAR :N X :V 2.5215)(:PAR :N Y :V 0.8)(:PAR :N DX :V 1.5)(:PAR :N DY :V 1.2)(:PAR :N LIGHT-LEVEL) (:PAR :N CD_LO) )  ) ( (ENCLOSING-ELEMENT :N WALL_8) (:ADD (CE-WINDOW :N \"Window\" :T WINDOW) (:PAR :N X :V 3.6100000000000003)(:PAR :N Y :V 0.8)(:PAR :N DX :V 1.5)(:PAR :N DY :V 1.2)(:PAR :N LIGHT-LEVEL) (:PAR :N CD_LO) )  ) ( (ENCLOSING-ELEMENT :N WALL_9) (:ADD (CE-WINDOW :N \"Window\" :T WINDOW) (:PAR :N X :V 2.5088)(:PAR :N Y :V 0.8)(:PAR :N DX :V 1.5)(:PAR :N DY :V 1.2)(:PAR :N LIGHT-LEVEL) (:PAR :N CD_LO) )  ) ( (ENCLOSING-ELEMENT :N WALL_10) (:ADD (CE-WINDOW :N \"Window\" :T WINDOW) (:PAR :N X :V 1.25)(:PAR :N Y :V 0.8)(:PAR :N DX :V 1.5)(:PAR :N DY :V 1.2)(:PAR :N LIGHT-LEVEL) (:PAR :N CD_LO) )  ) ( (ENCLOSING-ELEMENT :N WALL_11) (:ADD (CE-WINDOW :N \"Window\" :T WINDOW) (:PAR :N X :V 2.49)(:PAR :N Y :V 0.8)(:PAR :N DX :V 1.5)(:PAR :N DY :V 1.2)(:PAR :N LIGHT-LEVEL) (:PAR :N CD_LO) )  ) ( (ENCLOSING-ELEMENT :N WALL_13) (:ADD (CE-WINDOW :N \"Window\" :T WINDOW) (:PAR :N X :V 14.75)(:PAR :N Y :V 0.8)(:PAR :N DX :V 1.5)(:PAR :N DY :V 1.2)(:PAR :N LIGHT-LEVEL) (:PAR :N CD_LO) )  ) ( (ENCLOSING-ELEMENT :N WALL_14) (:ADD (CE-WINDOW :N \"Window\" :T WINDOW) (:PAR :N X :V 1.25)(:PAR :N Y :V 0.8)(:PAR :N DX :V 1.5)(:PAR :N DY :V 1.2)(:PAR :N LIGHT-LEVEL) (:PAR :N CD_LO) )  ) ( (ENCLOSING-ELEMENT :N WALL_15) (:ADD (CE-WINDOW :N \"Window\" :T WINDOW) (:PAR :N X :V 4.193)(:PAR :N Y :V 0.8)(:PAR :N DX :V 1.5)(:PAR :N DY :V 1.2)(:PAR :N LIGHT-LEVEL) (:PAR :N CD_LO) )  ) ( (ENCLOSING-ELEMENT :N WALL_16) (:ADD (CE-WINDOW :N \"Window\" :T WINDOW) (:PAR :N X :V 3.527)(:PAR :N Y :V 0.8)(:PAR :N DX :V 1.5)(:PAR :N DY :V 1.2)(:PAR :N LIGHT-LEVEL) (:PAR :N CD_LO) )  ) ( (ENCLOSING-ELEMENT :N WALL_17) (:ADD (CE-WINDOW :N \"Window\" :T WINDOW) (:PAR :N X :V 6.1995)(:PAR :N Y :V 0.8)(:PAR :N DX :V 1.5)(:PAR :N DY :V 1.2)(:PAR :N LIGHT-LEVEL) (:PAR :N CD_LO) )  ) ( (ENCLOSING-ELEMENT :N WALL_18) (:ADD (CE-WINDOW :N \"Window\" :T WINDOW) (:PAR :N X :V 4.825)(:PAR :N Y :V 0.8)(:PAR :N DX :V 1.5)(:PAR :N DY :V 1.2)(:PAR :N LIGHT-LEVEL) (:PAR :N CD_LO) )  ) ( (ENCLOSING-ELEMENT :N WALL_19) (:ADD (CE-WINDOW :N \"Window\" :T WINDOW) (:PAR :N X :V 4.24)(:PAR :N Y :V 0.8)(:PAR :N DX :V 1.5)(:PAR :N DY :V 1.2)(:PAR :N LIGHT-LEVEL) (:PAR :N CD_LO) )  ) ( (ENCLOSING-ELEMENT :N WALL_13) (:ADD (CE-WINDOW :N \"DetWin\" :T DET-WINDOW) (:PAR :N X :V 26.015)(:PAR :N Y :V 0.8)(:PAR :N DX :V 3)(:PAR :N DY :V 1.8)(:RES :N GLAZING :V \"Single Clear (WIN7)\")(:PAR :N LIGHT-LEVEL) (:PAR :N CD_LO) )  )( (ENCLOSING-ELEMENT :N WALL_6) (:ADD (OPENING :N \"Door\" :T OPENING)(:PAR :N X :V 3.21)(:PAR :N Y :V 0)(:PAR :N DX :V 0.8)(:PAR :N DY :V 2)(:PAR :N CD_LO)))) ((CE-ZONE :N \"Zone 4\")( (AGGREGATE :N THERMAL-BRIDGES) (:PAR :N WIN-PERIM-LEN)(:PAR :N WIN-PERIM-LEN)(:PAR :N WIN-PERIM-LEN)(:PAR :N WIN-PERIM-LEN)(:PAR :N WIN-PERIM-LEN)(:PAR :N WIN-PERIM-LEN)(:PAR :N WIN-PERIM-LEN)(:PAR :N WIN-PERIM-LEN)(:PAR :N WIN-PERIM-LEN)(:PAR :N WIN-PERIM-LEN)(:PAR :N WIN-PERIM-LEN)(:PAR :N WIN-PERIM-LEN)(:PAR :N WIN-PERIM-LEN)(:PAR :N WIN-PERIM-LEN)(:PAR :N WIN-PERIM-LEN)(:PAR :N WIN-PERIM-LEN)(:PAR :N WIN-PERIM-LEN)(:PAR :N WIN-PERIM-LEN)(:PAR :N WIN-PERIM-LEN)(:PAR :N DOOR-PERIM-LEN))( (ENCLOSING-ELEMENT :N WALL_1) (:ADD (CE-WINDOW :N \"Window\" :T WINDOW) (:PAR :N X :V 1.25)(:PAR :N Y :V 0.8)(:PAR :N DX :V 1.5)(:PAR :N DY :V 1.2)(:PAR :N LIGHT-LEVEL) (:PAR :N CD_LO) )  ) ( (ENCLOSING-ELEMENT :N WALL_2) (:ADD (CE-WINDOW :N \"Window\" :T WINDOW) (:PAR :N X :V 3.0)(:PAR :N Y :V 0.8)(:PAR :N DX :V 1.5)(:PAR :N DY :V 1.2)(:PAR :N LIGHT-LEVEL) (:PAR :N CD_LO) )  ) ( (ENCLOSING-ELEMENT :N WALL_3) (:ADD (CE-WINDOW :N \"Window\" :T WINDOW) (:PAR :N X :V 5.065)(:PAR :N Y :V 0.8)(:PAR :N DX :V 1.5)(:PAR :N DY :V 1.2)(:PAR :N LIGHT-LEVEL) (:PAR :N CD_LO) )  ) ( (ENCLOSING-ELEMENT :N WALL_4) (:ADD (CE-WINDOW :N \"Window\" :T WINDOW) (:PAR :N X :V 4.385)(:PAR :N Y :V 0.8)(:PAR :N DX :V 1.5)(:PAR :N DY :V 1.2)(:PAR :N LIGHT-LEVEL) (:PAR :N CD_LO) )  ) ( (ENCLOSING-ELEMENT :N WALL_5) (:ADD (CE-WINDOW :N \"Window\" :T WINDOW) (:PAR :N X :V 8.285)(:PAR :N Y :V 0.8)(:PAR :N DX :V 1.5)(:PAR :N DY :V 1.2)(:PAR :N LIGHT-LEVEL) (:PAR :N CD_LO) )  ) ( (ENCLOSING-ELEMENT :N WALL_6) (:ADD (CE-WINDOW :N \"Window\" :T WINDOW) (:PAR :N X :V 9.5435)(:PAR :N Y :V 0.8)(:PAR :N DX :V 1.5)(:PAR :N DY :V 1.2)(:PAR :N LIGHT-LEVEL) (:PAR :N CD_LO) )  ) ( (ENCLOSING-ELEMENT :N WALL_7) (:ADD (CE-WINDOW :N \"Window\" :T WINDOW) (:PAR :N X :V 2.5215)(:PAR :N Y :V 0.8)(:PAR :N DX :V 1.5)(:PAR :N DY :V 1.2)(:PAR :N LIGHT-LEVEL) (:PAR :N CD_LO) )  ) ( (ENCLOSING-ELEMENT :N WALL_8) (:ADD (CE-WINDOW :N \"Window\" :T WINDOW) (:PAR :N X :V 3.6100000000000003)(:PAR :N Y :V 0.8)(:PAR :N DX :V 1.5)(:PAR :N DY :V 1.2)(:PAR :N LIGHT-LEVEL) (:PAR :N CD_LO) )  ) ( (ENCLOSING-ELEMENT :N WALL_9) (:ADD (CE-WINDOW :N \"Window\" :T WINDOW) (:PAR :N X :V 2.5088)(:PAR :N Y :V 0.8)(:PAR :N DX :V 1.5)(:PAR :N DY :V 1.2)(:PAR :N LIGHT-LEVEL) (:PAR :N CD_LO) )  ) ( (ENCLOSING-ELEMENT :N WALL_10) (:ADD (CE-WINDOW :N \"Window\" :T WINDOW) (:PAR :N X :V 1.25)(:PAR :N Y :V 0.8)(:PAR :N DX :V 1.5)(:PAR :N DY :V 1.2)(:PAR :N LIGHT-LEVEL) (:PAR :N CD_LO) )  ) ( (ENCLOSING-ELEMENT :N WALL_11) (:ADD (CE-WINDOW :N \"Window\" :T WINDOW) (:PAR :N X :V 2.49)(:PAR :N Y :V 0.8)(:PAR :N DX :V 1.5)(:PAR :N DY :V 1.2)(:PAR :N LIGHT-LEVEL) (:PAR :N CD_LO) )  ) ( (ENCLOSING-ELEMENT :N WALL_13) (:ADD (CE-WINDOW :N \"Window\" :T WINDOW) (:PAR :N X :V 14.75)(:PAR :N Y :V 0.8)(:PAR :N DX :V 1.5)(:PAR :N DY :V 1.2)(:PAR :N LIGHT-LEVEL) (:PAR :N CD_LO) )  ) ( (ENCLOSING-ELEMENT :N WALL_14) (:ADD (CE-WINDOW :N \"Window\" :T WINDOW) (:PAR :N X :V 1.25)(:PAR :N Y :V 0.8)(:PAR :N DX :V 1.5)(:PAR :N DY :V 1.2)(:PAR :N LIGHT-LEVEL) (:PAR :N CD_LO) )  ) ( (ENCLOSING-ELEMENT :N WALL_15) (:ADD (CE-WINDOW :N \"Window\" :T WINDOW) (:PAR :N X :V 4.193)(:PAR :N Y :V 0.8)(:PAR :N DX :V 1.5)(:PAR :N DY :V 1.2)(:PAR :N LIGHT-LEVEL) (:PAR :N CD_LO) )  ) ( (ENCLOSING-ELEMENT :N WALL_16) (:ADD (CE-WINDOW :N \"Window\" :T WINDOW) (:PAR :N X :V 3.527)(:PAR :N Y :V 0.8)(:PAR :N DX :V 1.5)(:PAR :N DY :V 1.2)(:PAR :N LIGHT-LEVEL) (:PAR :N CD_LO) )  ) ( (ENCLOSING-ELEMENT :N WALL_17) (:ADD (CE-WINDOW :N \"Window\" :T WINDOW) (:PAR :N X :V 6.1995)(:PAR :N Y :V 0.8)(:PAR :N DX :V 1.5)(:PAR :N DY :V 1.2)(:PAR :N LIGHT-LEVEL) (:PAR :N CD_LO) )  ) ( (ENCLOSING-ELEMENT :N WALL_18) (:ADD (CE-WINDOW :N \"Window\" :T WINDOW) (:PAR :N X :V 4.825)(:PAR :N Y :V 0.8)(:PAR :N DX :V 1.5)(:PAR :N DY :V 1.2)(:PAR :N LIGHT-LEVEL) (:PAR :N CD_LO) )  ) ( (ENCLOSING-ELEMENT :N WALL_19) (:ADD (CE-WINDOW :N \"Window\" :T WINDOW) (:PAR :N X :V 4.24)(:PAR :N Y :V 0.8)(:PAR :N DX :V 1.5)(:PAR :N DY :V 1.2)(:PAR :N LIGHT-LEVEL) (:PAR :N CD_LO) )  ) ( (ENCLOSING-ELEMENT :N WALL_13) (:ADD (CE-WINDOW :N \"DetWin\" :T DET-WINDOW) (:PAR :N X :V 26.015)(:PAR :N Y :V 0.8)(:PAR :N DX :V 3)(:PAR :N DY :V 1.8)(:RES :N GLAZING :V \"Single Clear (WIN7)\")(:PAR :N LIGHT-LEVEL) (:PAR :N CD_LO) )  )( (ENCLOSING-ELEMENT :N WALL_6) (:ADD (OPENING :N \"Door\" :T OPENING)(:PAR :N X :V 3.21)(:PAR :N Y :V 0)(:PAR :N DX :V 0.8)(:PAR :N DY :V 2)(:PAR :N CD_LO)))) ((CE-ZONE :N \"Zone 5\")( (AGGREGATE :N THERMAL-BRIDGES) (:PAR :N WIN-PERIM-LEN)(:PAR :N WIN-PERIM-LEN)(:PAR :N WIN-PERIM-LEN)(:PAR :N WIN-PERIM-LEN)(:PAR :N WIN-PERIM-LEN)(:PAR :N WIN-PERIM-LEN)(:PAR :N WIN-PERIM-LEN)(:PAR :N WIN-PERIM-LEN)(:PAR :N WIN-PERIM-LEN)(:PAR :N WIN-PERIM-LEN)(:PAR :N WIN-PERIM-LEN)(:PAR :N WIN-PERIM-LEN)(:PAR :N WIN-PERIM-LEN)(:PAR :N WIN-PERIM-LEN)(:PAR :N WIN-PERIM-LEN)(:PAR :N WIN-PERIM-LEN)(:PAR :N WIN-PERIM-LEN)(:PAR :N WIN-PERIM-LEN)(:PAR :N WIN-PERIM-LEN)(:PAR :N DOOR-PERIM-LEN))( (ENCLOSING-ELEMENT :N WALL_1) (:ADD (CE-WINDOW :N \"Window\" :T WINDOW) (:PAR :N X :V 1.25)(:PAR :N Y :V 0.8)(:PAR :N DX :V 1.5)(:PAR :N DY :V 1.2)(:PAR :N LIGHT-LEVEL) (:PAR :N CD_LO) )  ) ( (ENCLOSING-ELEMENT :N WALL_2) (:ADD (CE-WINDOW :N \"Window\" :T WINDOW) (:PAR :N X :V 3.0)(:PAR :N Y :V 0.8)(:PAR :N DX :V 1.5)(:PAR :N DY :V 1.2)(:PAR :N LIGHT-LEVEL) (:PAR :N CD_LO) )  ) ( (ENCLOSING-ELEMENT :N WALL_3) (:ADD (CE-WINDOW :N \"Window\" :T WINDOW) (:PAR :N X :V 5.065)(:PAR :N Y :V 0.8)(:PAR :N DX :V 1.5)(:PAR :N DY :V 1.2)(:PAR :N LIGHT-LEVEL) (:PAR :N CD_LO) )  ) ( (ENCLOSING-ELEMENT :N WALL_4) (:ADD (CE-WINDOW :N \"Window\" :T WINDOW) (:PAR :N X :V 4.385)(:PAR :N Y :V 0.8)(:PAR :N DX :V 1.5)(:PAR :N DY :V 1.2)(:PAR :N LIGHT-LEVEL) (:PAR :N CD_LO) )  ) ( (ENCLOSING-ELEMENT :N WALL_5) (:ADD (CE-WINDOW :N \"Window\" :T WINDOW) (:PAR :N X :V 8.285)(:PAR :N Y :V 0.8)(:PAR :N DX :V 1.5)(:PAR :N DY :V 1.2)(:PAR :N LIGHT-LEVEL) (:PAR :N CD_LO) )  ) ( (ENCLOSING-ELEMENT :N WALL_6) (:ADD (CE-WINDOW :N \"Window\" :T WINDOW) (:PAR :N X :V 9.5435)(:PAR :N Y :V 0.8)(:PAR :N DX :V 1.5)(:PAR :N DY :V 1.2)(:PAR :N LIGHT-LEVEL) (:PAR :N CD_LO) )  ) ( (ENCLOSING-ELEMENT :N WALL_7) (:ADD (CE-WINDOW :N \"Window\" :T WINDOW) (:PAR :N X :V 2.5215)(:PAR :N Y :V 0.8)(:PAR :N DX :V 1.5)(:PAR :N DY :V 1.2)(:PAR :N LIGHT-LEVEL) (:PAR :N CD_LO) )  ) ( (ENCLOSING-ELEMENT :N WALL_8) (:ADD (CE-WINDOW :N \"Window\" :T WINDOW) (:PAR :N X :V 3.6100000000000003)(:PAR :N Y :V 0.8)(:PAR :N DX :V 1.5)(:PAR :N DY :V 1.2)(:PAR :N LIGHT-LEVEL) (:PAR :N CD_LO) )  ) ( (ENCLOSING-ELEMENT :N WALL_9) (:ADD (CE-WINDOW :N \"Window\" :T WINDOW) (:PAR :N X :V 2.5088)(:PAR :N Y :V 0.8)(:PAR :N DX :V 1.5)(:PAR :N DY :V 1.2)(:PAR :N LIGHT-LEVEL) (:PAR :N CD_LO) )  ) ( (ENCLOSING-ELEMENT :N WALL_10) (:ADD (CE-WINDOW :N \"Window\" :T WINDOW) (:PAR :N X :V 1.25)(:PAR :N Y :V 0.8)(:PAR :N DX :V 1.5)(:PAR :N DY :V 1.2)(:PAR :N LIGHT-LEVEL) (:PAR :N CD_LO) )  ) ( (ENCLOSING-ELEMENT :N WALL_11) (:ADD (CE-WINDOW :N \"Window\" :T WINDOW) (:PAR :N X :V 2.49)(:PAR :N Y :V 0.8)(:PAR :N DX :V 1.5)(:PAR :N DY :V 1.2)(:PAR :N LIGHT-LEVEL) (:PAR :N CD_LO) )  ) ( (ENCLOSING-ELEMENT :N WALL_13) (:ADD (CE-WINDOW :N \"Window\" :T WINDOW) (:PAR :N X :V 14.75)(:PAR :N Y :V 0.8)(:PAR :N DX :V 1.5)(:PAR :N DY :V 1.2)(:PAR :N LIGHT-LEVEL) (:PAR :N CD_LO) )  ) ( (ENCLOSING-ELEMENT :N WALL_14) (:ADD (CE-WINDOW :N \"Window\" :T WINDOW) (:PAR :N X :V 1.25)(:PAR :N Y :V 0.8)(:PAR :N DX :V 1.5)(:PAR :N DY :V 1.2)(:PAR :N LIGHT-LEVEL) (:PAR :N CD_LO) )  ) ( (ENCLOSING-ELEMENT :N WALL_15) (:ADD (CE-WINDOW :N \"Window\" :T WINDOW) (:PAR :N X :V 4.193)(:PAR :N Y :V 0.8)(:PAR :N DX :V 1.5)(:PAR :N DY :V 1.2)(:PAR :N LIGHT-LEVEL) (:PAR :N CD_LO) )  ) ( (ENCLOSING-ELEMENT :N WALL_16) (:ADD (CE-WINDOW :N \"Window\" :T WINDOW) (:PAR :N X :V 3.527)(:PAR :N Y :V 0.8)(:PAR :N DX :V 1.5)(:PAR :N DY :V 1.2)(:PAR :N LIGHT-LEVEL) (:PAR :N CD_LO) )  ) ( (ENCLOSING-ELEMENT :N WALL_17) (:ADD (CE-WINDOW :N \"Window\" :T WINDOW) (:PAR :N X :V 6.1995)(:PAR :N Y :V 0.8)(:PAR :N DX :V 1.5)(:PAR :N DY :V 1.2)(:PAR :N LIGHT-LEVEL) (:PAR :N CD_LO) )  ) ( (ENCLOSING-ELEMENT :N WALL_18) (:ADD (CE-WINDOW :N \"Window\" :T WINDOW) (:PAR :N X :V 4.825)(:PAR :N Y :V 0.8)(:PAR :N DX :V 1.5)(:PAR :N DY :V 1.2)(:PAR :N LIGHT-LEVEL) (:PAR :N CD_LO) )  ) ( (ENCLOSING-ELEMENT :N WALL_19) (:ADD (CE-WINDOW :N \"Window\" :T WINDOW) (:PAR :N X :V 4.24)(:PAR :N Y :V 0.8)(:PAR :N DX :V 1.5)(:PAR :N DY :V 1.2)(:PAR :N LIGHT-LEVEL) (:PAR :N CD_LO) )  ) ( (ENCLOSING-ELEMENT :N WALL_13) (:ADD (CE-WINDOW :N \"DetWin\" :T DET-WINDOW) (:PAR :N X :V 26.015)(:PAR :N Y :V 0.8)(:PAR :N DX :V 3)(:PAR :N DY :V 1.8)(:RES :N GLAZING :V \"Single Clear (WIN7)\")(:PAR :N LIGHT-LEVEL) (:PAR :N CD_LO) )  )( (ENCLOSING-ELEMENT :N WALL_6) (:ADD (OPENING :N \"Door\" :T OPENING)(:PAR :N X :V 3.21)(:PAR :N Y :V 0)(:PAR :N DX :V 0.8)(:PAR :N DY :V 2)(:PAR :N CD_LO)))) )\n"
     ]
    },
    {
     "name": "stdout",
     "output_type": "stream",
     "text": [
      "False\n"
     ]
    },
    {
     "data": {
      "text/plain": [
       "False"
      ]
     },
     "execution_count": 10,
     "metadata": {},
     "output_type": "execute_result"
    }
   ],
   "source": [
    "# Apply scripts\n",
    "run1 = RunScript()\n",
    "script = run1.generate_script(wins, doors, num_floors)\n",
    "run1.apply_script(building,script)"
   ]
  },
  {
   "cell_type": "markdown",
   "metadata": {},
   "source": [
    "## Now, you can shift to IDA ICE and see generatd model!"
   ]
  },
  {
   "cell_type": "code",
   "execution_count": null,
   "metadata": {},
   "outputs": [],
   "source": [
    "# Save model\n",
    "saveIDM(building, \"D:\\\\ide_mine\\\\changing\\\\ut1_4.idm\", 1)"
   ]
  }
 ],
 "metadata": {
  "kernelspec": {
   "display_name": "Python 3",
   "language": "python",
   "name": "python3"
  },
  "language_info": {
   "codemirror_mode": {
    "name": "ipython",
    "version": 3
   },
   "file_extension": ".py",
   "mimetype": "text/x-python",
   "name": "python",
   "nbconvert_exporter": "python",
   "pygments_lexer": "ipython3",
   "version": "3.8.2"
  }
 },
 "nbformat": 4,
 "nbformat_minor": 4
}
