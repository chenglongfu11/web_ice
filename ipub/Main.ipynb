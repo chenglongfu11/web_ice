{
 "cells": [
  {
   "cell_type": "markdown",
   "metadata": {},
   "source": [
    "# IDA ICE Automation Tool\n",
    "\n",
    "## Updates of functions:\n",
    "1. Zone Clone\n",
    "2. Add windows and doors to zones ( Known gemotries, dimensions )\n",
    "\n",
    "## TO RUN\n",
    "1. Install IDA ICE 4.8 \n",
    "2. Windows Services Management Tool (system level)  -> start 'IDAMessageBrokerService -> Optional: Startup Type: Automatic\n",
    "3. Open the project\n",
    "4. Go to config.py: change APP_PATH and BUILDING_PATH. \n",
    "5. Zone Clone and windows add function:  \n",
    "  (1) BUILDING_PATH : your_project(web_ice)/buildings/ut1.idm  \n",
    "  (2) go to runScript.py and run it  \n",
    "  (3) You can see the IDA ICE GUI and moniter the automatic constrction in 3D tab directly  \n"
   ]
  },
  {
   "cell_type": "code",
   "execution_count": 1,
   "metadata": {},
   "outputs": [],
   "source": [
    "import sys\n",
    "sys.path.append(\"..\")\n",
    "\n",
    "from basic import *\n",
    "import config\n",
    "from runscript import RunScript\n",
    "from util import *\n",
    "import zoneclone"
   ]
  },
  {
   "cell_type": "markdown",
   "metadata": {},
   "source": [
    "Step 1 : configure your own application path and target building path"
   ]
  },
  {
   "cell_type": "code",
   "execution_count": 2,
   "metadata": {},
   "outputs": [
    {
     "name": "stdout",
     "output_type": "stream",
     "text": [
      "D:\\idaice\\bin\\ b'd:\\\\ide_mine\\\\ut1.idm'\n"
     ]
    }
   ],
   "source": [
    "app=\"D:\\\\idaice\\\\bin\\\\\"\n",
    "bld=\"d:\\\\ide_mine\\\\ut1.idm\"\n",
    "config.assign_path(app, bld)"
   ]
  },
  {
   "cell_type": "code",
   "execution_count": 4,
   "metadata": {},
   "outputs": [
    {
     "ename": "OSError",
     "evalue": "[WinError -529697949] Windows Error 0xe06d7363",
     "output_type": "error",
     "traceback": [
      "\u001b[1;31m---------------------------------------------------------------------------\u001b[0m",
      "\u001b[1;31mOSError\u001b[0m                                   Traceback (most recent call last)",
      "\u001b[1;32m<ipython-input-4-dd911c6b88a1>\u001b[0m in \u001b[0;36m<module>\u001b[1;34m\u001b[0m\n\u001b[0;32m      1\u001b[0m \u001b[1;31m# Building object\u001b[0m\u001b[1;33m\u001b[0m\u001b[1;33m\u001b[0m\u001b[1;33m\u001b[0m\u001b[0m\n\u001b[1;32m----> 2\u001b[1;33m \u001b[0mconnectIDA\u001b[0m\u001b[1;33m(\u001b[0m\u001b[1;33m)\u001b[0m\u001b[1;33m\u001b[0m\u001b[1;33m\u001b[0m\u001b[0m\n\u001b[0m",
      "\u001b[1;32mD:\\untitled\\basic.py\u001b[0m in \u001b[0;36mconnectIDA\u001b[1;34m()\u001b[0m\n\u001b[0;32m     21\u001b[0m \u001b[1;33m\u001b[0m\u001b[0m\n\u001b[0;32m     22\u001b[0m     \u001b[1;31m# Open a saved building\u001b[0m\u001b[1;33m\u001b[0m\u001b[1;33m\u001b[0m\u001b[1;33m\u001b[0m\u001b[0m\n\u001b[1;32m---> 23\u001b[1;33m     \u001b[0mbuilding\u001b[0m \u001b[1;33m=\u001b[0m \u001b[0mcall_ida_api_function\u001b[0m\u001b[1;33m(\u001b[0m\u001b[0mida_lib\u001b[0m\u001b[1;33m.\u001b[0m\u001b[0mopenDocument\u001b[0m\u001b[1;33m,\u001b[0m \u001b[0mconfig\u001b[0m\u001b[1;33m.\u001b[0m\u001b[0mBUILDING_PATH\u001b[0m\u001b[1;33m)\u001b[0m\u001b[1;33m\u001b[0m\u001b[1;33m\u001b[0m\u001b[0m\n\u001b[0m\u001b[0;32m     24\u001b[0m     \u001b[1;32mreturn\u001b[0m \u001b[0mbuilding\u001b[0m\u001b[1;33m\u001b[0m\u001b[1;33m\u001b[0m\u001b[0m\n\u001b[0;32m     25\u001b[0m \u001b[1;33m\u001b[0m\u001b[0m\n",
      "\u001b[1;32mD:\\untitled\\ipub\\util.py\u001b[0m in \u001b[0;36mcall_ida_api_function\u001b[1;34m(fun, *args)\u001b[0m\n\u001b[0;32m    135\u001b[0m   \u001b[0mp\u001b[0m \u001b[1;33m=\u001b[0m \u001b[0mctypes\u001b[0m\u001b[1;33m.\u001b[0m\u001b[0mcreate_string_buffer\u001b[0m\u001b[1;33m(\u001b[0m\u001b[1;36m5000\u001b[0m\u001b[1;33m)\u001b[0m\u001b[1;33m\u001b[0m\u001b[1;33m\u001b[0m\u001b[0m\n\u001b[0;32m    136\u001b[0m   \u001b[0margs\u001b[0m \u001b[1;33m=\u001b[0m \u001b[0margs\u001b[0m \u001b[1;33m+\u001b[0m \u001b[1;33m(\u001b[0m\u001b[0mp\u001b[0m\u001b[1;33m,\u001b[0m\u001b[0mlen\u001b[0m\u001b[1;33m(\u001b[0m\u001b[0mp\u001b[0m\u001b[1;33m)\u001b[0m\u001b[1;33m)\u001b[0m\u001b[1;33m\u001b[0m\u001b[1;33m\u001b[0m\u001b[0m\n\u001b[1;32m--> 137\u001b[1;33m   \u001b[0mres\u001b[0m \u001b[1;33m=\u001b[0m \u001b[0mfun\u001b[0m\u001b[1;33m(\u001b[0m\u001b[1;33m*\u001b[0m\u001b[0margs\u001b[0m\u001b[1;33m)\u001b[0m\u001b[1;33m\u001b[0m\u001b[1;33m\u001b[0m\u001b[0m\n\u001b[0m\u001b[0;32m    138\u001b[0m   \u001b[1;32mif\u001b[0m \u001b[0mres\u001b[0m \u001b[1;33m==\u001b[0m \u001b[1;36m0\u001b[0m\u001b[1;33m:\u001b[0m\u001b[1;33m\u001b[0m\u001b[1;33m\u001b[0m\u001b[0m\n\u001b[0;32m    139\u001b[0m     \u001b[1;32mreturn\u001b[0m \u001b[0mida_poll_results_queue\u001b[0m\u001b[1;33m(\u001b[0m\u001b[1;36m0.1\u001b[0m\u001b[1;33m)\u001b[0m\u001b[1;33m\u001b[0m\u001b[1;33m\u001b[0m\u001b[0m\n",
      "\u001b[1;31mOSError\u001b[0m: [WinError -529697949] Windows Error 0xe06d7363"
     ]
    }
   ],
   "source": [
    "# Building object\n",
    "connectIDA()"
   ]
  },
  {
   "cell_type": "markdown",
   "metadata": {},
   "source": [
    "Step 2 : clone zones with known building height, floor height and number of floors"
   ]
  },
  {
   "cell_type": "code",
   "execution_count": null,
   "metadata": {},
   "outputs": [],
   "source": [
    "# Clone zone\n",
    "building_ht = 22.5             \n",
    "floor_ht = 2.6                 \n",
    "num_floors = 5\n",
    "\n",
    "zoneClone = zoneclone.ZoneClone()\n",
    "result = zoneClone.clone_zone(floor_ht, num_floors)\n",
    "result"
   ]
  },
  {
   "cell_type": "markdown",
   "metadata": {},
   "source": [
    "Step 3 : assign windows and doors  \n",
    "      If a list of wall width is provided, a window is generated in the middle of each wall  \n",
    "      You can assign them by providing the relative geometries of doors and windows on walls "
   ]
  },
  {
   "cell_type": "code",
   "execution_count": null,
   "metadata": {},
   "outputs": [],
   "source": [
    "wall_width_list = [4, 7.5, 11.63, 10.27, 18.07, 20.587, 6.543, 8.72, 6.5176, 4, 6.48, 2.59, 31, 4, 9.886, 8.554,\n",
    "                       13.899, 11.15, 9.98]\n",
    "\n",
    "wins = []\n",
    "for i in range(len(wall_width_list)):\n",
    "    width = wall_width_list[i]\n",
    "    if width > win_dx + 2 and wall_height > win_dy:  # to make sure it is in the zone\n",
    "        win = {}\n",
    "        win['w_wall_name'] = 'WALL_' + str(i + 1)\n",
    "        win['win_x'] = str(width / 2 - win_dx / 2)\n",
    "        win['win_y'] = '0.8'\n",
    "        win['win_dx'] = '1.5'\n",
    "        win['win_dy'] = '1.2'\n",
    "        wins.append(win)"
   ]
  },
  {
   "cell_type": "code",
   "execution_count": null,
   "metadata": {},
   "outputs": [],
   "source": [
    "# Detailed window\n",
    "win2 = {}\n",
    "win2['w_wall_name'] = 'WALL_13'\n",
    "win2['win_x'] = '26.015'\n",
    "win2['win_y'] = '0.8'\n",
    "win2['win_dx'] = '3'\n",
    "win2['win_dy'] = '1.8'\n",
    "win2['detailed'] = 1   # true 1   false 0\n",
    "win2['glazing'] = 1\n",
    "wins.append(win2)"
   ]
  },
  {
   "cell_type": "code",
   "execution_count": null,
   "metadata": {},
   "outputs": [],
   "source": [
    "doors = []\n",
    "door = {}\n",
    "door['d_wall_name'] = 'WALL_6'\n",
    "door['door_x'] = '3.21'\n",
    "doors.append(door)"
   ]
  },
  {
   "cell_type": "code",
   "execution_count": null,
   "metadata": {},
   "outputs": [],
   "source": [
    "# Apply scripts\n",
    "run1 = RunScript()\n",
    "script = run1.generate_script(wins, doors)\n",
    "run1.apply_script(building,script)"
   ]
  },
  {
   "cell_type": "markdown",
   "metadata": {},
   "source": [
    "## Now, you can shift to IDA ICE and see generatd model!"
   ]
  },
  {
   "cell_type": "code",
   "execution_count": null,
   "metadata": {},
   "outputs": [],
   "source": [
    "# Save model\n",
    "saveIDM(building, \"D:\\\\ide_mine\\\\changing\\\\ut1_4.idm\", 1)"
   ]
  }
 ],
 "metadata": {
  "kernelspec": {
   "display_name": "Python 3",
   "language": "python",
   "name": "python3"
  },
  "language_info": {
   "codemirror_mode": {
    "name": "ipython",
    "version": 3
   },
   "file_extension": ".py",
   "mimetype": "text/x-python",
   "name": "python",
   "nbconvert_exporter": "python",
   "pygments_lexer": "ipython3",
   "version": "3.8.2"
  }
 },
 "nbformat": 4,
 "nbformat_minor": 4
}
