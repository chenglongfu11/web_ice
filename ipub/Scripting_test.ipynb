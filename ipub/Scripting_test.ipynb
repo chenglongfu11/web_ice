{
 "cells": [
  {
   "cell_type": "code",
   "execution_count": 1,
   "metadata": {},
   "outputs": [],
   "source": [
    "from util import *\n",
    "\n",
    "pid = start()\n",
    "test = ida_lib.connect_to_ida(b\"5945\", pid.encode())\n",
    "building = call_ida_api_function(ida_lib.openDocument, b\"D:\\\\ide_mine\\\\changing\\\\ut1.idm\")"
   ]
  },
  {
   "cell_type": "code",
   "execution_count": 4,
   "metadata": {},
   "outputs": [],
   "source": [
    "res = call_ida_api_function(ida_lib.closeDocument, building)\n"
   ]
  },
  {
   "cell_type": "code",
   "execution_count": 7,
   "metadata": {},
   "outputs": [],
   "source": [
    "from collections import defaultdict\n",
    "\n",
    "def showChildrenList(parent):\n",
    "    children = call_ida_api_function(ida_lib.childNodes, parent)\n",
    "    print(\"value:name\")\n",
    "    nameList = defaultdict(int)\n",
    "    for child in children:\n",
    "        name = ida_get_name(child['value'])\n",
    "        nameList[child['value']]=name\n",
    "\n",
    "    str(nameList)\n",
    "    return nameList"
   ]
  },
  {
   "cell_type": "code",
   "execution_count": 7,
   "metadata": {},
   "outputs": [
    {
     "name": "stdout",
     "output_type": "stream",
     "text": [
      "Kalmar\n",
      "Kalmar-1968\n",
      "Floor coating\n",
      "L/W concrete\n",
      "Concrete\n",
      "Concrete floor 150mm\n",
      "Render\n",
      "Rendered l/w concrete wall 250\n",
      "Gypsum\n",
      "Air in 30 mm vert. air gap\n",
      "Light insulation\n",
      "Interior wall with insulation\n",
      "Concrete floor 250mm\n",
      "Concrete joist roof\n",
      "Rendered concrete wall 200\n",
      "Entrance door\n",
      "Wood\n",
      "Aluminium\n",
      "Inner door\n",
      "Ground without insulation\n",
      "3 pane glazing, clear, 4-12-4-12-4\n",
      "4 mm clear\n",
      "Clear_glass-EN14501\n",
      "Energy_glass-EN14501\n",
      "Argon - EN673 (WIN7)\n",
      "Air - EN673 (WIN7)\n",
      "Solar_glass-EN14501\n",
      "Glazing-A_EN14501\n",
      "Glazing-B_EN14501\n",
      "Glazing-C_EN14501\n",
      "Glazing-D_EN14501\n",
      "Single Clear (WIN7)\n",
      "CLEAR_3.DAT (WIN7)\n",
      "Double Clear Air (WIN7)\n",
      "CLEAR_6.DAT (WIN7)\n",
      "Air (WIN7)\n",
      "Double high solar gain low-e (WIN7)\n",
      "CLEAR5.LOF (WIN7)\n",
      "LOW-E_5.LOF (WIN7)\n",
      "Double low-e (air) - deflected (WIN7)\n",
      "LoE270-6.CIG (WIN7)\n",
      "STD-ZONE\n",
      "LOCATION\n",
      "WIND-PROFILE\n",
      "CLIMATE-DEF\n",
      "Lighting, facility\n",
      "Lighting, tenant\n",
      "Equipment, facility\n",
      "Equipment, tenant\n",
      "Electric cooling\n",
      "Fuel cooling\n",
      "District cooling\n",
      "HVAC aux\n",
      "Electric heating\n",
      "Fuel heating\n",
      "District heating\n",
      "Heating, tenant\n",
      "Domestic hot water\n",
      "PV production\n",
      "Wind turbine production\n",
      "CHP electricity\n",
      "SITE\n",
      "SIMULATION_DATA\n",
      "SIMULATIONS\n",
      "SYSPARS\n",
      "STORED-LOG\n",
      "TOTAL-FLOOR-AREA\n",
      "FLPLAN-PROTECT\n",
      "THERMAL-BRIDGES\n",
      "INFILTRATION\n",
      "OTHER-LOSSES\n",
      "DEFAULTS\n",
      "CLIMATE\n",
      "AHU\n",
      "PLANT\n",
      "CLIMATE-FILE\n",
      "GROUND\n",
      "PROJDATA\n",
      "HOLIDAYS\n",
      "CONTROLLER\n",
      "OUTPUT\n",
      "ARCDATA\n",
      "Floor_36\n",
      "Zone 1\n",
      "ParmRun_1\n",
      "THREE-D-MODEL\n",
      "PROJECT_REPORT\n",
      "PLANT_POWER\n",
      "ENERGY-REPORT\n",
      "SYSTEMS-ENERGY-REPORT\n",
      "INDATA-REPORT\n"
     ]
    }
   ],
   "source": [
    "\n",
    "children = call_ida_api_function(ida_lib.childNodes, building)\n",
    "for child in children:\n",
    "    name = ida_get_name(child['value'])\n",
    "    print(name)"
   ]
  },
  {
   "cell_type": "code",
   "execution_count": 14,
   "metadata": {},
   "outputs": [
    {
     "ename": "TypeError",
     "evalue": "ida_get_name() takes 1 positional argument but 2 were given",
     "output_type": "error",
     "traceback": [
      "\u001b[1;31m---------------------------------------------------------------------------\u001b[0m",
      "\u001b[1;31mTypeError\u001b[0m                                 Traceback (most recent call last)",
      "\u001b[1;32m<ipython-input-14-0eabcaec0e34>\u001b[0m in \u001b[0;36m<module>\u001b[1;34m\u001b[0m\n\u001b[0;32m      3\u001b[0m \u001b[0mbuilding_body\u001b[0m\u001b[1;33m\u001b[0m\u001b[1;33m\u001b[0m\u001b[0m\n\u001b[0;32m      4\u001b[0m \u001b[1;32mfor\u001b[0m \u001b[0mchild\u001b[0m \u001b[1;32min\u001b[0m \u001b[0mchildren\u001b[0m\u001b[1;33m:\u001b[0m\u001b[1;33m\u001b[0m\u001b[1;33m\u001b[0m\u001b[0m\n\u001b[1;32m----> 5\u001b[1;33m     \u001b[0mname\u001b[0m \u001b[1;33m=\u001b[0m \u001b[0mida_get_name\u001b[0m\u001b[1;33m(\u001b[0m\u001b[0mchild\u001b[0m\u001b[1;33m[\u001b[0m\u001b[1;34m'value'\u001b[0m\u001b[1;33m]\u001b[0m\u001b[1;33m,\u001b[0m \u001b[0mtype\u001b[0m\u001b[1;33m(\u001b[0m\u001b[0mchild\u001b[0m\u001b[1;33m[\u001b[0m\u001b[1;34m'value'\u001b[0m\u001b[1;33m]\u001b[0m\u001b[1;33m)\u001b[0m\u001b[1;33m)\u001b[0m\u001b[1;33m\u001b[0m\u001b[1;33m\u001b[0m\u001b[0m\n\u001b[0m\u001b[0;32m      6\u001b[0m     \u001b[0mprint\u001b[0m\u001b[1;33m(\u001b[0m\u001b[0mname\u001b[0m\u001b[1;33m)\u001b[0m\u001b[1;33m\u001b[0m\u001b[1;33m\u001b[0m\u001b[0m\n",
      "\u001b[1;31mTypeError\u001b[0m: ida_get_name() takes 1 positional argument but 2 were given"
     ]
    }
   ],
   "source": [
    "building_body = ida_get_named_child(building, \"Floor_36\")\n",
    "children = call_ida_api_function(ida_lib.childNodes, building_body)\n",
    "building_body\n",
    "for child in children:\n",
    "    name = ida_get_name(child['value'], )\n",
    "    print(name,type(child['value']))"
   ]
  },
  {
   "cell_type": "code",
   "execution_count": 19,
   "metadata": {},
   "outputs": [
    {
     "name": "stdout",
     "output_type": "stream",
     "text": [
      "value:name\n",
      "defaultdict(<class 'int'>, {93: 'PROTECTED_SHAPE', 94: 'NCORN', 95: 'NCOEF', 96: 'CORNERS', 97: 'CONTOURS', 98: 'HEIGHT', 99: 'BOTTOM', 100: 'SURFACE', 101: 'f1', 102: 'f2', 103: 'f3', 104: 'f4', 105: 'f5', 106: 'f6', 107: 'f7', 108: 'f8', 109: 'f9', 110: 'f10', 111: 'f11', 112: 'f12', 113: 'f13', 114: 'f14', 115: 'f15', 116: 'f16', 117: 'f17', 118: 'f18', 119: 'f19', 120: 'Crawl space', 121: 'Roof'})\n"
     ]
    }
   ],
   "source": [
    "building_body = ida_get_named_child(building, \"Floor_36\")\n",
    "xx = showChildrenList(building_body)\n",
    "print(xx)"
   ]
  },
  {
   "cell_type": "code",
   "execution_count": 20,
   "metadata": {},
   "outputs": [],
   "source": [
    "def showChildrenList(parent):\n",
    "    children = call_ida_api_function(ida_lib.childNodes, parent)\n",
    "    nameList = []\n",
    "    for child in children:\n",
    "        name = ida_get_name(child['value'])\n",
    "        nameList.append(name)\n",
    "\n",
    "    str(nameList)\n",
    "    return nameList"
   ]
  },
  {
   "cell_type": "code",
   "execution_count": 21,
   "metadata": {},
   "outputs": [
    {
     "name": "stdout",
     "output_type": "stream",
     "text": [
      "['Kalmar', 'Kalmar-1968', 'Floor coating', 'L/W concrete', 'Concrete', 'Concrete floor 150mm', 'Render', 'Rendered l/w concrete wall 250', 'Gypsum', 'Air in 30 mm vert. air gap', 'Light insulation', 'Interior wall with insulation', 'Concrete floor 250mm', 'Concrete joist roof', 'Rendered concrete wall 200', 'Entrance door', 'Wood', 'Aluminium', 'Inner door', 'Ground without insulation', '3 pane glazing, clear, 4-12-4-12-4', '4 mm clear', 'Clear_glass-EN14501', 'Energy_glass-EN14501', 'Argon - EN673 (WIN7)', 'Air - EN673 (WIN7)', 'Solar_glass-EN14501', 'Glazing-A_EN14501', 'Glazing-B_EN14501', 'Glazing-C_EN14501', 'Glazing-D_EN14501', 'Single Clear (WIN7)', 'CLEAR_3.DAT (WIN7)', 'Double Clear Air (WIN7)', 'CLEAR_6.DAT (WIN7)', 'Air (WIN7)', 'Double high solar gain low-e (WIN7)', 'CLEAR5.LOF (WIN7)', 'LOW-E_5.LOF (WIN7)', 'Double low-e (air) - deflected (WIN7)', 'LoE270-6.CIG (WIN7)', 'STD-ZONE', 'LOCATION', 'WIND-PROFILE', 'CLIMATE-DEF', 'Lighting, facility', 'Lighting, tenant', 'Equipment, facility', 'Equipment, tenant', 'Electric cooling', 'Fuel cooling', 'District cooling', 'HVAC aux', 'Electric heating', 'Fuel heating', 'District heating', 'Heating, tenant', 'Domestic hot water', 'PV production', 'Wind turbine production', 'CHP electricity', 'SITE', 'SIMULATION_DATA', 'SIMULATIONS', 'SYSPARS', 'STORED-LOG', 'TOTAL-FLOOR-AREA', 'FLPLAN-PROTECT', 'THERMAL-BRIDGES', 'INFILTRATION', 'OTHER-LOSSES', 'DEFAULTS', 'CLIMATE', 'AHU', 'PLANT', 'CLIMATE-FILE', 'GROUND', 'PROJDATA', 'HOLIDAYS', 'CONTROLLER', 'OUTPUT', 'ARCDATA', 'Floor_36', 'Zone 1', 'ParmRun_1', 'THREE-D-MODEL', 'PROJECT_REPORT', 'PLANT_POWER', 'ENERGY-REPORT', 'SYSTEMS-ENERGY-REPORT', 'INDATA-REPORT']\n"
     ]
    }
   ],
   "source": [
    "print(showChildrenList(building))\n",
    "\n"
   ]
  },
  {
   "cell_type": "code",
   "execution_count": 25,
   "metadata": {},
   "outputs": [],
   "source": [
    "scriptList =[]\n",
    "update_1 = '(:UPDATE [@]( '\n",
    "update_2 = '))'\n",
    "\n",
    "zone_name ='Zone 1'\n",
    "zone_1 = '(CE-ZONE :N \"' + zone_name+ '\")'\n",
    "\n",
    "\n"
   ]
  },
  {
   "cell_type": "code",
   "execution_count": 34,
   "metadata": {},
   "outputs": [
    {
     "data": {
      "text/plain": [
       "'( (AGGREGATE :N THERMAL-BRIDGES) (:PAR :N WIN-PERIM-LEN)(:PAR :N WIN-PERIM-LEN))'"
      ]
     },
     "execution_count": 34,
     "metadata": {},
     "output_type": "execute_result"
    }
   ],
   "source": [
    "thermal_bdg_1 ='( (AGGREGATE :N THERMAL-BRIDGES) '\n",
    "thermal_bdg_2 =')'\n",
    "thermal_bdg_win = '(:PAR :N WIN-PERIM-LEN)'                #both det windows and simple windows\n",
    "thermal_bdg_door = '(:PAR :N DOOR-PERIM-LEN)'\n",
    "thermal_bdg_tot = thermal_bdg_1+thermal_bdg_win *2 +thermal_bdg_door*0+thermal_bdg_2\n",
    "thermal_bdg_tot"
   ]
  },
  {
   "cell_type": "code",
   "execution_count": 23,
   "metadata": {},
   "outputs": [
    {
     "data": {
      "text/plain": [
       "'( (ENCLOSING-ELEMENT :N WALL_6) (:ADD (OPENING :N \"Door\" :T OPENING)(:PAR :N X :V 3.21)(:PAR :N Y :V 1.8)(:PAR :N DX :V 2)(:PAR :N DY :V 2)(:PAR :N CD_LO)))'"
      ]
     },
     "execution_count": 23,
     "metadata": {},
     "output_type": "execute_result"
    }
   ],
   "source": [
    "wall_name ='WALL_6'\n",
    "door_x = '3.21'\n",
    "door_y ='1.8'\n",
    "door_dx ='2'\n",
    "door_dy = '2'\n",
    "opening_1 ='( (ENCLOSING-ELEMENT :N '+ wall_name +') (:ADD (OPENING :N \"Door\" :T OPENING)'\n",
    "opening_2 ='(:PAR :N CD_LO)))'\n",
    "opening_par_x ='(:PAR :N X :V '+ door_x +')'\n",
    "opening_par_y ='(:PAR :N Y :V '+ door_y +')'              #default 0\n",
    "opening_par_dx ='(:PAR :N DX :V ' + door_dx + ')'        #default 0.8\n",
    "opening_par_dy ='(:PAR :N DY :V ' + door_dy + ')'       #default 2\n",
    "opening_tot = opening_1 + opening_par_x + opening_par_y + opening_par_dx + opening_par_dy + opening_2\n",
    "\n",
    "opening_tot"
   ]
  },
  {
   "cell_type": "code",
   "execution_count": 24,
   "metadata": {},
   "outputs": [
    {
     "name": "stdout",
     "output_type": "stream",
     "text": [
      "( (ENCLOSING-ELEMENT :N WALL_15) (:ADD (CE-WINDOW :N \"DetWin\" :T DET-WINDOW) (:PAR :N X :V 6.227)(:PAR :N Y :V 0.8)(:PAR :N DX :V 2)(:PAR :N DY :V 1)(:PAR :N LIGHT-LEVEL) (:PAR :N CD_LO) )  )\n"
     ]
    }
   ],
   "source": [
    "detailed_win = True\n",
    "\n",
    "wall_name ='WALL_15'\n",
    "win_x ='6.227'\n",
    "win_y = '0.8'\n",
    "win_dx = '2'\n",
    "win_dy = '1'\n",
    "\n",
    "window_1_det = '( (ENCLOSING-ELEMENT :N '+ wall_name + ') (:ADD (CE-WINDOW :N \"DetWin\" :T DET-WINDOW) '\n",
    "window_1_sp = '( (ENCLOSING-ELEMENT :N '+ wall_name + ') (:ADD (CE-WINDOW :N \"Window\" :T WINDOW) '\n",
    "window_2 ='(:PAR :N LIGHT-LEVEL) (:PAR :N CD_LO) )  )'\n",
    "window_par_x = '(:PAR :N X :V '+ win_x + ')'\n",
    "window_par_y ='(:PAR :N Y :V '+win_y +')'              \n",
    "window_par_dx ='(:PAR :N DX :V ' + win_dx + ')'        #default 1.2\n",
    "window_par_dy ='(:PAR :N DY :V ' + win_dy + ')'       #default 1.5\n",
    "if detailed_win:\n",
    "    glazingList = ['Double Clear Air (WIN7)', 'Single Clear (WIN7)', 'Double high solar gain low-e (WIN7)', 'Glazing-A_EN14501']\n",
    "    window_glazing ='(:RES :N GLAZING :V \"' + glazingList[2] +'\")'\n",
    "    window_tot = window_1_det + window_par_x + window_par_y + window_par_dx + window_par_dy + window_2\n",
    "    print(window_tot)\n",
    "    \n"
   ]
  },
  {
   "cell_type": "code",
   "execution_count": 26,
   "metadata": {},
   "outputs": [
    {
     "name": "stdout",
     "output_type": "stream",
     "text": [
      "(:UPDATE [@](  (CE-ZONE :N \"Zone 1\") ( (AGGREGATE :N THERMAL-BRIDGES) (:PAR :N WIN-PERIM-LEN)(:PAR :N DOOR-PERIM-LEN)) ( (ENCLOSING-ELEMENT :N WALL_15) (:ADD (CE-WINDOW :N \"DetWin\" :T DET-WINDOW) (:PAR :N X :V 6.227)(:PAR :N Y :V 0.8)(:PAR :N DX :V 2)(:PAR :N DY :V 1)(:PAR :N LIGHT-LEVEL) (:PAR :N CD_LO) )  ) ( (ENCLOSING-ELEMENT :N WALL_6) (:ADD (OPENING :N \"Door\" :T OPENING)(:PAR :N X :V 3.21)(:PAR :N Y :V 1.8)(:PAR :N DX :V 2)(:PAR :N DY :V 2)(:PAR :N CD_LO))) ))\n"
     ]
    }
   ],
   "source": [
    "scriptList = [update_1, zone_1, thermal_bdg_tot, window_tot, opening_tot, update_2]\n",
    "scriptRun =' '.join(scriptList)\n",
    "print(scriptRun)"
   ]
  },
  {
   "cell_type": "code",
   "execution_count": 29,
   "metadata": {},
   "outputs": [
    {
     "name": "stdout",
     "output_type": "stream",
     "text": [
      "(:UPDATE [@]  ((CE-ZONE :N \"Zone 1\")( (AGGREGATE :N THERMAL-BRIDGES) (:PAR :N WIN-PERIM-LEN))( (ENCLOSING-ELEMENT :N WALL_1) (:ADD (CE-WINDOW :N \"Window\" :T WINDOW) (:PAR :N X :V 5.065)(:PAR :N Y :V 0.8)(:PAR :N DX :V 1.5)(:PAR :N DY :V 1.2)(:PAR :N LIGHT-LEVEL) (:PAR :N CD_LO) )  )) ((CE-ZONE :N \"Zone 2\")( (AGGREGATE :N THERMAL-BRIDGES) (:PAR :N WIN-PERIM-LEN))( (ENCLOSING-ELEMENT :N WALL_1) (:ADD (CE-WINDOW :N \"Window\" :T WINDOW) (:PAR :N X :V 5.065)(:PAR :N Y :V 0.8)(:PAR :N DX :V 1.5)(:PAR :N DY :V 1.2)(:PAR :N LIGHT-LEVEL) (:PAR :N CD_LO) )  )) ((CE-ZONE :N \"Zone 3\")( (AGGREGATE :N THERMAL-BRIDGES) (:PAR :N WIN-PERIM-LEN))( (ENCLOSING-ELEMENT :N WALL_1) (:ADD (CE-WINDOW :N \"Window\" :T WINDOW) (:PAR :N X :V 5.065)(:PAR :N Y :V 0.8)(:PAR :N DX :V 1.5)(:PAR :N DY :V 1.2)(:PAR :N LIGHT-LEVEL) (:PAR :N CD_LO) )  )) ((CE-ZONE :N \"Zone 4\")( (AGGREGATE :N THERMAL-BRIDGES) (:PAR :N WIN-PERIM-LEN))( (ENCLOSING-ELEMENT :N WALL_1) (:ADD (CE-WINDOW :N \"Window\" :T WINDOW) (:PAR :N X :V 5.065)(:PAR :N Y :V 0.8)(:PAR :N DX :V 1.5)(:PAR :N DY :V 1.2)(:PAR :N LIGHT-LEVEL) (:PAR :N CD_LO) )  )) ((CE-ZONE :N \"Zone 5\")( (AGGREGATE :N THERMAL-BRIDGES) (:PAR :N WIN-PERIM-LEN))( (ENCLOSING-ELEMENT :N WALL_1) (:ADD (CE-WINDOW :N \"Window\" :T WINDOW) (:PAR :N X :V 5.065)(:PAR :N Y :V 0.8)(:PAR :N DX :V 1.5)(:PAR :N DY :V 1.2)(:PAR :N LIGHT-LEVEL) (:PAR :N CD_LO) )  )) ((CE-ZONE :N \"Zone 6\")( (AGGREGATE :N THERMAL-BRIDGES) (:PAR :N WIN-PERIM-LEN))( (ENCLOSING-ELEMENT :N WALL_1) (:ADD (CE-WINDOW :N \"Window\" :T WINDOW) (:PAR :N X :V 5.065)(:PAR :N Y :V 0.8)(:PAR :N DX :V 1.5)(:PAR :N DY :V 1.2)(:PAR :N LIGHT-LEVEL) (:PAR :N CD_LO) )  )) ((CE-ZONE :N \"Zone 7\")( (AGGREGATE :N THERMAL-BRIDGES) (:PAR :N WIN-PERIM-LEN))( (ENCLOSING-ELEMENT :N WALL_1) (:ADD (CE-WINDOW :N \"Window\" :T WINDOW) (:PAR :N X :V 5.065)(:PAR :N Y :V 0.8)(:PAR :N DX :V 1.5)(:PAR :N DY :V 1.2)(:PAR :N LIGHT-LEVEL) (:PAR :N CD_LO) )  )) )\n"
     ]
    }
   ],
   "source": [
    "script = \"\"\"(:UPDATE [@]  ((CE-ZONE :N \"Zone 1\")( (AGGREGATE :N THERMAL-BRIDGES) (:PAR :N WIN-PERIM-LEN))( (ENCLOSING-ELEMENT :N WALL_1) (:ADD (CE-WINDOW :N \"Window\" :T WINDOW) (:PAR :N X :V 5.065)(:PAR :N Y :V 0.8)(:PAR :N DX :V 1.5)(:PAR :N DY :V 1.2)(:PAR :N LIGHT-LEVEL) (:PAR :N CD_LO) )  )) ((CE-ZONE :N \"Zone 2\")( (AGGREGATE :N THERMAL-BRIDGES) (:PAR :N WIN-PERIM-LEN))( (ENCLOSING-ELEMENT :N WALL_1) (:ADD (CE-WINDOW :N \"Window\" :T WINDOW) (:PAR :N X :V 5.065)(:PAR :N Y :V 0.8)(:PAR :N DX :V 1.5)(:PAR :N DY :V 1.2)(:PAR :N LIGHT-LEVEL) (:PAR :N CD_LO) )  )) ((CE-ZONE :N \"Zone 3\")( (AGGREGATE :N THERMAL-BRIDGES) (:PAR :N WIN-PERIM-LEN))( (ENCLOSING-ELEMENT :N WALL_1) (:ADD (CE-WINDOW :N \"Window\" :T WINDOW) (:PAR :N X :V 5.065)(:PAR :N Y :V 0.8)(:PAR :N DX :V 1.5)(:PAR :N DY :V 1.2)(:PAR :N LIGHT-LEVEL) (:PAR :N CD_LO) )  )) ((CE-ZONE :N \"Zone 4\")( (AGGREGATE :N THERMAL-BRIDGES) (:PAR :N WIN-PERIM-LEN))( (ENCLOSING-ELEMENT :N WALL_1) (:ADD (CE-WINDOW :N \"Window\" :T WINDOW) (:PAR :N X :V 5.065)(:PAR :N Y :V 0.8)(:PAR :N DX :V 1.5)(:PAR :N DY :V 1.2)(:PAR :N LIGHT-LEVEL) (:PAR :N CD_LO) )  )) ((CE-ZONE :N \"Zone 5\")( (AGGREGATE :N THERMAL-BRIDGES) (:PAR :N WIN-PERIM-LEN))( (ENCLOSING-ELEMENT :N WALL_1) (:ADD (CE-WINDOW :N \"Window\" :T WINDOW) (:PAR :N X :V 5.065)(:PAR :N Y :V 0.8)(:PAR :N DX :V 1.5)(:PAR :N DY :V 1.2)(:PAR :N LIGHT-LEVEL) (:PAR :N CD_LO) )  )) ((CE-ZONE :N \"Zone 6\")( (AGGREGATE :N THERMAL-BRIDGES) (:PAR :N WIN-PERIM-LEN))( (ENCLOSING-ELEMENT :N WALL_1) (:ADD (CE-WINDOW :N \"Window\" :T WINDOW) (:PAR :N X :V 5.065)(:PAR :N Y :V 0.8)(:PAR :N DX :V 1.5)(:PAR :N DY :V 1.2)(:PAR :N LIGHT-LEVEL) (:PAR :N CD_LO) )  )) ((CE-ZONE :N \"Zone 7\")( (AGGREGATE :N THERMAL-BRIDGES) (:PAR :N WIN-PERIM-LEN))( (ENCLOSING-ELEMENT :N WALL_1) (:ADD (CE-WINDOW :N \"Window\" :T WINDOW) (:PAR :N X :V 5.065)(:PAR :N Y :V 0.8)(:PAR :N DX :V 1.5)(:PAR :N DY :V 1.2)(:PAR :N LIGHT-LEVEL) (:PAR :N CD_LO) )  )) )\"\"\"\n",
    "script = script.rstrip('\\n')\n",
    "print(script)"
   ]
  },
  {
   "cell_type": "code",
   "execution_count": 31,
   "metadata": {},
   "outputs": [],
   "source": [
    "rs = call_ida_api_function(ida_lib.runIDAScript, building,script.encode())"
   ]
  },
  {
   "cell_type": "code",
   "execution_count": 30,
   "metadata": {},
   "outputs": [],
   "source": [
    "windows = call_ida_api_function(ida_lib.getWindows,building)\n",
    "valueList={}\n",
    "if windows:\n",
    "    for child in windows:\n",
    "        name = ida_get_name(child['value'])\n",
    "        value = ida_get_value(child['value'])\n",
    "        valueList[child['value']]=value       "
   ]
  },
  {
   "cell_type": "code",
   "execution_count": 31,
   "metadata": {},
   "outputs": [
    {
     "data": {
      "text/plain": [
       "{2: 'Slot VALUE of object #<CE-WINDOW(DET-WINDOW) DetWin> found to be missing when attempting SLOT-VALUE.'}"
      ]
     },
     "execution_count": 31,
     "metadata": {},
     "output_type": "execute_result"
    }
   ],
   "source": [
    "valueList"
   ]
  },
  {
   "cell_type": "code",
   "execution_count": 32,
   "metadata": {},
   "outputs": [],
   "source": [
    "res1 = call_ida_api_function(ida_lib.saveDocument,building,b\"D:\\\\ide_mine\\\\changing\\\\ut1_2.idm\",1)"
   ]
  },
  {
   "cell_type": "code",
   "execution_count": 35,
   "metadata": {},
   "outputs": [],
   "source": []
  },
  {
   "cell_type": "code",
   "execution_count": null,
   "metadata": {},
   "outputs": [],
   "source": []
  },
  {
   "cell_type": "code",
   "execution_count": null,
   "metadata": {},
   "outputs": [],
   "source": []
  },
  {
   "cell_type": "code",
   "execution_count": null,
   "metadata": {},
   "outputs": [],
   "source": []
  },
  {
   "cell_type": "code",
   "execution_count": 62,
   "metadata": {},
   "outputs": [],
   "source": [
    "def windowScript(wall_name, win_x, win_y, detailed_win=0, win_dx='2', win_dy='1', glazing=0):\n",
    "\n",
    "    window_1_det = '( (ENCLOSING-ELEMENT :N ' + wall_name + ') (:ADD (CE-WINDOW :N \"DetWin\" :T DET-WINDOW) '\n",
    "    window_1_sp = '( (ENCLOSING-ELEMENT :N ' + wall_name + ') (:ADD (CE-WINDOW :N \"Window\" :T WINDOW) '\n",
    "    window_2 = '(:PAR :N LIGHT-LEVEL) (:PAR :N CD_LO) )  )'\n",
    "    window_par_x = '(:PAR :N X :V ' + win_x + ')'\n",
    "    window_par_y = '(:PAR :N Y :V ' + win_y + ')'\n",
    "    window_par_dx = '(:PAR :N DX :V ' + win_dx + ')'  # default 1.2\n",
    "    window_par_dy = '(:PAR :N DY :V ' + win_dy + ')'  # default 1.5\n",
    "    if detailed_win == 1:\n",
    "        glazingList = ['Double Clear Air (WIN7)', 'Single Clear (WIN7)', 'Double high solar gain low-e (WIN7)',\n",
    "                       'Glazing-A_EN14501']\n",
    "        window_glazing = '(:RES :N GLAZING :V \"' + glazingList[glazing] + '\")'\n",
    "        window_tot = window_1_det + window_par_x + window_par_y + window_par_dx + window_par_dy + window_glazing + window_2\n",
    "\n",
    "    else:\n",
    "        window_tot = window_1_sp + window_par_x + window_par_y + window_par_dx + window_par_dy + window_2\n",
    "\n",
    "    return window_tot"
   ]
  },
  {
   "cell_type": "code",
   "execution_count": 63,
   "metadata": {},
   "outputs": [],
   "source": [
    "win={}\n",
    "win['w_wall_name'] = 'WALL_15'\n",
    "win['win_x'] = '6.227'\n",
    "win['win_y'] = '0.8'\n",
    "\n",
    "win_dx = '2'\n",
    "win_dy = '1'\n",
    "detailed = 0\n",
    "glazing = 0\n",
    "# win_x  win_y\n",
    "if 'win_dx' in win.keys():\n",
    "    win_dx = win['win_dx']\n",
    "if 'win_dy' in win.keys():\n",
    "    win_dy = win['win_dy']\n",
    "if 'detailed' in win.keys():\n",
    "    detailed = win['detailed']\n",
    "if 'glazing' in win.keys():\n",
    "    glazing = win['glazing']\n",
    "    \n",
    "winSc = windowScript(win['w_wall_name'], win['win_x'], win['win_y'], detailed, win_dx, win_dy, glazing)"
   ]
  },
  {
   "cell_type": "code",
   "execution_count": 65,
   "metadata": {},
   "outputs": [
    {
     "name": "stdout",
     "output_type": "stream",
     "text": [
      "( (ENCLOSING-ELEMENT :N ww) (:ADD (CE-WINDOW :N \"DetWin\" :T DET-WINDOW) (:PAR :N X :V 22)(:PAR :N Y :V 11)(:PAR :N DX :V 33)(:PAR :N DY :V 44)(:RES :N GLAZING :V \"Double high solar gain low-e (WIN7)\")(:PAR :N LIGHT-LEVEL) (:PAR :N CD_LO) )  )\n"
     ]
    }
   ],
   "source": [
    "winSc = windowScript('ww', '22', '11', 1, '33','44', 2)\n",
    "print(winSc)"
   ]
  },
  {
   "cell_type": "code",
   "execution_count": null,
   "metadata": {},
   "outputs": [],
   "source": []
  },
  {
   "cell_type": "code",
   "execution_count": null,
   "metadata": {},
   "outputs": [],
   "source": []
  },
  {
   "cell_type": "code",
   "execution_count": 3,
   "metadata": {},
   "outputs": [],
   "source": [
    "def schedule_rule(schedule):\n",
    "    if schedule['plan_type'] == 1:\n",
    "        time = schedule['start']+'-'+schedule['end']\n",
    "        shd_p1 = ' (:ADD (SCHEDULE-DATA :N \"' + time +' weekdays\" :T SCHEDULE-DATA :D \"On weekdays '+time + \\\n",
    "                 ', otherwise off\" :QT FACTOR)'\n",
    "        shd_p2 = '(SCHEDULE-RULE :N \"weekdays '+ time +'\" :T SCHEDULE-RULE :D NIL :RESTRICTION #(1 1 1 1 1 0 0) :VALUE (' + \\\n",
    "                 schedule['start'] + ' 0 '+schedule['end']+' 0 1 0.0))'\n",
    "        shd_p3 = '(SCHEDULE-RULE :N DEFAULT :T SCHEDULE-RULE :D NIL :VALUE 0 :INDEX 1)'\n",
    "        shd_p4 = ')'\n",
    "        shd_tot = shd_p1 + shd_p2 + shd_p3 + shd_p4\n",
    "        shd_name = time + ' weekdays'\n",
    "\n",
    "    elif schedule['plan_type'] == 2:\n",
    "        time = schedule['start'] + '-' + schedule['end']\n",
    "        shd_p1 = '(:ADD (SCHEDULE-DATA :N \"' + time +' every day\" :T SCHEDULE-DATA :D \"On every day '+time+\\\n",
    "                 ', otherwise off\" :QT FACTOR)'\n",
    "        shd_p2 = '(SCHEDULE-RULE :N DEFAULT :T SCHEDULE-RULE :D NIL :VALUE (' + schedule['start']+' 0 '+schedule['end']+' 0 1))'\n",
    "        shd_p3 = ')'\n",
    "        shd_tot = shd_p1 + shd_p2 + shd_p3\n",
    "        shd_name = time + ' every day'\n",
    "\n",
    "    elif schedule['plan_type'] == 3:\n",
    "        shd_tot = ''\n",
    "        shd_name = 'ALWAYS_ON'\n",
    "\n",
    "    else:\n",
    "        shd_tot = ''\n",
    "        shd_name = '0'\n",
    "\n",
    "    return shd_tot, shd_name"
   ]
  },
  {
   "cell_type": "code",
   "execution_count": 5,
   "metadata": {},
   "outputs": [
    {
     "name": "stdout",
     "output_type": "stream",
     "text": [
      "(' (:ADD (SCHEDULE-DATA :N \"3-5 weekdays\" :T SCHEDULE-DATA :D \"On weekdays 3-5, otherwise off\" :QT FACTOR)(SCHEDULE-RULE :N \"weekdays 3-5\" :T SCHEDULE-RULE :D NIL :RESTRICTION #(1 1 1 1 1 0 0) :VALUE (3 0 5 0 1 0.0))(SCHEDULE-RULE :N DEFAULT :T SCHEDULE-RULE :D NIL :VALUE 0 :INDEX 1))', '3-5 weekdays')\n",
      "('(:ADD (SCHEDULE-DATA :N \"3-5 every day\" :T SCHEDULE-DATA :D \"On every day 3-5, otherwise off\" :QT FACTOR)(SCHEDULE-RULE :N DEFAULT :T SCHEDULE-RULE :D NIL :VALUE (3 0 5 0 1)))', '3-5 every day')\n",
      "('', 'ALWAYS_ON')\n",
      "('', '0')\n"
     ]
    }
   ],
   "source": [
    "sch1 = {'plan_type':1, 'start': '3', 'end': '5'}\n",
    "sch2 = {'plan_type':2, 'start': '3', 'end': '5'}\n",
    "sch3 = {'plan_type':3, 'start': '3', 'end': '5'}\n",
    "sch4 = {'plan_type':4, 'start': '3', 'end': '5'}\n",
    "print(schedule_rule(sch1))\n",
    "print(schedule_rule(sch2))\n",
    "print(schedule_rule(sch3))\n",
    "print(schedule_rule(sch4))"
   ]
  },
  {
   "cell_type": "code",
   "execution_count": 2,
   "metadata": {},
   "outputs": [],
   "source": [
    "import os,sys,inspect\n",
    "current_dir = os.path.dirname(os.path.abspath(inspect.getfile(inspect.currentframe())))\n",
    "parent_dir = os.path.dirname(current_dir)\n",
    "sys.path.insert(0, parent_dir) \n",
    "import runscript"
   ]
  },
  {
   "cell_type": "code",
   "execution_count": 3,
   "metadata": {},
   "outputs": [
    {
     "name": "stdout",
     "output_type": "stream",
     "text": [
      "((CE-ZONE :N \"Zone 1\")( (AGGREGATE :N THERMAL-BRIDGES) (:PAR :N WIN-PERIM-LEN))( (ENCLOSING-ELEMENT :N WALL_6) (:ADD (CE-WINDOW :N \"DetWin\" :T DET-WINDOW)  (:PAR :N X :V 3) (:PAR :N Y :V 0.8) (:PAR :N DX :V 1.2) (:PAR :N DY :V 1.5) (:RES :N GLAZING :V \"Double high solar gain low-e (WIN7)\") (:PAR :N INTERNAL_SHADING-CONTROL :V YES) (:PAR :N LIGHT-LEVEL) (:PAR :N CD_LO)  (:PAR :N OPENING-CONTROL :V SCHEDULE)(:RES :N OPENING-SCHEDULE :F 0 :V \"3-8 weekdays\") (:PAR :N RECESS :V 2) ( (WALL-PART :N FRAME) (:PAR :N AREA_FRACTION :V 0.5) (:PAR :N U-VALUE :V 5)) )))\n",
      "(:UPDATE [@]   (:ADD (SCHEDULE-DATA :N \"3-8 weekdays\" :T SCHEDULE-DATA :D \"On weekdays 3-8, otherwise off\" :QT FACTOR)(SCHEDULE-RULE :N \"weekdays 3-8\" :T SCHEDULE-RULE :D NIL :RESTRICTION #(1 1 1 1 1 0 0) :VALUE (3 0 8 0 1 0.0))(SCHEDULE-RULE :N DEFAULT :T SCHEDULE-RULE :D NIL :VALUE 0 :INDEX 1)) ((CE-ZONE :N \"Zone 1\")( (AGGREGATE :N THERMAL-BRIDGES) (:PAR :N WIN-PERIM-LEN))( (ENCLOSING-ELEMENT :N WALL_6) (:ADD (CE-WINDOW :N \"DetWin\" :T DET-WINDOW)  (:PAR :N X :V 3) (:PAR :N Y :V 0.8) (:PAR :N DX :V 1.2) (:PAR :N DY :V 1.5) (:RES :N GLAZING :V \"Double high solar gain low-e (WIN7)\") (:PAR :N INTERNAL_SHADING-CONTROL :V YES) (:PAR :N LIGHT-LEVEL) (:PAR :N CD_LO)  (:PAR :N OPENING-CONTROL :V SCHEDULE)(:RES :N OPENING-SCHEDULE :F 0 :V \"3-8 weekdays\") (:PAR :N RECESS :V 2) ( (WALL-PART :N FRAME) (:PAR :N AREA_FRACTION :V 0.5) (:PAR :N U-VALUE :V 5)) ))) )\n"
     ]
    }
   ],
   "source": [
    "run1 = runscript.RunScript()\n",
    "doors =[]\n",
    "wins = [win]\n",
    "res = run1.generate_script(wins,doors)"
   ]
  },
  {
   "cell_type": "code",
   "execution_count": 4,
   "metadata": {},
   "outputs": [
    {
     "data": {
      "text/plain": [
       "'(:UPDATE [@]   (:ADD (SCHEDULE-DATA :N \"3-8 weekdays\" :T SCHEDULE-DATA :D \"On weekdays 3-8, otherwise off\" :QT FACTOR)(SCHEDULE-RULE :N \"weekdays 3-8\" :T SCHEDULE-RULE :D NIL :RESTRICTION #(1 1 1 1 1 0 0) :VALUE (3 0 8 0 1 0.0))(SCHEDULE-RULE :N DEFAULT :T SCHEDULE-RULE :D NIL :VALUE 0 :INDEX 1)) ((CE-ZONE :N \"Zone 1\")( (AGGREGATE :N THERMAL-BRIDGES) (:PAR :N WIN-PERIM-LEN))( (ENCLOSING-ELEMENT :N WALL_6) (:ADD (CE-WINDOW :N \"DetWin\" :T DET-WINDOW)  (:PAR :N X :V 3) (:PAR :N Y :V 0.8) (:PAR :N DX :V 1.2) (:PAR :N DY :V 1.5) (:RES :N GLAZING :V \"Double high solar gain low-e (WIN7)\") (:PAR :N INTERNAL_SHADING-CONTROL :V YES) (:PAR :N LIGHT-LEVEL) (:PAR :N CD_LO)  (:PAR :N OPENING-CONTROL :V SCHEDULE)(:RES :N OPENING-SCHEDULE :F 0 :V \"3-8 weekdays\") (:PAR :N RECESS :V 2) ( (WALL-PART :N FRAME) (:PAR :N AREA_FRACTION :V 0.5) (:PAR :N U-VALUE :V 5)) ))) )'"
      ]
     },
     "execution_count": 4,
     "metadata": {},
     "output_type": "execute_result"
    }
   ],
   "source": [
    "res"
   ]
  },
  {
   "cell_type": "code",
   "execution_count": 35,
   "metadata": {},
   "outputs": [],
   "source": [
    "import pandas as pd\n",
    "import numpy as np\n",
    "df = pd.read_csv('d:\\\\untitled\\\\buildings\\\\windows.csv')\n"
   ]
  },
  {
   "cell_type": "code",
   "execution_count": 36,
   "metadata": {},
   "outputs": [
    {
     "data": {
      "text/html": [
       "<div>\n",
       "<style scoped>\n",
       "    .dataframe tbody tr th:only-of-type {\n",
       "        vertical-align: middle;\n",
       "    }\n",
       "\n",
       "    .dataframe tbody tr th {\n",
       "        vertical-align: top;\n",
       "    }\n",
       "\n",
       "    .dataframe thead th {\n",
       "        text-align: right;\n",
       "    }\n",
       "</style>\n",
       "<table border=\"1\" class=\"dataframe\">\n",
       "  <thead>\n",
       "    <tr style=\"text-align: right;\">\n",
       "      <th></th>\n",
       "      <th>wall name</th>\n",
       "      <th>win x</th>\n",
       "      <th>win y</th>\n",
       "      <th>win dx</th>\n",
       "      <th>win dy</th>\n",
       "      <th>detailed</th>\n",
       "      <th>glazing</th>\n",
       "      <th>shading</th>\n",
       "      <th>recess</th>\n",
       "    </tr>\n",
       "  </thead>\n",
       "  <tbody>\n",
       "    <tr>\n",
       "      <th>0</th>\n",
       "      <td>WALL _1</td>\n",
       "      <td>1.25</td>\n",
       "      <td>0.8</td>\n",
       "      <td>1.5</td>\n",
       "      <td>1.2</td>\n",
       "      <td>NaN</td>\n",
       "      <td>NaN</td>\n",
       "      <td>NaN</td>\n",
       "      <td>NaN</td>\n",
       "    </tr>\n",
       "    <tr>\n",
       "      <th>1</th>\n",
       "      <td>WALL _2</td>\n",
       "      <td>3.00</td>\n",
       "      <td>0.8</td>\n",
       "      <td>1.5</td>\n",
       "      <td>1.2</td>\n",
       "      <td>NaN</td>\n",
       "      <td>NaN</td>\n",
       "      <td>NaN</td>\n",
       "      <td>NaN</td>\n",
       "    </tr>\n",
       "    <tr>\n",
       "      <th>2</th>\n",
       "      <td>WALL _3</td>\n",
       "      <td>4.30</td>\n",
       "      <td>0.8</td>\n",
       "      <td>3.0</td>\n",
       "      <td>1.2</td>\n",
       "      <td>NaN</td>\n",
       "      <td>NaN</td>\n",
       "      <td>NaN</td>\n",
       "      <td>NaN</td>\n",
       "    </tr>\n",
       "    <tr>\n",
       "      <th>3</th>\n",
       "      <td>WALL _4</td>\n",
       "      <td>4.20</td>\n",
       "      <td>0.8</td>\n",
       "      <td>2.0</td>\n",
       "      <td>1.2</td>\n",
       "      <td>1.0</td>\n",
       "      <td>2.0</td>\n",
       "      <td>NONE</td>\n",
       "      <td>0.5</td>\n",
       "    </tr>\n",
       "    <tr>\n",
       "      <th>4</th>\n",
       "      <td>WALL _5</td>\n",
       "      <td>3.80</td>\n",
       "      <td>0.8</td>\n",
       "      <td>1.5</td>\n",
       "      <td>1.2</td>\n",
       "      <td>0.0</td>\n",
       "      <td>NaN</td>\n",
       "      <td>NaN</td>\n",
       "      <td>NaN</td>\n",
       "    </tr>\n",
       "  </tbody>\n",
       "</table>\n",
       "</div>"
      ],
      "text/plain": [
       "  wall name  win x  win y  win dx  win dy  detailed  glazing shading  recess\n",
       "0   WALL _1   1.25    0.8     1.5     1.2       NaN      NaN     NaN     NaN\n",
       "1   WALL _2   3.00    0.8     1.5     1.2       NaN      NaN     NaN     NaN\n",
       "2   WALL _3   4.30    0.8     3.0     1.2       NaN      NaN     NaN     NaN\n",
       "3   WALL _4   4.20    0.8     2.0     1.2       1.0      2.0    NONE     0.5\n",
       "4   WALL _5   3.80    0.8     1.5     1.2       0.0      NaN     NaN     NaN"
      ]
     },
     "execution_count": 36,
     "metadata": {},
     "output_type": "execute_result"
    }
   ],
   "source": [
    "df.head()"
   ]
  },
  {
   "cell_type": "code",
   "execution_count": 47,
   "metadata": {},
   "outputs": [
    {
     "data": {
      "text/plain": [
       "[{'wall name': ' WALL _1',\n",
       "  'win x': 1.25,\n",
       "  'win y': 0.8,\n",
       "  'win dx': 1.5,\n",
       "  'win dy': 1.2},\n",
       " {'wall name': ' WALL _2',\n",
       "  'win x': 3.0,\n",
       "  'win y': 0.8,\n",
       "  'win dx': 1.5,\n",
       "  'win dy': 1.2},\n",
       " {'wall name': ' WALL _3',\n",
       "  'win x': 4.3,\n",
       "  'win y': 0.8,\n",
       "  'win dx': 3.0,\n",
       "  'win dy': 1.2},\n",
       " {'wall name': ' WALL _4',\n",
       "  'win x': 4.2,\n",
       "  'win y': 0.8,\n",
       "  'win dx': 2.0,\n",
       "  'win dy': 1.2,\n",
       "  'detailed': 1.0,\n",
       "  'glazing': 2.0,\n",
       "  'shading': 'NONE',\n",
       "  'recess': 0.5},\n",
       " {'wall name': ' WALL _5',\n",
       "  'win x': 3.8,\n",
       "  'win y': 0.8,\n",
       "  'win dx': 1.5,\n",
       "  'win dy': 1.2,\n",
       "  'detailed': 0.0},\n",
       " {'wall name': ' WALL _5',\n",
       "  'win x': 12.0,\n",
       "  'win y': 0.8,\n",
       "  'win dx': 1.5,\n",
       "  'win dy': 1.2,\n",
       "  'detailed': 1.0,\n",
       "  'glazing': 1.0,\n",
       "  'recess': 0.6},\n",
       " {'wall name': ' WALL _6',\n",
       "  'win x': 9.0,\n",
       "  'win y': 0.8,\n",
       "  'win dx': 1.5,\n",
       "  'win dy': 1.2},\n",
       " {'wall name': ' WALL _6',\n",
       "  'win x': 15.0,\n",
       "  'win y': 0.8,\n",
       "  'win dx': 1.5,\n",
       "  'win dy': 1.2,\n",
       "  'detailed': 1.0,\n",
       "  'glazing': 2.0,\n",
       "  'shading': 'NONE',\n",
       "  'recess': 1.0},\n",
       " {'wall name': ' WALL _7',\n",
       "  'win x': 2.5,\n",
       "  'win y': 0.8,\n",
       "  'win dx': 1.5,\n",
       "  'win dy': 1.2},\n",
       " {'wall name': ' WALL _8',\n",
       "  'win x': 3.36,\n",
       "  'win y': 0.8,\n",
       "  'win dx': 2.0,\n",
       "  'win dy': 1.2},\n",
       " {'wall name': ' WALL _9',\n",
       "  'win x': 2.5,\n",
       "  'win y': 0.8,\n",
       "  'win dx': 2.0,\n",
       "  'win dy': 1.2},\n",
       " {'wall name': ' WALL _10',\n",
       "  'win x': 1.4,\n",
       "  'win y': 0.8,\n",
       "  'win dx': 1.2,\n",
       "  'win dy': 1.2},\n",
       " {'wall name': ' WALL _11',\n",
       "  'win x': 2.24,\n",
       "  'win y': 0.8,\n",
       "  'win dx': 2.0,\n",
       "  'win dy': 1.2},\n",
       " {'wall name': ' WALL _13', 'win x': 2.0, 'win y': 0.8},\n",
       " {'wall name': ' WALL _13', 'win x': 6.0, 'win y': 0.8},\n",
       " {'wall name': ' WALL _13',\n",
       "  'win x': 15.0,\n",
       "  'win y': 0.8,\n",
       "  'detailed': 1.0,\n",
       "  'glazing': 1.0,\n",
       "  'recess': 1.2},\n",
       " {'wall name': ' WALL _13',\n",
       "  'win x': 24.0,\n",
       "  'win y': 0.8,\n",
       "  'detailed': 0.0,\n",
       "  'glazing': 2.0,\n",
       "  'recess': 1.0},\n",
       " {'wall name': ' WALL _14', 'win x': 1.25, 'win y': 0.8},\n",
       " {'wall name': ' WALL _15',\n",
       "  'win x': 3.9,\n",
       "  'win y': 0.8,\n",
       "  'win dx': 2.0,\n",
       "  'win dy': 1.2},\n",
       " {'wall name': ' WALL _16',\n",
       "  'win x': 3.52,\n",
       "  'win y': 0.8,\n",
       "  'win dx': 1.5,\n",
       "  'win dy': 1.2},\n",
       " {'wall name': ' WALL _17',\n",
       "  'win x': 4.0,\n",
       "  'win y': 0.8,\n",
       "  'win dx': 1.5,\n",
       "  'win dy': 1.2},\n",
       " {'wall name': ' WALL _18',\n",
       "  'win x': 9.0,\n",
       "  'win y': 0.8,\n",
       "  'win dx': 1.5,\n",
       "  'win dy': 1.2},\n",
       " {'wall name': ' WALL _19',\n",
       "  'win x': 5.0,\n",
       "  'win y': 0.8,\n",
       "  'win dx': 1.5,\n",
       "  'win dy': 1.2}]"
      ]
     },
     "execution_count": 47,
     "metadata": {},
     "output_type": "execute_result"
    }
   ],
   "source": [
    "wins = df.to_dict(orient='records')\n",
    "# wins = dict((a.dropna(),b.dropna(),c.dropna(), d.dropna(), e.dropna(), f.dropna(),h.dropna(), i.dropna().to_dict(orient='records')) for a,b,c,d,e,f,g,h,i in df)\n",
    "# wins\n",
    "\n",
    "for win in wins:\n",
    "    win1 = win\n",
    "    for key,val in win.copy().items():\n",
    "        if pd.isnull(val):\n",
    "            win1.pop(key)\n",
    "    win = win1     \n",
    "\n",
    "wins    "
   ]
  },
  {
   "cell_type": "code",
   "execution_count": 1,
   "metadata": {},
   "outputs": [],
   "source": [
    "# win: w_wall_name, win_x, win_y, win_dx, win_dy, detailed, glazing, shading, recess, schedule, material\n",
    "#                 schedule: plan_type, start, end\n",
    "#                 material: area_fraction, u_value\n",
    "schedules = {'plan_type': 1, 'start': 3, 'end': 8}\n",
    "materials = {'area_fraction': 0.5, 'u_value': 5}\n",
    "win = {'w_wall_name': 'WALL_6', 'win_x': 3, 'win_y': 0.8, 'detailed': 1, 'glazing': 2, 'shading': 'YES', 'recess': 2, 'schedule': schedules, 'material':materials}"
   ]
  },
  {
   "cell_type": "code",
   "execution_count": null,
   "metadata": {},
   "outputs": [],
   "source": [
    "xy_dict_list=dict([(i,[a,b]) for i, a,b in zip(df.nodes, df.x,df.y)])\n",
    "for i in df:\n",
    "    "
   ]
  },
  {
   "cell_type": "markdown",
   "metadata": {},
   "source": [
    "# Simulation status check"
   ]
  },
  {
   "cell_type": "code",
   "execution_count": 47,
   "metadata": {},
   "outputs": [],
   "source": [
    "from util1 import *\n",
    "pid = start()\n",
    "test = ida_lib.connect_to_ida(b\"5945\", pid.encode())\n",
    "building = call_ida_api_function(ida_lib.openDocument, b\"D:\\\\ide_mine\\\\changing\\\\ut1_7floorwithWin_wwr0.2.idm\")"
   ]
  },
  {
   "cell_type": "code",
   "execution_count": 40,
   "metadata": {},
   "outputs": [
    {
     "data": {
      "text/plain": [
       "False"
      ]
     },
     "execution_count": 40,
     "metadata": {},
     "output_type": "execute_result"
    }
   ],
   "source": [
    "call_ida_api_function(ida_lib.runSimulation, building, 2)"
   ]
  },
  {
   "cell_type": "code",
   "execution_count": 49,
   "metadata": {},
   "outputs": [
    {
     "data": {
      "text/plain": [
       "('IDLE', 0)"
      ]
     },
     "execution_count": 49,
     "metadata": {},
     "output_type": "execute_result"
    }
   ],
   "source": [
    "# before simulation\n",
    "ida_checkstatus()"
   ]
  },
  {
   "cell_type": "code",
   "execution_count": 48,
   "metadata": {},
   "outputs": [
    {
     "name": "stdout",
     "output_type": "stream",
     "text": [
      "the error is Timeout...\n"
     ]
    }
   ],
   "source": [
    "ida_checkerr()"
   ]
  },
  {
   "cell_type": "code",
   "execution_count": 10,
   "metadata": {},
   "outputs": [
    {
     "data": {
      "text/plain": [
       "('SIMULATING', 0)"
      ]
     },
     "execution_count": 10,
     "metadata": {},
     "output_type": "execute_result"
    }
   ],
   "source": [
    "# When creating mathematical model, no response, we need to wait until simulating\n",
    "ida_checkstatus()"
   ]
  },
  {
   "cell_type": "code",
   "execution_count": 19,
   "metadata": {},
   "outputs": [
    {
     "name": "stdout",
     "output_type": "stream",
     "text": [
      "('SIMULATING', 0)\n",
      "('SIMULATING', 0)\n",
      "('SIMULATING', 0)\n",
      "('SIMULATING', 0)\n",
      "('SIMULATING', 0)\n",
      "('SIMULATING', 0)\n",
      "('SIMULATING', 0)\n",
      "('SIMULATING', 0)\n",
      "('SIMULATING', 0)\n",
      "('SIMULATING', 0)\n",
      "('SIMULATING', 0)\n",
      "('SIMULATING', 0)\n",
      "('SIMULATING', 0)\n",
      "('SIMULATING', 0)\n",
      "('SIMULATING', 0)\n",
      "('SIMULATING', 0)\n",
      "('SIMULATING', 0)\n",
      "('SIMULATING', 0)\n",
      "('SIMULATING', 0)\n",
      "('SIMULATING', 0)\n",
      "('SIMULATING', 0)\n",
      "('SIMULATING', 0)\n",
      "('SIMULATING', 0)\n",
      "('SIMULATING', 0)\n",
      "('SIMULATING', 0)\n",
      "('SIMULATING', 0)\n",
      "('SIMULATING', 0)\n",
      "('SIMULATING', 0)\n",
      "('SIMULATING', 0)\n",
      "('SIMULATING', 0)\n",
      "('SIMULATING', 0)\n",
      "('SIMULATING', 0)\n",
      "('SIMULATING', 0)\n",
      "('SIMULATING', 0)\n",
      "('SIMULATING', 0)\n",
      "('SIMULATING', 0)\n",
      "('SIMULATING', 0)\n",
      "('SIMULATING', 0)\n",
      "('SIMULATING', 0)\n",
      "('SIMULATING', 0)\n",
      "('SIMULATING', 0)\n",
      "('SIMULATING', 0)\n",
      "('SIMULATING', 0)\n",
      "('SIMULATING', 0)\n",
      "('SIMULATING', 0)\n",
      "('SIMULATING', 0)\n",
      "('SIMULATING', 0)\n",
      "('SIMULATING', 0)\n",
      "('SIMULATING', 0)\n",
      "('SIMULATING', 0)\n",
      "('SIMULATING', 0)\n",
      "('SIMULATING', 0)\n",
      "('SIMULATING', 0)\n",
      "('SIMULATING', 0)\n",
      "('SIMULATING', 0)\n",
      "('SIMULATING', 0)\n",
      "('SIMULATING', 0)\n",
      "('SIMULATING', 0)\n",
      "('SIMULATING', 0)\n",
      "('SIMULATING', 0)\n",
      "('SIMULATING', 0)\n",
      "('SIMULATING', 0)\n",
      "('SIMULATING', 0)\n",
      "('SIMULATING', 0)\n",
      "('SIMULATING', 0)\n",
      "('SIMULATING', 0)\n",
      "('SIMULATING', 0)\n",
      "('SIMULATING', 0)\n",
      "('SIMULATING', 0)\n",
      "('SIMULATING', 0)\n",
      "('SIMULATING', 0)\n",
      "('SIMULATING', 0)\n",
      "('SIMULATING', 0)\n",
      "('SIMULATING', 0)\n",
      "('SIMULATING', 0)\n",
      "('SIMULATING', 0)\n",
      "('SIMULATING', 0)\n",
      "('SIMULATING', 0)\n",
      "('SIMULATING', 0)\n",
      "('SIMULATING', 0)\n",
      "('SIMULATING', 0)\n",
      "('SIMULATING', 0)\n",
      "('SIMULATING', 0)\n",
      "('SIMULATING', 0)\n",
      "('SIMULATING', 0)\n",
      "('SIMULATING', 0)\n",
      "('SIMULATING', 0)\n",
      "('SIMULATING', 0)\n",
      "('SIMULATING', 0)\n",
      "('SIMULATING', 0)\n",
      "('SIMULATING', 0)\n",
      "('SIMULATING', 0)\n",
      "('SIMULATING', 0)\n",
      "('SIMULATING', 0)\n",
      "('SIMULATING', 0)\n",
      "('SIMULATING', 0)\n",
      "('SIMULATING', 0)\n",
      "('SIMULATING', 0)\n",
      "('SIMULATING', 0)\n",
      "('SIMULATING', 0)\n",
      "('SIMULATING', 0)\n",
      "('SIMULATING', 0)\n",
      "('SIMULATING', 0)\n",
      "('FINISHED', 0)\n",
      "Total time 245.99633359909058\n",
      "Simulation time 213.9268901348114\n"
     ]
    }
   ],
   "source": [
    "# before simulation ,check if it is ideal\n",
    "res1 = ida_checkstatus()\n",
    "if 'IDLE' in res1:\n",
    "    call_ida_api_function_j(ida_lib.runSimulation, building, 2)\n",
    "    a = time.time()\n",
    "# Then creating the mathemaical model    \n",
    "time.sleep(2)\n",
    "res1 = ida_checkstatus()\n",
    "if 'SIMULATING' in res1:\n",
    "    b = time.time()\n",
    "\n",
    "while True:\n",
    "    res2 = ida_checkstatus()\n",
    "    print(res2)\n",
    "    if 'FINISHED' in res2:\n",
    "        enda = time.time()-a\n",
    "        endb = time.time()-b\n",
    "        break\n",
    "    time.sleep(2)\n",
    "\n",
    "print('Total time',enda)\n",
    "print('Simulation time', endb)\n",
    "energy_report = ida_get_named_child(building, 'ENERGY-REPORT')\n",
    "res = call_ida_api_function(ida_lib.printReport, energy_report, b\"D:\\\\ide_mine\\\\changing\\\\ut11.html\",1)    "
   ]
  },
  {
   "cell_type": "code",
   "execution_count": 29,
   "metadata": {},
   "outputs": [],
   "source": [
    "import os.path\n",
    "from os import path"
   ]
  },
  {
   "cell_type": "code",
   "execution_count": 30,
   "metadata": {},
   "outputs": [
    {
     "data": {
      "text/plain": [
       "True"
      ]
     },
     "execution_count": 30,
     "metadata": {},
     "output_type": "execute_result"
    }
   ],
   "source": [
    "path.exists(\"D:\\\\ide_mine\\\\changing\\\\ut11.html\")"
   ]
  },
  {
   "cell_type": "code",
   "execution_count": 13,
   "metadata": {},
   "outputs": [],
   "source": [
    "a = time.time()"
   ]
  },
  {
   "cell_type": "markdown",
   "metadata": {},
   "source": [
    "# New functions importIFCFile, export3DView, exportDiagram"
   ]
  },
  {
   "cell_type": "code",
   "execution_count": 6,
   "metadata": {},
   "outputs": [],
   "source": [
    "from util1 import *\n",
    "pid = start()\n",
    "test = ida_lib.connect_to_ida(b\"5945\", pid.encode())\n",
    "building = call_ida_api_function(ida_lib.openDocument, b\"D:\\\\ide_mine\\\\changing\\\\ut1_7floorwithWin.idm\")"
   ]
  },
  {
   "cell_type": "code",
   "execution_count": 2,
   "metadata": {},
   "outputs": [
    {
     "data": {
      "text/plain": [
       "<ctypes.c_char_Array_5000 at 0x5ff6460>"
      ]
     },
     "execution_count": 2,
     "metadata": {},
     "output_type": "execute_result"
    }
   ],
   "source": [
    "call_ida_api_function_j(ida_lib.runSimulation, building, 2)"
   ]
  },
  {
   "cell_type": "code",
   "execution_count": 3,
   "metadata": {},
   "outputs": [
    {
     "ename": "OSError",
     "evalue": "exception: access violation reading 0x00000000",
     "output_type": "error",
     "traceback": [
      "\u001b[1;31m---------------------------------------------------------------------------\u001b[0m",
      "\u001b[1;31mOSError\u001b[0m                                   Traceback (most recent call last)",
      "\u001b[1;32m<ipython-input-3-4fb217f5de81>\u001b[0m in \u001b[0;36m<module>\u001b[1;34m\u001b[0m\n\u001b[0;32m      2\u001b[0m \u001b[1;32mimport\u001b[0m \u001b[0mctypes\u001b[0m\u001b[1;33m\u001b[0m\u001b[1;33m\u001b[0m\u001b[0m\n\u001b[0;32m      3\u001b[0m \u001b[0mp\u001b[0m \u001b[1;33m=\u001b[0m \u001b[0mctypes\u001b[0m\u001b[1;33m.\u001b[0m\u001b[0mcreate_string_buffer\u001b[0m\u001b[1;33m(\u001b[0m\u001b[1;36m5000\u001b[0m\u001b[1;33m)\u001b[0m\u001b[1;33m\u001b[0m\u001b[1;33m\u001b[0m\u001b[0m\n\u001b[1;32m----> 4\u001b[1;33m \u001b[0mbuilding\u001b[0m \u001b[1;33m=\u001b[0m \u001b[0mida_lib\u001b[0m\u001b[1;33m.\u001b[0m\u001b[0mimportIFCFile\u001b[0m\u001b[1;33m(\u001b[0m\u001b[0mifc_path\u001b[0m\u001b[1;33m,\u001b[0m \u001b[1;36m0\u001b[0m\u001b[1;33m,\u001b[0m\u001b[1;36m0\u001b[0m\u001b[1;33m,\u001b[0m\u001b[1;36m0\u001b[0m\u001b[1;33m,\u001b[0m\u001b[0mp\u001b[0m\u001b[1;33m,\u001b[0m \u001b[0mlen\u001b[0m\u001b[1;33m(\u001b[0m\u001b[0mp\u001b[0m\u001b[1;33m)\u001b[0m \u001b[1;33m)\u001b[0m\u001b[1;33m\u001b[0m\u001b[1;33m\u001b[0m\u001b[0m\n\u001b[0m\u001b[0;32m      5\u001b[0m \u001b[1;31m# building = call_ida_api_function(ida_lib.importIFCFile,ifc_path, 0,0,0)\u001b[0m\u001b[1;33m\u001b[0m\u001b[1;33m\u001b[0m\u001b[1;33m\u001b[0m\u001b[0m\n",
      "\u001b[1;31mOSError\u001b[0m: exception: access violation reading 0x00000000"
     ]
    }
   ],
   "source": [
    "ifc_path = b'D:\\\\ide_mine\\\\ifc_files\\\\MinnebergComplex.ifc'\n",
    "import ctypes\n",
    "p = ctypes.create_string_buffer(5000)\n",
    "building = ida_lib.importIFCFile(ifc_path, 0,0,0,p, len(p) )\n",
    "# building = call_ida_api_function(ida_lib.importIFCFile,ifc_path, 0,0,0)"
   ]
  },
  {
   "cell_type": "code",
   "execution_count": 4,
   "metadata": {},
   "outputs": [],
   "source": [
    "building = call_ida_api_function(ida_lib.openDocument, b\"D:\\\\ide_mine\\\\changing\\\\ut1.idm\")"
   ]
  },
  {
   "cell_type": "code",
   "execution_count": 7,
   "metadata": {},
   "outputs": [],
   "source": [
    "res = call_ida_api_function(ida_lib.export3DView, building, b\"D:\\\\ide_mine\\\\changing\\\\ut11.png\", 1)"
   ]
  },
  {
   "cell_type": "code",
   "execution_count": 10,
   "metadata": {},
   "outputs": [],
   "source": [
    "res = call_ida_api_function(ida_lib.exportDiagram, building, b\"D:\\\\ide_mine\\\\changing\\\\ut11.png\",2)"
   ]
  },
  {
   "cell_type": "code",
   "execution_count": 7,
   "metadata": {},
   "outputs": [],
   "source": [
    "energy_report = ida_get_named_child(building, 'ENERGY-REPORT')\n",
    "res = call_ida_api_function(ida_lib.printReport, energy_report, b\"D:\\\\ide_mine\\\\changing\\\\ut11.html\",1)"
   ]
  },
  {
   "cell_type": "code",
   "execution_count": null,
   "metadata": {},
   "outputs": [],
   "source": [
    "energy_report = ida_get_named_child(building, 'ENERGY-REPORT')"
   ]
  },
  {
   "cell_type": "code",
   "execution_count": 15,
   "metadata": {},
   "outputs": [],
   "source": [
    "wins = call_ida_api_function(ida_lib.getWindows, building)"
   ]
  },
  {
   "cell_type": "code",
   "execution_count": 26,
   "metadata": {},
   "outputs": [],
   "source": [
    "from collections import defaultdict\n",
    "def showChildrenDict(parent):\n",
    "    children = call_ida_api_function(ida_lib.childNodes, parent)\n",
    "    nameList = defaultdict(int)\n",
    "    for child in children:\n",
    "        name = ida_get_name(child['value'])\n",
    "        nameList[child['value']] = name\n",
    "\n",
    "    str(nameList)\n",
    "    return nameList\n",
    "\n"
   ]
  },
  {
   "cell_type": "code",
   "execution_count": 27,
   "metadata": {},
   "outputs": [
    {
     "name": "stdout",
     "output_type": "stream",
     "text": [
      "defaultdict(<class 'int'>, {136: 'X', 137: 'Y', 135: 'DX', 138: 'DY', 139: 'Z', 140: 'GLAZING', 141: 'INTERNAL_SHADING', 142: 'INTERNAL_SHADING-CONTROL', 143: 'INTERNAL_SHADING-SCHEDULE_0-1', 144: 'LIGHT-LEVEL', 145: 'EXTSHAD-TYPE', 146: 'EXTSHAD-MODEL', 147: 'EXTERNAL_SHADING-CONTROL', 148: 'EXTERNAL_SHADING-SCHEDULE_0-1', 149: 'RECESS', 150: 'OPENING-CONTROL', 151: 'OPENING-SCHEDULE', 152: 'OPENING-HEIGHT', 153: 'OPENING-WIDTH', 154: 'CD_LO', 155: 'FRAME', 156: 'TWIST', 157: 'TILT', 158: 'LINING_INTERNAL_SURFACE', 159: 'LINING_EXTERNAL_SURFACE'})\n"
     ]
    }
   ],
   "source": [
    "win = wins[0]['value']\n",
    "print(showChildrenDict(win))"
   ]
  },
  {
   "cell_type": "code",
   "execution_count": 28,
   "metadata": {},
   "outputs": [
    {
     "data": {
      "text/plain": [
       "1.5"
      ]
     },
     "execution_count": 28,
     "metadata": {},
     "output_type": "execute_result"
    }
   ],
   "source": [
    "dx = ida_get_named_child(win, \"DX\")\n",
    "dx_val = ida_get_value(dx)\n",
    "dx_val"
   ]
  },
  {
   "cell_type": "code",
   "execution_count": null,
   "metadata": {},
   "outputs": [],
   "source": []
  },
  {
   "cell_type": "code",
   "execution_count": 31,
   "metadata": {},
   "outputs": [],
   "source": [
    "import math\n",
    "\n",
    "wall_width_list = [4, 7.5, 11.63, 10.27, 18.07, 20.587, 6.543, 8.72, 6.5176, 4, 6.48, 2.59, 31, 4, 9.886, 8.554,\n",
    "                           13.899, 11.15, 9.98]\n",
    "_ceiling_ht = 3\n",
    "        \n",
    "wwr = [0.1, 0.15, 0.2, 0.25, 0.3, 0.5]\n",
    "sqrt_wwr = math.sqrt(wwr[0])\n",
    "\n",
    "win_wd = wall_width_list[0]*sqrt_wwr\n",
    "win_ht = _ceiling_ht*sqrt_wwr\n",
    "\n",
    "win_x = wall_width_list[0]/2 - win_wd/2\n",
    "win_y = _ceiling_ht/2 - win_ht/2"
   ]
  },
  {
   "cell_type": "code",
   "execution_count": 32,
   "metadata": {},
   "outputs": [
    {
     "name": "stdout",
     "output_type": "stream",
     "text": [
      "1.2649110640673518 0.9486832980505138 1.367544467966324 1.025658350974743\n"
     ]
    }
   ],
   "source": [
    "print(win_wd, win_ht, win_x, win_y)"
   ]
  },
  {
   "cell_type": "code",
   "execution_count": 34,
   "metadata": {},
   "outputs": [
    {
     "name": "stdout",
     "output_type": "stream",
     "text": [
      "Zone 1\n",
      "Zone 2\n",
      "Zone 3\n",
      "Zone 4\n",
      "Zone 5\n",
      "Zone 6\n",
      "Zone 7\n"
     ]
    }
   ],
   "source": [
    "zones = call_ida_api_function(ida_lib.getZones, building)\n",
    "for zone in zones:\n",
    "    zone_val = zone['value']\n",
    "    name = ida_get_name(zone_val)\n",
    "    print(name)\n",
    "    \n",
    "# walls = call_ida_api_function(ida_lib.getChildrenOfType, zone_val, b\"WALL\")"
   ]
  },
  {
   "cell_type": "code",
   "execution_count": 35,
   "metadata": {},
   "outputs": [
    {
     "name": "stdout",
     "output_type": "stream",
     "text": [
      "WALL_1\n",
      "WALL_2\n",
      "WALL_3\n",
      "WALL_4\n",
      "WALL_5\n",
      "WALL_6\n",
      "WALL_7\n",
      "WALL_8\n",
      "WALL_9\n",
      "WALL_10\n",
      "WALL_11\n",
      "WALL_12\n",
      "WALL_13\n",
      "WALL_14\n",
      "WALL_15\n",
      "WALL_16\n",
      "WALL_17\n",
      "WALL_18\n",
      "WALL_19\n"
     ]
    }
   ],
   "source": [
    "walls = call_ida_api_function(ida_lib.getChildrenOfType, zone_val, b\"WALL\")\n",
    "for wall in walls:\n",
    "    wall_val = wall['value']\n",
    "    name = ida_get_name(wall_val)\n",
    "    print(name)"
   ]
  },
  {
   "cell_type": "code",
   "execution_count": 37,
   "metadata": {},
   "outputs": [
    {
     "name": "stdout",
     "output_type": "stream",
     "text": [
      "Window\n"
     ]
    }
   ],
   "source": [
    "wall_val = walls[12]['value']\n",
    "wins = call_ida_api_function(ida_lib.getChildrenOfType, wall_val, b\"WINDOW\")\n",
    "for win in wins:\n",
    "    win_val = win['value']\n",
    "    name = ida_get_name(win_val)\n",
    "    print(name)"
   ]
  },
  {
   "cell_type": "markdown",
   "metadata": {},
   "source": [
    "# 读取html文件 beautifulsoap"
   ]
  },
  {
   "cell_type": "code",
   "execution_count": 1,
   "metadata": {},
   "outputs": [],
   "source": [
    "import pandas as pd\n",
    "from bs4 import BeautifulSoup"
   ]
  },
  {
   "cell_type": "code",
   "execution_count": 2,
   "metadata": {},
   "outputs": [],
   "source": [
    "path = 'D:\\\\ide_mine\\\\changing\\\\ut11.html'\n",
    "path2 = 'D:\\\\ide_mine\\\\changing\\\\ut1_7floorwithWin_wwr0.25.html'\n",
    "path3 = 'D:\\\\ide_mine\\\\changing\\\\ut1_7floorwithWin_wwr0.2.html'\n",
    "path4 = 'D:\\\\ide_mine\\\\changing\\\\ut1_7floorwithWin_wwr0.1.html'"
   ]
  },
  {
   "cell_type": "code",
   "execution_count": 3,
   "metadata": {},
   "outputs": [],
   "source": [
    "htmlfile = open(path, 'r', encoding='utf-8')\n",
    "htmlhandle = htmlfile.read()\n",
    "soup = BeautifulSoup(htmlhandle, 'lxml')"
   ]
  },
  {
   "cell_type": "code",
   "execution_count": 4,
   "metadata": {},
   "outputs": [],
   "source": [
    "htmlfile2 = open(path2, 'r', encoding='utf-8')\n",
    "htmlhandle2 = htmlfile2.read()\n",
    "soup2 = BeautifulSoup(htmlhandle2, 'lxml')"
   ]
  },
  {
   "cell_type": "code",
   "execution_count": 5,
   "metadata": {},
   "outputs": [],
   "source": [
    "htmlfile3 = open(path3, 'r', encoding='utf-8')\n",
    "htmlhandle3 = htmlfile3.read()\n",
    "soup3 = BeautifulSoup(htmlhandle3, 'lxml')"
   ]
  },
  {
   "cell_type": "code",
   "execution_count": 6,
   "metadata": {},
   "outputs": [],
   "source": [
    "htmlfile4 = open(path4, 'r', encoding='utf-8')\n",
    "htmlhandle4 = htmlfile4.read()\n",
    "soup4 = BeautifulSoup(htmlhandle4, 'lxml')"
   ]
  },
  {
   "cell_type": "code",
   "execution_count": 7,
   "metadata": {},
   "outputs": [],
   "source": [
    "tables = soup.findAll(\"table\")\n",
    "table = tables[2]\n",
    "df1 = pd.read_html(str(table))\n",
    "df1 = df1[0]"
   ]
  },
  {
   "cell_type": "code",
   "execution_count": 8,
   "metadata": {},
   "outputs": [],
   "source": [
    "tables = soup2.findAll(\"table\")\n",
    "table = tables[2]\n",
    "df2 = pd.read_html(str(table))\n",
    "df2 = df2[0]"
   ]
  },
  {
   "cell_type": "code",
   "execution_count": 9,
   "metadata": {},
   "outputs": [],
   "source": [
    "tables = soup3.findAll(\"table\")\n",
    "table = tables[2]\n",
    "df3 = pd.read_html(str(table))\n",
    "df3 = df3[0]"
   ]
  },
  {
   "cell_type": "code",
   "execution_count": 10,
   "metadata": {},
   "outputs": [],
   "source": [
    "tables = soup4.findAll(\"table\")\n",
    "table = tables[2]\n",
    "df4 = pd.read_html(str(table))\n",
    "df4 = df4[0]"
   ]
  },
  {
   "cell_type": "code",
   "execution_count": 17,
   "metadata": {},
   "outputs": [
    {
     "name": "stdout",
     "output_type": "stream",
     "text": [
      "x\n"
     ]
    }
   ],
   "source": [
    "if df5.empty:\n",
    "    print('x')"
   ]
  },
  {
   "cell_type": "code",
   "execution_count": 16,
   "metadata": {},
   "outputs": [
    {
     "name": "stderr",
     "output_type": "stream",
     "text": [
      "<ipython-input-16-28fe6c6e459b>:1: DeprecationWarning: The default dtype for empty Series will be 'object' instead of 'float64' in a future version. Specify a dtype explicitly to silence this warning.\n",
      "  df5 = pd.Series([])\n"
     ]
    }
   ],
   "source": [
    "df5 = pd.Series([])"
   ]
  },
  {
   "cell_type": "code",
   "execution_count": 4,
   "metadata": {},
   "outputs": [
    {
     "data": {
      "text/plain": [
       "MultiIndex([('Unnamed: 0_level_0', 'Unnamed: 0_level_1'),\n",
       "            ('Unnamed: 1_level_0', 'Unnamed: 1_level_1'),\n",
       "            (  'Purchased energy',                'kWh'),\n",
       "            (  'Purchased energy',         'kWh/m2  kW'),\n",
       "            (       'Peak demand', 'Unnamed: 4_level_1')],\n",
       "           )"
      ]
     },
     "execution_count": 4,
     "metadata": {},
     "output_type": "execute_result"
    }
   ],
   "source": [
    "df.columns"
   ]
  },
  {
   "cell_type": "code",
   "execution_count": 14,
   "metadata": {},
   "outputs": [],
   "source": [
    "df1.columns = [' '.join(col).strip() for col in df1.columns.values]    #MultiIndex to SingleIndex\n",
    "df2.columns = [' '.join(col).strip() for col in df2.columns.values]    #MultiIndex to SingleIndex\n",
    "df3.columns = [' '.join(col).strip() for col in df3.columns.values]    #MultiIndex to SingleIndex\n",
    "df4.columns = [' '.join(col).strip() for col in df4.columns.values]    #MultiIndex to SingleIndex"
   ]
  },
  {
   "cell_type": "code",
   "execution_count": 41,
   "metadata": {},
   "outputs": [],
   "source": [
    "df1.columns = ['wwr', 'facility', 'kwh', 'kwh/m2', 'kw']\n",
    "df2.columns = ['wwr', 'facility', 'kwh', 'kwh/m2', 'kw']\n",
    "df3.columns = ['wwr', 'facility', 'kwh', 'kwh/m2', 'kw']\n",
    "df4.columns = ['wwr', 'facility', 'kwh', 'kwh/m2', 'kw']\n",
    "for rindex in df1.index:\n",
    "    df1.loc[rindex, 'wwr'] = 0\n",
    "    df2.loc[rindex,'wwr'] = 0.25\n",
    "    df3.loc[rindex,'wwr'] = 0.2\n",
    "    df4.loc[rindex, 'wwr'] = 0.1\n"
   ]
  },
  {
   "cell_type": "code",
   "execution_count": 39,
   "metadata": {},
   "outputs": [],
   "source": [
    "for rindex in df1.index:\n",
    "    df1.loc[rindex, 'wwr'] = 0.2\n",
    "a = df1.loc[df1['facility'] == 'Grand total','wwr'] =0.2"
   ]
  },
  {
   "cell_type": "code",
   "execution_count": 47,
   "metadata": {},
   "outputs": [
    {
     "data": {
      "text/html": [
       "<div>\n",
       "<style scoped>\n",
       "    .dataframe tbody tr th:only-of-type {\n",
       "        vertical-align: middle;\n",
       "    }\n",
       "\n",
       "    .dataframe tbody tr th {\n",
       "        vertical-align: top;\n",
       "    }\n",
       "\n",
       "    .dataframe thead th {\n",
       "        text-align: right;\n",
       "    }\n",
       "</style>\n",
       "<table border=\"1\" class=\"dataframe\">\n",
       "  <thead>\n",
       "    <tr style=\"text-align: right;\">\n",
       "      <th></th>\n",
       "      <th>wwr</th>\n",
       "      <th>facility</th>\n",
       "      <th>kwh</th>\n",
       "      <th>kwh/m2</th>\n",
       "      <th>kw</th>\n",
       "    </tr>\n",
       "  </thead>\n",
       "  <tbody>\n",
       "    <tr>\n",
       "      <th>0</th>\n",
       "      <td>0</td>\n",
       "      <td>Lighting, facility</td>\n",
       "      <td>297355.0</td>\n",
       "      <td>52.7</td>\n",
       "      <td>33.85</td>\n",
       "    </tr>\n",
       "    <tr>\n",
       "      <th>1</th>\n",
       "      <td>0</td>\n",
       "      <td>Electric cooling</td>\n",
       "      <td>28689.0</td>\n",
       "      <td>5.1</td>\n",
       "      <td>72.73</td>\n",
       "    </tr>\n",
       "    <tr>\n",
       "      <th>2</th>\n",
       "      <td>0</td>\n",
       "      <td>HVAC aux</td>\n",
       "      <td>161593.0</td>\n",
       "      <td>28.6</td>\n",
       "      <td>19.35</td>\n",
       "    </tr>\n",
       "    <tr>\n",
       "      <th>3</th>\n",
       "      <td>0</td>\n",
       "      <td>Total, Facility electric</td>\n",
       "      <td>487637.0</td>\n",
       "      <td>86.4</td>\n",
       "      <td>NaN</td>\n",
       "    </tr>\n",
       "    <tr>\n",
       "      <th>4</th>\n",
       "      <td>0</td>\n",
       "      <td>NaN</td>\n",
       "      <td>NaN</td>\n",
       "      <td>NaN</td>\n",
       "      <td>NaN</td>\n",
       "    </tr>\n",
       "    <tr>\n",
       "      <th>5</th>\n",
       "      <td>0</td>\n",
       "      <td>Fuel heating</td>\n",
       "      <td>347576.0</td>\n",
       "      <td>61.6</td>\n",
       "      <td>317.30</td>\n",
       "    </tr>\n",
       "    <tr>\n",
       "      <th>6</th>\n",
       "      <td>0</td>\n",
       "      <td>Domestic hot water</td>\n",
       "      <td>0.0</td>\n",
       "      <td>0.0</td>\n",
       "      <td>0.00</td>\n",
       "    </tr>\n",
       "    <tr>\n",
       "      <th>7</th>\n",
       "      <td>0</td>\n",
       "      <td>Total, Facility fuel*</td>\n",
       "      <td>347576.0</td>\n",
       "      <td>61.6</td>\n",
       "      <td>NaN</td>\n",
       "    </tr>\n",
       "    <tr>\n",
       "      <th>8</th>\n",
       "      <td>0</td>\n",
       "      <td>Total</td>\n",
       "      <td>835213.0</td>\n",
       "      <td>148.0</td>\n",
       "      <td>NaN</td>\n",
       "    </tr>\n",
       "    <tr>\n",
       "      <th>9</th>\n",
       "      <td>0</td>\n",
       "      <td>Equipment, tenant</td>\n",
       "      <td>223014.0</td>\n",
       "      <td>39.5</td>\n",
       "      <td>25.39</td>\n",
       "    </tr>\n",
       "    <tr>\n",
       "      <th>10</th>\n",
       "      <td>0</td>\n",
       "      <td>Total, Tenant electric</td>\n",
       "      <td>223014.0</td>\n",
       "      <td>39.5</td>\n",
       "      <td>NaN</td>\n",
       "    </tr>\n",
       "    <tr>\n",
       "      <th>11</th>\n",
       "      <td>0</td>\n",
       "      <td>Grand total</td>\n",
       "      <td>1058227.0</td>\n",
       "      <td>187.6</td>\n",
       "      <td>NaN</td>\n",
       "    </tr>\n",
       "    <tr>\n",
       "      <th>0</th>\n",
       "      <td>0.25</td>\n",
       "      <td>Lighting, facility</td>\n",
       "      <td>297355.0</td>\n",
       "      <td>52.7</td>\n",
       "      <td>33.85</td>\n",
       "    </tr>\n",
       "    <tr>\n",
       "      <th>1</th>\n",
       "      <td>0.25</td>\n",
       "      <td>Electric cooling</td>\n",
       "      <td>28689.0</td>\n",
       "      <td>5.1</td>\n",
       "      <td>72.73</td>\n",
       "    </tr>\n",
       "    <tr>\n",
       "      <th>2</th>\n",
       "      <td>0.25</td>\n",
       "      <td>HVAC aux</td>\n",
       "      <td>161593.0</td>\n",
       "      <td>28.6</td>\n",
       "      <td>19.35</td>\n",
       "    </tr>\n",
       "    <tr>\n",
       "      <th>3</th>\n",
       "      <td>0.25</td>\n",
       "      <td>Total, Facility electric</td>\n",
       "      <td>487637.0</td>\n",
       "      <td>86.4</td>\n",
       "      <td>NaN</td>\n",
       "    </tr>\n",
       "    <tr>\n",
       "      <th>4</th>\n",
       "      <td>0.25</td>\n",
       "      <td>NaN</td>\n",
       "      <td>NaN</td>\n",
       "      <td>NaN</td>\n",
       "      <td>NaN</td>\n",
       "    </tr>\n",
       "    <tr>\n",
       "      <th>5</th>\n",
       "      <td>0.25</td>\n",
       "      <td>Fuel heating</td>\n",
       "      <td>347576.0</td>\n",
       "      <td>61.6</td>\n",
       "      <td>317.30</td>\n",
       "    </tr>\n",
       "    <tr>\n",
       "      <th>6</th>\n",
       "      <td>0.25</td>\n",
       "      <td>Domestic hot water</td>\n",
       "      <td>0.0</td>\n",
       "      <td>0.0</td>\n",
       "      <td>0.00</td>\n",
       "    </tr>\n",
       "    <tr>\n",
       "      <th>7</th>\n",
       "      <td>0.25</td>\n",
       "      <td>Total, Facility fuel*</td>\n",
       "      <td>347576.0</td>\n",
       "      <td>61.6</td>\n",
       "      <td>NaN</td>\n",
       "    </tr>\n",
       "    <tr>\n",
       "      <th>8</th>\n",
       "      <td>0.25</td>\n",
       "      <td>Total</td>\n",
       "      <td>835213.0</td>\n",
       "      <td>148.0</td>\n",
       "      <td>NaN</td>\n",
       "    </tr>\n",
       "    <tr>\n",
       "      <th>9</th>\n",
       "      <td>0.25</td>\n",
       "      <td>Equipment, tenant</td>\n",
       "      <td>223014.0</td>\n",
       "      <td>39.5</td>\n",
       "      <td>25.39</td>\n",
       "    </tr>\n",
       "    <tr>\n",
       "      <th>10</th>\n",
       "      <td>0.25</td>\n",
       "      <td>Total, Tenant electric</td>\n",
       "      <td>223014.0</td>\n",
       "      <td>39.5</td>\n",
       "      <td>NaN</td>\n",
       "    </tr>\n",
       "    <tr>\n",
       "      <th>11</th>\n",
       "      <td>0.25</td>\n",
       "      <td>Grand total</td>\n",
       "      <td>1058227.0</td>\n",
       "      <td>187.6</td>\n",
       "      <td>NaN</td>\n",
       "    </tr>\n",
       "    <tr>\n",
       "      <th>0</th>\n",
       "      <td>0.2</td>\n",
       "      <td>Lighting, facility</td>\n",
       "      <td>297355.0</td>\n",
       "      <td>52.7</td>\n",
       "      <td>33.85</td>\n",
       "    </tr>\n",
       "    <tr>\n",
       "      <th>1</th>\n",
       "      <td>0.2</td>\n",
       "      <td>Electric cooling</td>\n",
       "      <td>28689.0</td>\n",
       "      <td>5.1</td>\n",
       "      <td>72.73</td>\n",
       "    </tr>\n",
       "    <tr>\n",
       "      <th>2</th>\n",
       "      <td>0.2</td>\n",
       "      <td>HVAC aux</td>\n",
       "      <td>161593.0</td>\n",
       "      <td>28.6</td>\n",
       "      <td>19.35</td>\n",
       "    </tr>\n",
       "    <tr>\n",
       "      <th>3</th>\n",
       "      <td>0.2</td>\n",
       "      <td>Total, Facility electric</td>\n",
       "      <td>487637.0</td>\n",
       "      <td>86.4</td>\n",
       "      <td>NaN</td>\n",
       "    </tr>\n",
       "    <tr>\n",
       "      <th>4</th>\n",
       "      <td>0.2</td>\n",
       "      <td>NaN</td>\n",
       "      <td>NaN</td>\n",
       "      <td>NaN</td>\n",
       "      <td>NaN</td>\n",
       "    </tr>\n",
       "    <tr>\n",
       "      <th>5</th>\n",
       "      <td>0.2</td>\n",
       "      <td>Fuel heating</td>\n",
       "      <td>347576.0</td>\n",
       "      <td>61.6</td>\n",
       "      <td>317.30</td>\n",
       "    </tr>\n",
       "    <tr>\n",
       "      <th>6</th>\n",
       "      <td>0.2</td>\n",
       "      <td>Domestic hot water</td>\n",
       "      <td>0.0</td>\n",
       "      <td>0.0</td>\n",
       "      <td>0.00</td>\n",
       "    </tr>\n",
       "    <tr>\n",
       "      <th>7</th>\n",
       "      <td>0.2</td>\n",
       "      <td>Total, Facility fuel*</td>\n",
       "      <td>347576.0</td>\n",
       "      <td>61.6</td>\n",
       "      <td>NaN</td>\n",
       "    </tr>\n",
       "    <tr>\n",
       "      <th>8</th>\n",
       "      <td>0.2</td>\n",
       "      <td>Total</td>\n",
       "      <td>835213.0</td>\n",
       "      <td>148.0</td>\n",
       "      <td>NaN</td>\n",
       "    </tr>\n",
       "    <tr>\n",
       "      <th>9</th>\n",
       "      <td>0.2</td>\n",
       "      <td>Equipment, tenant</td>\n",
       "      <td>223014.0</td>\n",
       "      <td>39.5</td>\n",
       "      <td>25.39</td>\n",
       "    </tr>\n",
       "    <tr>\n",
       "      <th>10</th>\n",
       "      <td>0.2</td>\n",
       "      <td>Total, Tenant electric</td>\n",
       "      <td>223014.0</td>\n",
       "      <td>39.5</td>\n",
       "      <td>NaN</td>\n",
       "    </tr>\n",
       "    <tr>\n",
       "      <th>11</th>\n",
       "      <td>0.2</td>\n",
       "      <td>Grand total</td>\n",
       "      <td>1058227.0</td>\n",
       "      <td>187.6</td>\n",
       "      <td>NaN</td>\n",
       "    </tr>\n",
       "    <tr>\n",
       "      <th>0</th>\n",
       "      <td>0.1</td>\n",
       "      <td>Lighting, facility</td>\n",
       "      <td>297355.0</td>\n",
       "      <td>52.7</td>\n",
       "      <td>33.85</td>\n",
       "    </tr>\n",
       "    <tr>\n",
       "      <th>1</th>\n",
       "      <td>0.1</td>\n",
       "      <td>Electric cooling</td>\n",
       "      <td>28689.0</td>\n",
       "      <td>5.1</td>\n",
       "      <td>72.73</td>\n",
       "    </tr>\n",
       "    <tr>\n",
       "      <th>2</th>\n",
       "      <td>0.1</td>\n",
       "      <td>HVAC aux</td>\n",
       "      <td>161593.0</td>\n",
       "      <td>28.6</td>\n",
       "      <td>19.35</td>\n",
       "    </tr>\n",
       "    <tr>\n",
       "      <th>3</th>\n",
       "      <td>0.1</td>\n",
       "      <td>Total, Facility electric</td>\n",
       "      <td>487637.0</td>\n",
       "      <td>86.4</td>\n",
       "      <td>NaN</td>\n",
       "    </tr>\n",
       "    <tr>\n",
       "      <th>4</th>\n",
       "      <td>0.1</td>\n",
       "      <td>NaN</td>\n",
       "      <td>NaN</td>\n",
       "      <td>NaN</td>\n",
       "      <td>NaN</td>\n",
       "    </tr>\n",
       "    <tr>\n",
       "      <th>5</th>\n",
       "      <td>0.1</td>\n",
       "      <td>Fuel heating</td>\n",
       "      <td>347576.0</td>\n",
       "      <td>61.6</td>\n",
       "      <td>317.30</td>\n",
       "    </tr>\n",
       "    <tr>\n",
       "      <th>6</th>\n",
       "      <td>0.1</td>\n",
       "      <td>Domestic hot water</td>\n",
       "      <td>0.0</td>\n",
       "      <td>0.0</td>\n",
       "      <td>0.00</td>\n",
       "    </tr>\n",
       "    <tr>\n",
       "      <th>7</th>\n",
       "      <td>0.1</td>\n",
       "      <td>Total, Facility fuel*</td>\n",
       "      <td>347576.0</td>\n",
       "      <td>61.6</td>\n",
       "      <td>NaN</td>\n",
       "    </tr>\n",
       "    <tr>\n",
       "      <th>8</th>\n",
       "      <td>0.1</td>\n",
       "      <td>Total</td>\n",
       "      <td>835213.0</td>\n",
       "      <td>148.0</td>\n",
       "      <td>NaN</td>\n",
       "    </tr>\n",
       "    <tr>\n",
       "      <th>9</th>\n",
       "      <td>0.1</td>\n",
       "      <td>Equipment, tenant</td>\n",
       "      <td>223014.0</td>\n",
       "      <td>39.5</td>\n",
       "      <td>25.39</td>\n",
       "    </tr>\n",
       "    <tr>\n",
       "      <th>10</th>\n",
       "      <td>0.1</td>\n",
       "      <td>Total, Tenant electric</td>\n",
       "      <td>223014.0</td>\n",
       "      <td>39.5</td>\n",
       "      <td>NaN</td>\n",
       "    </tr>\n",
       "    <tr>\n",
       "      <th>11</th>\n",
       "      <td>0.1</td>\n",
       "      <td>Grand total</td>\n",
       "      <td>1058227.0</td>\n",
       "      <td>187.6</td>\n",
       "      <td>NaN</td>\n",
       "    </tr>\n",
       "  </tbody>\n",
       "</table>\n",
       "</div>"
      ],
      "text/plain": [
       "     wwr                  facility        kwh  kwh/m2      kw\n",
       "0      0        Lighting, facility   297355.0    52.7   33.85\n",
       "1      0          Electric cooling    28689.0     5.1   72.73\n",
       "2      0                  HVAC aux   161593.0    28.6   19.35\n",
       "3      0  Total, Facility electric   487637.0    86.4     NaN\n",
       "4      0                       NaN        NaN     NaN     NaN\n",
       "5      0              Fuel heating   347576.0    61.6  317.30\n",
       "6      0        Domestic hot water        0.0     0.0    0.00\n",
       "7      0     Total, Facility fuel*   347576.0    61.6     NaN\n",
       "8      0                     Total   835213.0   148.0     NaN\n",
       "9      0         Equipment, tenant   223014.0    39.5   25.39\n",
       "10     0    Total, Tenant electric   223014.0    39.5     NaN\n",
       "11     0               Grand total  1058227.0   187.6     NaN\n",
       "0   0.25        Lighting, facility   297355.0    52.7   33.85\n",
       "1   0.25          Electric cooling    28689.0     5.1   72.73\n",
       "2   0.25                  HVAC aux   161593.0    28.6   19.35\n",
       "3   0.25  Total, Facility electric   487637.0    86.4     NaN\n",
       "4   0.25                       NaN        NaN     NaN     NaN\n",
       "5   0.25              Fuel heating   347576.0    61.6  317.30\n",
       "6   0.25        Domestic hot water        0.0     0.0    0.00\n",
       "7   0.25     Total, Facility fuel*   347576.0    61.6     NaN\n",
       "8   0.25                     Total   835213.0   148.0     NaN\n",
       "9   0.25         Equipment, tenant   223014.0    39.5   25.39\n",
       "10  0.25    Total, Tenant electric   223014.0    39.5     NaN\n",
       "11  0.25               Grand total  1058227.0   187.6     NaN\n",
       "0    0.2        Lighting, facility   297355.0    52.7   33.85\n",
       "1    0.2          Electric cooling    28689.0     5.1   72.73\n",
       "2    0.2                  HVAC aux   161593.0    28.6   19.35\n",
       "3    0.2  Total, Facility electric   487637.0    86.4     NaN\n",
       "4    0.2                       NaN        NaN     NaN     NaN\n",
       "5    0.2              Fuel heating   347576.0    61.6  317.30\n",
       "6    0.2        Domestic hot water        0.0     0.0    0.00\n",
       "7    0.2     Total, Facility fuel*   347576.0    61.6     NaN\n",
       "8    0.2                     Total   835213.0   148.0     NaN\n",
       "9    0.2         Equipment, tenant   223014.0    39.5   25.39\n",
       "10   0.2    Total, Tenant electric   223014.0    39.5     NaN\n",
       "11   0.2               Grand total  1058227.0   187.6     NaN\n",
       "0    0.1        Lighting, facility   297355.0    52.7   33.85\n",
       "1    0.1          Electric cooling    28689.0     5.1   72.73\n",
       "2    0.1                  HVAC aux   161593.0    28.6   19.35\n",
       "3    0.1  Total, Facility electric   487637.0    86.4     NaN\n",
       "4    0.1                       NaN        NaN     NaN     NaN\n",
       "5    0.1              Fuel heating   347576.0    61.6  317.30\n",
       "6    0.1        Domestic hot water        0.0     0.0    0.00\n",
       "7    0.1     Total, Facility fuel*   347576.0    61.6     NaN\n",
       "8    0.1                     Total   835213.0   148.0     NaN\n",
       "9    0.1         Equipment, tenant   223014.0    39.5   25.39\n",
       "10   0.1    Total, Tenant electric   223014.0    39.5     NaN\n",
       "11   0.1               Grand total  1058227.0   187.6     NaN"
      ]
     },
     "execution_count": 47,
     "metadata": {},
     "output_type": "execute_result"
    }
   ],
   "source": [
    "df_tot = pd.concat([df1,df2, df3, df4],axis=0)\n",
    "df_tot"
   ]
  },
  {
   "cell_type": "code",
   "execution_count": 20,
   "metadata": {},
   "outputs": [
    {
     "data": {
      "text/html": [
       "<div>\n",
       "<style scoped>\n",
       "    .dataframe tbody tr th:only-of-type {\n",
       "        vertical-align: middle;\n",
       "    }\n",
       "\n",
       "    .dataframe tbody tr th {\n",
       "        vertical-align: top;\n",
       "    }\n",
       "\n",
       "    .dataframe thead th {\n",
       "        text-align: right;\n",
       "    }\n",
       "</style>\n",
       "<table border=\"1\" class=\"dataframe\">\n",
       "  <thead>\n",
       "    <tr style=\"text-align: right;\">\n",
       "      <th></th>\n",
       "      <th>color</th>\n",
       "      <th>facility</th>\n",
       "      <th>kwh</th>\n",
       "      <th>kwh/m2</th>\n",
       "      <th>kw</th>\n",
       "    </tr>\n",
       "  </thead>\n",
       "  <tbody>\n",
       "    <tr>\n",
       "      <th>11</th>\n",
       "      <td>NaN</td>\n",
       "      <td>Grand total</td>\n",
       "      <td>1058227.0</td>\n",
       "      <td>187.6</td>\n",
       "      <td>NaN</td>\n",
       "    </tr>\n",
       "  </tbody>\n",
       "</table>\n",
       "</div>"
      ],
      "text/plain": [
       "   color     facility        kwh  kwh/m2  kw\n",
       "11   NaN  Grand total  1058227.0   187.6 NaN"
      ]
     },
     "execution_count": 20,
     "metadata": {},
     "output_type": "execute_result"
    }
   ],
   "source": [
    "a = df.loc[df['facility'] == 'Grand total']\n",
    "a"
   ]
  },
  {
   "cell_type": "code",
   "execution_count": 53,
   "metadata": {},
   "outputs": [
    {
     "data": {
      "text/html": [
       "<div>\n",
       "<style scoped>\n",
       "    .dataframe tbody tr th:only-of-type {\n",
       "        vertical-align: middle;\n",
       "    }\n",
       "\n",
       "    .dataframe tbody tr th {\n",
       "        vertical-align: top;\n",
       "    }\n",
       "\n",
       "    .dataframe thead th {\n",
       "        text-align: right;\n",
       "    }\n",
       "</style>\n",
       "<table border=\"1\" class=\"dataframe\">\n",
       "  <thead>\n",
       "    <tr style=\"text-align: right;\">\n",
       "      <th></th>\n",
       "      <th>wwr</th>\n",
       "      <th>facility</th>\n",
       "      <th>kwh</th>\n",
       "      <th>kwh/m2</th>\n",
       "      <th>kw</th>\n",
       "    </tr>\n",
       "  </thead>\n",
       "  <tbody>\n",
       "    <tr>\n",
       "      <th>11</th>\n",
       "      <td>0</td>\n",
       "      <td>Grand total</td>\n",
       "      <td>1058227.0</td>\n",
       "      <td>187.6</td>\n",
       "      <td>NaN</td>\n",
       "    </tr>\n",
       "    <tr>\n",
       "      <th>11</th>\n",
       "      <td>0.25</td>\n",
       "      <td>Grand total</td>\n",
       "      <td>1058227.0</td>\n",
       "      <td>187.6</td>\n",
       "      <td>NaN</td>\n",
       "    </tr>\n",
       "    <tr>\n",
       "      <th>11</th>\n",
       "      <td>0.2</td>\n",
       "      <td>Grand total</td>\n",
       "      <td>1058227.0</td>\n",
       "      <td>187.6</td>\n",
       "      <td>NaN</td>\n",
       "    </tr>\n",
       "    <tr>\n",
       "      <th>11</th>\n",
       "      <td>0.1</td>\n",
       "      <td>Grand total</td>\n",
       "      <td>1058227.0</td>\n",
       "      <td>187.6</td>\n",
       "      <td>NaN</td>\n",
       "    </tr>\n",
       "  </tbody>\n",
       "</table>\n",
       "</div>"
      ],
      "text/plain": [
       "     wwr     facility        kwh  kwh/m2  kw\n",
       "11     0  Grand total  1058227.0   187.6 NaN\n",
       "11  0.25  Grand total  1058227.0   187.6 NaN\n",
       "11   0.2  Grand total  1058227.0   187.6 NaN\n",
       "11   0.1  Grand total  1058227.0   187.6 NaN"
      ]
     },
     "execution_count": 53,
     "metadata": {},
     "output_type": "execute_result"
    }
   ],
   "source": [
    "subdf = df_tot[df_tot['facility'] == 'Grand total']\n",
    "subdf"
   ]
  },
  {
   "cell_type": "code",
   "execution_count": 56,
   "metadata": {},
   "outputs": [
    {
     "data": {
      "image/png": "[encoded data removed]",
      "text/plain": [
       "<Figure size 432x288 with 1 Axes>"
      ]
     },
     "metadata": {
      "needs_background": "light"
     },
     "output_type": "display_data"
    }
   ],
   "source": [
    "import matplotlib.pyplot as plt\n",
    "\n",
    "\n",
    "fig = plt.figure()\n",
    "plt.plot(subdf['wwr'], subdf['kwh'], color='tab:blue')\n",
    "plt.title('kwh')\n",
    "plt.show()"
   ]
  },
  {
   "cell_type": "code",
   "execution_count": null,
   "metadata": {},
   "outputs": [],
   "source": []
  },
  {
   "cell_type": "code",
   "execution_count": 39,
   "metadata": {},
   "outputs": [],
   "source": [
    "result = {}\n",
    "for row in soup.findAll('tr'):\n",
    "    tds = row.findAll('td')\n",
    "    for i in range(len(tds)):\n",
    "        if 'Grand total' in tds[i].get_text():\n",
    "\n",
    "            result['kwh'] = float(tds[i+1].get_text())\n",
    "            result['kwhm2'] = float(tds[i+2].get_text())               "
   ]
  },
  {
   "cell_type": "code",
   "execution_count": null,
   "metadata": {},
   "outputs": [],
   "source": []
  },
  {
   "cell_type": "code",
   "execution_count": 54,
   "metadata": {},
   "outputs": [],
   "source": [
    "computational = []\n",
    "computational.append({'wwr_ratio': 0.1, 'total_time': 274.8782720565796, 'simu_time': 234.21225500106812})\n",
    "computational.append({'wwr_ratio': 0.2, 'total_time': 275.2745244503021, 'simu_time': 237.71506309509277})\n",
    "computational.append({'wwr_ratio': 0.3, 'total_time': 282.6419041156769, 'simu_time': 247.83287835121155})\n",
    "computational.append({'wwr_ratio': 0.05, 'total_time': 258.96157598495483, 'simu_time': 224.94810485839844})"
   ]
  },
  {
   "cell_type": "code",
   "execution_count": 57,
   "metadata": {},
   "outputs": [],
   "source": [
    "import pandas as pd"
   ]
  },
  {
   "cell_type": "code",
   "execution_count": 58,
   "metadata": {},
   "outputs": [],
   "source": [
    "df = pd.DataFrame(computational)"
   ]
  },
  {
   "cell_type": "code",
   "execution_count": 64,
   "metadata": {},
   "outputs": [],
   "source": [
    "df = df.sort_values(by=['wwr_ratio'])"
   ]
  },
  {
   "cell_type": "code",
   "execution_count": 65,
   "metadata": {},
   "outputs": [
    {
     "data": {
      "text/html": [
       "<div>\n",
       "<style scoped>\n",
       "    .dataframe tbody tr th:only-of-type {\n",
       "        vertical-align: middle;\n",
       "    }\n",
       "\n",
       "    .dataframe tbody tr th {\n",
       "        vertical-align: top;\n",
       "    }\n",
       "\n",
       "    .dataframe thead th {\n",
       "        text-align: right;\n",
       "    }\n",
       "</style>\n",
       "<table border=\"1\" class=\"dataframe\">\n",
       "  <thead>\n",
       "    <tr style=\"text-align: right;\">\n",
       "      <th></th>\n",
       "      <th>wwr_ratio</th>\n",
       "      <th>total_time</th>\n",
       "      <th>simu_time</th>\n",
       "    </tr>\n",
       "  </thead>\n",
       "  <tbody>\n",
       "    <tr>\n",
       "      <th>3</th>\n",
       "      <td>0.05</td>\n",
       "      <td>258.961576</td>\n",
       "      <td>224.948105</td>\n",
       "    </tr>\n",
       "    <tr>\n",
       "      <th>0</th>\n",
       "      <td>0.10</td>\n",
       "      <td>274.878272</td>\n",
       "      <td>234.212255</td>\n",
       "    </tr>\n",
       "    <tr>\n",
       "      <th>1</th>\n",
       "      <td>0.20</td>\n",
       "      <td>275.274524</td>\n",
       "      <td>237.715063</td>\n",
       "    </tr>\n",
       "    <tr>\n",
       "      <th>2</th>\n",
       "      <td>0.30</td>\n",
       "      <td>282.641904</td>\n",
       "      <td>247.832878</td>\n",
       "    </tr>\n",
       "  </tbody>\n",
       "</table>\n",
       "</div>"
      ],
      "text/plain": [
       "   wwr_ratio  total_time   simu_time\n",
       "3       0.05  258.961576  224.948105\n",
       "0       0.10  274.878272  234.212255\n",
       "1       0.20  275.274524  237.715063\n",
       "2       0.30  282.641904  247.832878"
      ]
     },
     "execution_count": 65,
     "metadata": {},
     "output_type": "execute_result"
    }
   ],
   "source": [
    "df"
   ]
  },
  {
   "cell_type": "code",
   "execution_count": 66,
   "metadata": {
    "scrolled": true
   },
   "outputs": [
    {
     "data": {
      "image/png": "[encoded data removed]",
      "text/plain": [
       "<Figure size 432x288 with 1 Axes>"
      ]
     },
     "metadata": {
      "needs_background": "light"
     },
     "output_type": "display_data"
    }
   ],
   "source": [
    "import matplotlib.pyplot as plt\n",
    "\n",
    "\n",
    "fig = plt.figure()\n",
    "plt.plot(df['wwr_ratio'], df['total_time'], color='tab:blue')\n",
    "plt.title('wwr VS total time')\n",
    "plt.show()"
   ]
  },
  {
   "cell_type": "code",
   "execution_count": 75,
   "metadata": {},
   "outputs": [
    {
     "data": {
      "application/vnd.plotly.v1+json": {
       "config": {
        "plotlyServerURL": "https://plot.ly"
       },
       "data": [
        {
         "name": "Total time",
         "type": "scatter",
         "x": [
          0.05,
          0.1,
          0.2,
          0.3
         ],
         "y": [
          258.96157598495483,
          274.8782720565796,
          275.2745244503021,
          282.6419041156769
         ]
        },
        {
         "name": "Simulation time",
         "type": "scatter",
         "x": [
          0.05,
          0.1,
          0.2,
          0.3
         ],
         "y": [
          224.94810485839844,
          234.21225500106812,
          237.71506309509277,
          247.83287835121155
         ]
        }
       ],
       "layout": {
        "template": {
         "data": {
          "bar": [
           {
            "error_x": {
             "color": "#2a3f5f"
            },
            "error_y": {
             "color": "#2a3f5f"
            },
            "marker": {
             "line": {
              "color": "#E5ECF6",
              "width": 0.5
             }
            },
            "type": "bar"
           }
          ],
          "barpolar": [
           {
            "marker": {
             "line": {
              "color": "#E5ECF6",
              "width": 0.5
             }
            },
            "type": "barpolar"
           }
          ],
          "carpet": [
           {
            "aaxis": {
             "endlinecolor": "#2a3f5f",
             "gridcolor": "white",
             "linecolor": "white",
             "minorgridcolor": "white",
             "startlinecolor": "#2a3f5f"
            },
            "baxis": {
             "endlinecolor": "#2a3f5f",
             "gridcolor": "white",
             "linecolor": "white",
             "minorgridcolor": "white",
             "startlinecolor": "#2a3f5f"
            },
            "type": "carpet"
           }
          ],
          "choropleth": [
           {
            "colorbar": {
             "outlinewidth": 0,
             "ticks": ""
            },
            "type": "choropleth"
           }
          ],
          "contour": [
           {
            "colorbar": {
             "outlinewidth": 0,
             "ticks": ""
            },
            "colorscale": [
             [
              0,
              "#0d0887"
             ],
             [
              0.1111111111111111,
              "#46039f"
             ],
             [
              0.2222222222222222,
              "#7201a8"
             ],
             [
              0.3333333333333333,
              "#9c179e"
             ],
             [
              0.4444444444444444,
              "#bd3786"
             ],
             [
              0.5555555555555556,
              "#d8576b"
             ],
             [
              0.6666666666666666,
              "#ed7953"
             ],
             [
              0.7777777777777778,
              "#fb9f3a"
             ],
             [
              0.8888888888888888,
              "#fdca26"
             ],
             [
              1,
              "#f0f921"
             ]
            ],
            "type": "contour"
           }
          ],
          "contourcarpet": [
           {
            "colorbar": {
             "outlinewidth": 0,
             "ticks": ""
            },
            "type": "contourcarpet"
           }
          ],
          "heatmap": [
           {
            "colorbar": {
             "outlinewidth": 0,
             "ticks": ""
            },
            "colorscale": [
             [
              0,
              "#0d0887"
             ],
             [
              0.1111111111111111,
              "#46039f"
             ],
             [
              0.2222222222222222,
              "#7201a8"
             ],
             [
              0.3333333333333333,
              "#9c179e"
             ],
             [
              0.4444444444444444,
              "#bd3786"
             ],
             [
              0.5555555555555556,
              "#d8576b"
             ],
             [
              0.6666666666666666,
              "#ed7953"
             ],
             [
              0.7777777777777778,
              "#fb9f3a"
             ],
             [
              0.8888888888888888,
              "#fdca26"
             ],
             [
              1,
              "#f0f921"
             ]
            ],
            "type": "heatmap"
           }
          ],
          "heatmapgl": [
           {
            "colorbar": {
             "outlinewidth": 0,
             "ticks": ""
            },
            "colorscale": [
             [
              0,
              "#0d0887"
             ],
             [
              0.1111111111111111,
              "#46039f"
             ],
             [
              0.2222222222222222,
              "#7201a8"
             ],
             [
              0.3333333333333333,
              "#9c179e"
             ],
             [
              0.4444444444444444,
              "#bd3786"
             ],
             [
              0.5555555555555556,
              "#d8576b"
             ],
             [
              0.6666666666666666,
              "#ed7953"
             ],
             [
              0.7777777777777778,
              "#fb9f3a"
             ],
             [
              0.8888888888888888,
              "#fdca26"
             ],
             [
              1,
              "#f0f921"
             ]
            ],
            "type": "heatmapgl"
           }
          ],
          "histogram": [
           {
            "marker": {
             "colorbar": {
              "outlinewidth": 0,
              "ticks": ""
             }
            },
            "type": "histogram"
           }
          ],
          "histogram2d": [
           {
            "colorbar": {
             "outlinewidth": 0,
             "ticks": ""
            },
            "colorscale": [
             [
              0,
              "#0d0887"
             ],
             [
              0.1111111111111111,
              "#46039f"
             ],
             [
              0.2222222222222222,
              "#7201a8"
             ],
             [
              0.3333333333333333,
              "#9c179e"
             ],
             [
              0.4444444444444444,
              "#bd3786"
             ],
             [
              0.5555555555555556,
              "#d8576b"
             ],
             [
              0.6666666666666666,
              "#ed7953"
             ],
             [
              0.7777777777777778,
              "#fb9f3a"
             ],
             [
              0.8888888888888888,
              "#fdca26"
             ],
             [
              1,
              "#f0f921"
             ]
            ],
            "type": "histogram2d"
           }
          ],
          "histogram2dcontour": [
           {
            "colorbar": {
             "outlinewidth": 0,
             "ticks": ""
            },
            "colorscale": [
             [
              0,
              "#0d0887"
             ],
             [
              0.1111111111111111,
              "#46039f"
             ],
             [
              0.2222222222222222,
              "#7201a8"
             ],
             [
              0.3333333333333333,
              "#9c179e"
             ],
             [
              0.4444444444444444,
              "#bd3786"
             ],
             [
              0.5555555555555556,
              "#d8576b"
             ],
             [
              0.6666666666666666,
              "#ed7953"
             ],
             [
              0.7777777777777778,
              "#fb9f3a"
             ],
             [
              0.8888888888888888,
              "#fdca26"
             ],
             [
              1,
              "#f0f921"
             ]
            ],
            "type": "histogram2dcontour"
           }
          ],
          "mesh3d": [
           {
            "colorbar": {
             "outlinewidth": 0,
             "ticks": ""
            },
            "type": "mesh3d"
           }
          ],
          "parcoords": [
           {
            "line": {
             "colorbar": {
              "outlinewidth": 0,
              "ticks": ""
             }
            },
            "type": "parcoords"
           }
          ],
          "pie": [
           {
            "automargin": true,
            "type": "pie"
           }
          ],
          "scatter": [
           {
            "marker": {
             "colorbar": {
              "outlinewidth": 0,
              "ticks": ""
             }
            },
            "type": "scatter"
           }
          ],
          "scatter3d": [
           {
            "line": {
             "colorbar": {
              "outlinewidth": 0,
              "ticks": ""
             }
            },
            "marker": {
             "colorbar": {
              "outlinewidth": 0,
              "ticks": ""
             }
            },
            "type": "scatter3d"
           }
          ],
          "scattercarpet": [
           {
            "marker": {
             "colorbar": {
              "outlinewidth": 0,
              "ticks": ""
             }
            },
            "type": "scattercarpet"
           }
          ],
          "scattergeo": [
           {
            "marker": {
             "colorbar": {
              "outlinewidth": 0,
              "ticks": ""
             }
            },
            "type": "scattergeo"
           }
          ],
          "scattergl": [
           {
            "marker": {
             "colorbar": {
              "outlinewidth": 0,
              "ticks": ""
             }
            },
            "type": "scattergl"
           }
          ],
          "scattermapbox": [
           {
            "marker": {
             "colorbar": {
              "outlinewidth": 0,
              "ticks": ""
             }
            },
            "type": "scattermapbox"
           }
          ],
          "scatterpolar": [
           {
            "marker": {
             "colorbar": {
              "outlinewidth": 0,
              "ticks": ""
             }
            },
            "type": "scatterpolar"
           }
          ],
          "scatterpolargl": [
           {
            "marker": {
             "colorbar": {
              "outlinewidth": 0,
              "ticks": ""
             }
            },
            "type": "scatterpolargl"
           }
          ],
          "scatterternary": [
           {
            "marker": {
             "colorbar": {
              "outlinewidth": 0,
              "ticks": ""
             }
            },
            "type": "scatterternary"
           }
          ],
          "surface": [
           {
            "colorbar": {
             "outlinewidth": 0,
             "ticks": ""
            },
            "colorscale": [
             [
              0,
              "#0d0887"
             ],
             [
              0.1111111111111111,
              "#46039f"
             ],
             [
              0.2222222222222222,
              "#7201a8"
             ],
             [
              0.3333333333333333,
              "#9c179e"
             ],
             [
              0.4444444444444444,
              "#bd3786"
             ],
             [
              0.5555555555555556,
              "#d8576b"
             ],
             [
              0.6666666666666666,
              "#ed7953"
             ],
             [
              0.7777777777777778,
              "#fb9f3a"
             ],
             [
              0.8888888888888888,
              "#fdca26"
             ],
             [
              1,
              "#f0f921"
             ]
            ],
            "type": "surface"
           }
          ],
          "table": [
           {
            "cells": {
             "fill": {
              "color": "#EBF0F8"
             },
             "line": {
              "color": "white"
             }
            },
            "header": {
             "fill": {
              "color": "#C8D4E3"
             },
             "line": {
              "color": "white"
             }
            },
            "type": "table"
           }
          ]
         },
         "layout": {
          "annotationdefaults": {
           "arrowcolor": "#2a3f5f",
           "arrowhead": 0,
           "arrowwidth": 1
          },
          "coloraxis": {
           "colorbar": {
            "outlinewidth": 0,
            "ticks": ""
           }
          },
          "colorscale": {
           "diverging": [
            [
             0,
             "#8e0152"
            ],
            [
             0.1,
             "#c51b7d"
            ],
            [
             0.2,
             "#de77ae"
            ],
            [
             0.3,
             "#f1b6da"
            ],
            [
             0.4,
             "#fde0ef"
            ],
            [
             0.5,
             "#f7f7f7"
            ],
            [
             0.6,
             "#e6f5d0"
            ],
            [
             0.7,
             "#b8e186"
            ],
            [
             0.8,
             "#7fbc41"
            ],
            [
             0.9,
             "#4d9221"
            ],
            [
             1,
             "#276419"
            ]
           ],
           "sequential": [
            [
             0,
             "#0d0887"
            ],
            [
             0.1111111111111111,
             "#46039f"
            ],
            [
             0.2222222222222222,
             "#7201a8"
            ],
            [
             0.3333333333333333,
             "#9c179e"
            ],
            [
             0.4444444444444444,
             "#bd3786"
            ],
            [
             0.5555555555555556,
             "#d8576b"
            ],
            [
             0.6666666666666666,
             "#ed7953"
            ],
            [
             0.7777777777777778,
             "#fb9f3a"
            ],
            [
             0.8888888888888888,
             "#fdca26"
            ],
            [
             1,
             "#f0f921"
            ]
           ],
           "sequentialminus": [
            [
             0,
             "#0d0887"
            ],
            [
             0.1111111111111111,
             "#46039f"
            ],
            [
             0.2222222222222222,
             "#7201a8"
            ],
            [
             0.3333333333333333,
             "#9c179e"
            ],
            [
             0.4444444444444444,
             "#bd3786"
            ],
            [
             0.5555555555555556,
             "#d8576b"
            ],
            [
             0.6666666666666666,
             "#ed7953"
            ],
            [
             0.7777777777777778,
             "#fb9f3a"
            ],
            [
             0.8888888888888888,
             "#fdca26"
            ],
            [
             1,
             "#f0f921"
            ]
           ]
          },
          "colorway": [
           "#636efa",
           "#EF553B",
           "#00cc96",
           "#ab63fa",
           "#FFA15A",
           "#19d3f3",
           "#FF6692",
           "#B6E880",
           "#FF97FF",
           "#FECB52"
          ],
          "font": {
           "color": "#2a3f5f"
          },
          "geo": {
           "bgcolor": "white",
           "lakecolor": "white",
           "landcolor": "#E5ECF6",
           "showlakes": true,
           "showland": true,
           "subunitcolor": "white"
          },
          "hoverlabel": {
           "align": "left"
          },
          "hovermode": "closest",
          "mapbox": {
           "style": "light"
          },
          "paper_bgcolor": "white",
          "plot_bgcolor": "#E5ECF6",
          "polar": {
           "angularaxis": {
            "gridcolor": "white",
            "linecolor": "white",
            "ticks": ""
           },
           "bgcolor": "#E5ECF6",
           "radialaxis": {
            "gridcolor": "white",
            "linecolor": "white",
            "ticks": ""
           }
          },
          "scene": {
           "xaxis": {
            "backgroundcolor": "#E5ECF6",
            "gridcolor": "white",
            "gridwidth": 2,
            "linecolor": "white",
            "showbackground": true,
            "ticks": "",
            "zerolinecolor": "white"
           },
           "yaxis": {
            "backgroundcolor": "#E5ECF6",
            "gridcolor": "white",
            "gridwidth": 2,
            "linecolor": "white",
            "showbackground": true,
            "ticks": "",
            "zerolinecolor": "white"
           },
           "zaxis": {
            "backgroundcolor": "#E5ECF6",
            "gridcolor": "white",
            "gridwidth": 2,
            "linecolor": "white",
            "showbackground": true,
            "ticks": "",
            "zerolinecolor": "white"
           }
          },
          "shapedefaults": {
           "line": {
            "color": "#2a3f5f"
           }
          },
          "ternary": {
           "aaxis": {
            "gridcolor": "white",
            "linecolor": "white",
            "ticks": ""
           },
           "baxis": {
            "gridcolor": "white",
            "linecolor": "white",
            "ticks": ""
           },
           "bgcolor": "#E5ECF6",
           "caxis": {
            "gridcolor": "white",
            "linecolor": "white",
            "ticks": ""
           }
          },
          "title": {
           "x": 0.05
          },
          "xaxis": {
           "automargin": true,
           "gridcolor": "white",
           "linecolor": "white",
           "ticks": "",
           "title": {
            "standoff": 15
           },
           "zerolinecolor": "white",
           "zerolinewidth": 2
          },
          "yaxis": {
           "automargin": true,
           "gridcolor": "white",
           "linecolor": "white",
           "ticks": "",
           "title": {
            "standoff": 15
           },
           "zerolinecolor": "white",
           "zerolinewidth": 2
          }
         }
        }
       }
      },
      "text/html": [
       "<div>\n",
       "        \n",
       "        \n",
       "            <div id=\"7324a4f0-21e9-48e9-81fe-16fb21b72468\" class=\"plotly-graph-div\" style=\"height:525px; width:100%;\"></div>\n",
       "            <script type=\"text/javascript\">\n",
       "                require([\"plotly\"], function(Plotly) {\n",
       "                    window.PLOTLYENV=window.PLOTLYENV || {};\n",
       "                    \n",
       "                if (document.getElementById(\"7324a4f0-21e9-48e9-81fe-16fb21b72468\")) {\n",
       "                    Plotly.newPlot(\n",
       "                        '7324a4f0-21e9-48e9-81fe-16fb21b72468',\n",
       "                        [{\"name\": \"Total time\", \"type\": \"scatter\", \"x\": [0.05, 0.1, 0.2, 0.3], \"y\": [258.96157598495483, 274.8782720565796, 275.2745244503021, 282.6419041156769]}, {\"name\": \"Simulation time\", \"type\": \"scatter\", \"x\": [0.05, 0.1, 0.2, 0.3], \"y\": [224.94810485839844, 234.21225500106812, 237.71506309509277, 247.83287835121155]}],\n",
       "                        {\"template\": {\"data\": {\"bar\": [{\"error_x\": {\"color\": \"#2a3f5f\"}, \"error_y\": {\"color\": \"#2a3f5f\"}, \"marker\": {\"line\": {\"color\": \"#E5ECF6\", \"width\": 0.5}}, \"type\": \"bar\"}], \"barpolar\": [{\"marker\": {\"line\": {\"color\": \"#E5ECF6\", \"width\": 0.5}}, \"type\": \"barpolar\"}], \"carpet\": [{\"aaxis\": {\"endlinecolor\": \"#2a3f5f\", \"gridcolor\": \"white\", \"linecolor\": \"white\", \"minorgridcolor\": \"white\", \"startlinecolor\": \"#2a3f5f\"}, \"baxis\": {\"endlinecolor\": \"#2a3f5f\", \"gridcolor\": \"white\", \"linecolor\": \"white\", \"minorgridcolor\": \"white\", \"startlinecolor\": \"#2a3f5f\"}, \"type\": \"carpet\"}], \"choropleth\": [{\"colorbar\": {\"outlinewidth\": 0, \"ticks\": \"\"}, \"type\": \"choropleth\"}], \"contour\": [{\"colorbar\": {\"outlinewidth\": 0, \"ticks\": \"\"}, \"colorscale\": [[0.0, \"#0d0887\"], [0.1111111111111111, \"#46039f\"], [0.2222222222222222, \"#7201a8\"], [0.3333333333333333, \"#9c179e\"], [0.4444444444444444, \"#bd3786\"], [0.5555555555555556, \"#d8576b\"], [0.6666666666666666, \"#ed7953\"], [0.7777777777777778, \"#fb9f3a\"], [0.8888888888888888, \"#fdca26\"], [1.0, \"#f0f921\"]], \"type\": \"contour\"}], \"contourcarpet\": [{\"colorbar\": {\"outlinewidth\": 0, \"ticks\": \"\"}, \"type\": \"contourcarpet\"}], \"heatmap\": [{\"colorbar\": {\"outlinewidth\": 0, \"ticks\": \"\"}, \"colorscale\": [[0.0, \"#0d0887\"], [0.1111111111111111, \"#46039f\"], [0.2222222222222222, \"#7201a8\"], [0.3333333333333333, \"#9c179e\"], [0.4444444444444444, \"#bd3786\"], [0.5555555555555556, \"#d8576b\"], [0.6666666666666666, \"#ed7953\"], [0.7777777777777778, \"#fb9f3a\"], [0.8888888888888888, \"#fdca26\"], [1.0, \"#f0f921\"]], \"type\": \"heatmap\"}], \"heatmapgl\": [{\"colorbar\": {\"outlinewidth\": 0, \"ticks\": \"\"}, \"colorscale\": [[0.0, \"#0d0887\"], [0.1111111111111111, \"#46039f\"], [0.2222222222222222, \"#7201a8\"], [0.3333333333333333, \"#9c179e\"], [0.4444444444444444, \"#bd3786\"], [0.5555555555555556, \"#d8576b\"], [0.6666666666666666, \"#ed7953\"], [0.7777777777777778, \"#fb9f3a\"], [0.8888888888888888, \"#fdca26\"], [1.0, \"#f0f921\"]], \"type\": \"heatmapgl\"}], \"histogram\": [{\"marker\": {\"colorbar\": {\"outlinewidth\": 0, \"ticks\": \"\"}}, \"type\": \"histogram\"}], \"histogram2d\": [{\"colorbar\": {\"outlinewidth\": 0, \"ticks\": \"\"}, \"colorscale\": [[0.0, \"#0d0887\"], [0.1111111111111111, \"#46039f\"], [0.2222222222222222, \"#7201a8\"], [0.3333333333333333, \"#9c179e\"], [0.4444444444444444, \"#bd3786\"], [0.5555555555555556, \"#d8576b\"], [0.6666666666666666, \"#ed7953\"], [0.7777777777777778, \"#fb9f3a\"], [0.8888888888888888, \"#fdca26\"], [1.0, \"#f0f921\"]], \"type\": \"histogram2d\"}], \"histogram2dcontour\": [{\"colorbar\": {\"outlinewidth\": 0, \"ticks\": \"\"}, \"colorscale\": [[0.0, \"#0d0887\"], [0.1111111111111111, \"#46039f\"], [0.2222222222222222, \"#7201a8\"], [0.3333333333333333, \"#9c179e\"], [0.4444444444444444, \"#bd3786\"], [0.5555555555555556, \"#d8576b\"], [0.6666666666666666, \"#ed7953\"], [0.7777777777777778, \"#fb9f3a\"], [0.8888888888888888, \"#fdca26\"], [1.0, \"#f0f921\"]], \"type\": \"histogram2dcontour\"}], \"mesh3d\": [{\"colorbar\": {\"outlinewidth\": 0, \"ticks\": \"\"}, \"type\": \"mesh3d\"}], \"parcoords\": [{\"line\": {\"colorbar\": {\"outlinewidth\": 0, \"ticks\": \"\"}}, \"type\": \"parcoords\"}], \"pie\": [{\"automargin\": true, \"type\": \"pie\"}], \"scatter\": [{\"marker\": {\"colorbar\": {\"outlinewidth\": 0, \"ticks\": \"\"}}, \"type\": \"scatter\"}], \"scatter3d\": [{\"line\": {\"colorbar\": {\"outlinewidth\": 0, \"ticks\": \"\"}}, \"marker\": {\"colorbar\": {\"outlinewidth\": 0, \"ticks\": \"\"}}, \"type\": \"scatter3d\"}], \"scattercarpet\": [{\"marker\": {\"colorbar\": {\"outlinewidth\": 0, \"ticks\": \"\"}}, \"type\": \"scattercarpet\"}], \"scattergeo\": [{\"marker\": {\"colorbar\": {\"outlinewidth\": 0, \"ticks\": \"\"}}, \"type\": \"scattergeo\"}], \"scattergl\": [{\"marker\": {\"colorbar\": {\"outlinewidth\": 0, \"ticks\": \"\"}}, \"type\": \"scattergl\"}], \"scattermapbox\": [{\"marker\": {\"colorbar\": {\"outlinewidth\": 0, \"ticks\": \"\"}}, \"type\": \"scattermapbox\"}], \"scatterpolar\": [{\"marker\": {\"colorbar\": {\"outlinewidth\": 0, \"ticks\": \"\"}}, \"type\": \"scatterpolar\"}], \"scatterpolargl\": [{\"marker\": {\"colorbar\": {\"outlinewidth\": 0, \"ticks\": \"\"}}, \"type\": \"scatterpolargl\"}], \"scatterternary\": [{\"marker\": {\"colorbar\": {\"outlinewidth\": 0, \"ticks\": \"\"}}, \"type\": \"scatterternary\"}], \"surface\": [{\"colorbar\": {\"outlinewidth\": 0, \"ticks\": \"\"}, \"colorscale\": [[0.0, \"#0d0887\"], [0.1111111111111111, \"#46039f\"], [0.2222222222222222, \"#7201a8\"], [0.3333333333333333, \"#9c179e\"], [0.4444444444444444, \"#bd3786\"], [0.5555555555555556, \"#d8576b\"], [0.6666666666666666, \"#ed7953\"], [0.7777777777777778, \"#fb9f3a\"], [0.8888888888888888, \"#fdca26\"], [1.0, \"#f0f921\"]], \"type\": \"surface\"}], \"table\": [{\"cells\": {\"fill\": {\"color\": \"#EBF0F8\"}, \"line\": {\"color\": \"white\"}}, \"header\": {\"fill\": {\"color\": \"#C8D4E3\"}, \"line\": {\"color\": \"white\"}}, \"type\": \"table\"}]}, \"layout\": {\"annotationdefaults\": {\"arrowcolor\": \"#2a3f5f\", \"arrowhead\": 0, \"arrowwidth\": 1}, \"coloraxis\": {\"colorbar\": {\"outlinewidth\": 0, \"ticks\": \"\"}}, \"colorscale\": {\"diverging\": [[0, \"#8e0152\"], [0.1, \"#c51b7d\"], [0.2, \"#de77ae\"], [0.3, \"#f1b6da\"], [0.4, \"#fde0ef\"], [0.5, \"#f7f7f7\"], [0.6, \"#e6f5d0\"], [0.7, \"#b8e186\"], [0.8, \"#7fbc41\"], [0.9, \"#4d9221\"], [1, \"#276419\"]], \"sequential\": [[0.0, \"#0d0887\"], [0.1111111111111111, \"#46039f\"], [0.2222222222222222, \"#7201a8\"], [0.3333333333333333, \"#9c179e\"], [0.4444444444444444, \"#bd3786\"], [0.5555555555555556, \"#d8576b\"], [0.6666666666666666, \"#ed7953\"], [0.7777777777777778, \"#fb9f3a\"], [0.8888888888888888, \"#fdca26\"], [1.0, \"#f0f921\"]], \"sequentialminus\": [[0.0, \"#0d0887\"], [0.1111111111111111, \"#46039f\"], [0.2222222222222222, \"#7201a8\"], [0.3333333333333333, \"#9c179e\"], [0.4444444444444444, \"#bd3786\"], [0.5555555555555556, \"#d8576b\"], [0.6666666666666666, \"#ed7953\"], [0.7777777777777778, \"#fb9f3a\"], [0.8888888888888888, \"#fdca26\"], [1.0, \"#f0f921\"]]}, \"colorway\": [\"#636efa\", \"#EF553B\", \"#00cc96\", \"#ab63fa\", \"#FFA15A\", \"#19d3f3\", \"#FF6692\", \"#B6E880\", \"#FF97FF\", \"#FECB52\"], \"font\": {\"color\": \"#2a3f5f\"}, \"geo\": {\"bgcolor\": \"white\", \"lakecolor\": \"white\", \"landcolor\": \"#E5ECF6\", \"showlakes\": true, \"showland\": true, \"subunitcolor\": \"white\"}, \"hoverlabel\": {\"align\": \"left\"}, \"hovermode\": \"closest\", \"mapbox\": {\"style\": \"light\"}, \"paper_bgcolor\": \"white\", \"plot_bgcolor\": \"#E5ECF6\", \"polar\": {\"angularaxis\": {\"gridcolor\": \"white\", \"linecolor\": \"white\", \"ticks\": \"\"}, \"bgcolor\": \"#E5ECF6\", \"radialaxis\": {\"gridcolor\": \"white\", \"linecolor\": \"white\", \"ticks\": \"\"}}, \"scene\": {\"xaxis\": {\"backgroundcolor\": \"#E5ECF6\", \"gridcolor\": \"white\", \"gridwidth\": 2, \"linecolor\": \"white\", \"showbackground\": true, \"ticks\": \"\", \"zerolinecolor\": \"white\"}, \"yaxis\": {\"backgroundcolor\": \"#E5ECF6\", \"gridcolor\": \"white\", \"gridwidth\": 2, \"linecolor\": \"white\", \"showbackground\": true, \"ticks\": \"\", \"zerolinecolor\": \"white\"}, \"zaxis\": {\"backgroundcolor\": \"#E5ECF6\", \"gridcolor\": \"white\", \"gridwidth\": 2, \"linecolor\": \"white\", \"showbackground\": true, \"ticks\": \"\", \"zerolinecolor\": \"white\"}}, \"shapedefaults\": {\"line\": {\"color\": \"#2a3f5f\"}}, \"ternary\": {\"aaxis\": {\"gridcolor\": \"white\", \"linecolor\": \"white\", \"ticks\": \"\"}, \"baxis\": {\"gridcolor\": \"white\", \"linecolor\": \"white\", \"ticks\": \"\"}, \"bgcolor\": \"#E5ECF6\", \"caxis\": {\"gridcolor\": \"white\", \"linecolor\": \"white\", \"ticks\": \"\"}}, \"title\": {\"x\": 0.05}, \"xaxis\": {\"automargin\": true, \"gridcolor\": \"white\", \"linecolor\": \"white\", \"ticks\": \"\", \"title\": {\"standoff\": 15}, \"zerolinecolor\": \"white\", \"zerolinewidth\": 2}, \"yaxis\": {\"automargin\": true, \"gridcolor\": \"white\", \"linecolor\": \"white\", \"ticks\": \"\", \"title\": {\"standoff\": 15}, \"zerolinecolor\": \"white\", \"zerolinewidth\": 2}}}},\n",
       "                        {\"responsive\": true}\n",
       "                    ).then(function(){\n",
       "                            \n",
       "var gd = document.getElementById('7324a4f0-21e9-48e9-81fe-16fb21b72468');\n",
       "var x = new MutationObserver(function (mutations, observer) {{\n",
       "        var display = window.getComputedStyle(gd).display;\n",
       "        if (!display || display === 'none') {{\n",
       "            console.log([gd, 'removed!']);\n",
       "            Plotly.purge(gd);\n",
       "            observer.disconnect();\n",
       "        }}\n",
       "}});\n",
       "\n",
       "// Listen for the removal of the full notebook cells\n",
       "var notebookContainer = gd.closest('#notebook-container');\n",
       "if (notebookContainer) {{\n",
       "    x.observe(notebookContainer, {childList: true});\n",
       "}}\n",
       "\n",
       "// Listen for the clearing of the current output cell\n",
       "var outputEl = gd.closest('.output');\n",
       "if (outputEl) {{\n",
       "    x.observe(outputEl, {childList: true});\n",
       "}}\n",
       "\n",
       "                        })\n",
       "                };\n",
       "                });\n",
       "            </script>\n",
       "        </div>"
      ]
     },
     "metadata": {},
     "output_type": "display_data"
    }
   ],
   "source": [
    "import plotly.graph_objects as go\n",
    "\n",
    "fig = go.Figure()\n",
    "fig.add_trace(go.Scatter(x= df[\"wwr_ratio\"], y=df[\"total_time\"], \n",
    "#                     mode='lines',\n",
    "                    name='Total time'))\n",
    "fig.add_trace(go.Scatter(x= df[\"wwr_ratio\"], y=df[\"simu_time\"],\n",
    "#                     mode='lines',\n",
    "                    name='Simulation time'))\n",
    "\n",
    "fig.show()"
   ]
  },
  {
   "cell_type": "code",
   "execution_count": null,
   "metadata": {},
   "outputs": [],
   "source": []
  }
 ],
 "metadata": {
  "kernelspec": {
   "display_name": "Python 3",
   "language": "python",
   "name": "python3"
  },
  "language_info": {
   "codemirror_mode": {
    "name": "ipython",
    "version": 3
   },
   "file_extension": ".py",
   "mimetype": "text/x-python",
   "name": "python",
   "nbconvert_exporter": "python",
   "pygments_lexer": "ipython3",
   "version": "3.8.2"
  }
 },
 "nbformat": 4,
 "nbformat_minor": 4
}
